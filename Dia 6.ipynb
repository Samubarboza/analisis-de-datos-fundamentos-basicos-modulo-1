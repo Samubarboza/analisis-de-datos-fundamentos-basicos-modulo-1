{
 "cells": [
  {
   "cell_type": "markdown",
   "id": "9aff8eff",
   "metadata": {},
   "source": [
    "# Dia 6 - GroupBy avanzado"
   ]
  },
  {
   "cell_type": "markdown",
   "id": "21b1bb3c",
   "metadata": {},
   "source": [
    "## Agrupaciones con múltiples columnas"
   ]
  },
  {
   "cell_type": "markdown",
   "id": "87098f8f",
   "metadata": {},
   "source": [
    "## 1) Introducción \n",
    "\n",
    "#### Tenés un dataset con miles de filas. Las preguntas del jefe ya no son “¿cuánto vendimos?”, sino:\n",
    "\n",
    "- #### ¿Cuánto vendimos por sucursal y por categoría?\n",
    "\n",
    "- #### ¿Cuál es el promedio del préstamo por región y por tipo de cliente?\n",
    "\n",
    "- #### ¿Cuántas operaciones hay por mes y por estado (aprobado/rechazado)?\n",
    "\n",
    "#### Leer fila por fila es imposible. Necesitamos resumir por grupos y, muchas veces, por más de una columna a la vez.\n",
    "---"
   ]
  },
  {
   "cell_type": "markdown",
   "id": "0dd8a5de",
   "metadata": {},
   "source": [
    "## 2) La herramienta que vamos a usar\n",
    "\n",
    "- #### `groupby([...])` de pandas para agrupar por una o varias columnas.\n",
    "\n",
    "### `¿Qué es groupby?`\n",
    "\n",
    "- #### groupby no es un método que viene adentro de la librería pandas.\n",
    "\n",
    "- #### O sea: cuando instalás pandas, ya viene incluido\n",
    "\n",
    "### ¿Qué hace?\n",
    "\n",
    "- #### Sirve para agrupar filas de un DataFrame según el valor de una o más columnas.\n",
    "\n",
    "- #### Después de agrupar, podés hacer operaciones sobre cada grupo: sumar, contar, sacar promedio, etc.\n",
    "\n",
    "#### Luego, aplicamos agregaciones que ya conocemos: `sum()`, `mean()`, `count()` (y más adelante agg combinado).\n",
    "\n",
    "#### Pieza clave de hoy: `df.groupby([\"colA\", \"colB\"])` → crea grupos por cada combinación única de `colA` y `colB`.\n",
    "---"
   ]
  },
  {
   "cell_type": "markdown",
   "id": "f190a24e",
   "metadata": {},
   "source": [
    "## 3) Concepto\n",
    "\n",
    "- #### **Agrupar** significa: juntar todas las filas que tienen el mismo valor en una columna.\n",
    "#### Ejemplo: si tengo una columna “Sucursal” y varias filas dicen “Norte”, todas esas filas se juntan en un solo grupo llamado **Norte**.\n",
    "\n",
    "- ####  **Con varias columnas**: el grupo no tiene un solo nombre, sino dos (o más).\n",
    "#### Es como poner etiquetas dobles:\n",
    "\n",
    "- #### (“Norte”, “Electrónica”) → todas las filas que sean sucursal Norte y categoría Electrónica.\n",
    "- #### (“Sur”, “Hogar”) → todas las filas que sean sucursal Sur y categoría Hogar.\n",
    "\n",
    "- #### Eso se llama **tupla**: un paquetito con varios valores juntos, como un nombre compuesto.\n",
    "\n",
    "- #### **El resultado de groupby** te devuelve algo como una tabla con “índice doble”:\n",
    "\n",
    "- #### La primera llave `(colA)` → Sucursal.\n",
    "- #### La segunda llave `(colB)` → Categoría.\n",
    "#### Así podés entrar primero por Sucursal y después por Categoría.\n",
    "\n",
    "- #### * Si querés que esa tabla quede **normalita, con un solo índice**, usás `.reset_index()`.\n",
    "#### Eso “aplana” la tabla y vuelve a poner las columnas visibles como antes.\n",
    "\n",
    "---\n",
    "\n",
    "### En resumen:\n",
    "\n",
    "- #### Agrupar = juntar filas que coinciden.\n",
    "- #### Con varias columnas = el grupo se nombra con varios valores a la vez.\n",
    "- #### El resultado queda con un “doble índice”.\n",
    "- #### Si molesta, se aplana con `.reset_index()`.\n",
    "\n",
    "---\n"
   ]
  },
  {
   "cell_type": "markdown",
   "id": "c9c91317",
   "metadata": {},
   "source": [
    "## 4) Ejemplos en código \n",
    "### Ejemplo A — Ventas por Sucursal y Categoría"
   ]
  },
  {
   "cell_type": "code",
   "execution_count": null,
   "id": "87039d8c",
   "metadata": {},
   "outputs": [
    {
     "name": "stdout",
     "output_type": "stream",
     "text": [
      "  Sucursal    Categoria  Monto\n",
      "0    Norte  Electronica   3500\n",
      "1    Norte        Hogar   1800\n",
      "2      Sur  Electronica   1200\n",
      "3      Sur        Hogar   2500\n",
      "4     Este        Hogar   2100\n",
      "5     Este         Ropa   1300\n",
      "6    Oeste  Electronica   2300\n",
      "7    Oeste         Ropa    900\n",
      "\n",
      "Sucursal  Categoria  \n",
      "Este      Hogar          2100\n",
      "          Ropa           1300\n",
      "Norte     Electronica    3500\n",
      "          Hogar          1800\n",
      "Oeste     Electronica    2300\n",
      "          Ropa            900\n",
      "Sur       Electronica    1200\n",
      "          Hogar          2500\n",
      "Name: Monto, dtype: int64\n",
      "\n",
      "  Sucursal    Categoria  Monto\n",
      "0     Este        Hogar   2100\n",
      "1     Este         Ropa   1300\n",
      "2    Norte  Electronica   3500\n",
      "3    Norte        Hogar   1800\n",
      "4    Oeste  Electronica   2300\n",
      "5    Oeste         Ropa    900\n",
      "6      Sur  Electronica   1200\n",
      "7      Sur        Hogar   2500\n"
     ]
    }
   ],
   "source": [
    "import pandas as pd\n",
    "\n",
    "data = {\n",
    "    'Sucursal': ['Norte', 'Norte', 'Sur', 'Sur', 'Este', 'Este', 'Oeste', 'Oeste'],\n",
    "    'Categoria': ['Electronica', 'Hogar', 'Electronica', 'Hogar', 'Hogar', 'Ropa', 'Electronica', 'Ropa'],\n",
    "    'Monto': [3500,1800,1200,2500,2100,1300,2300,900]\n",
    "}\n",
    "\n",
    "df = pd.DataFrame(data)\n",
    "print(df)\n",
    "\n",
    "print('')\n",
    "\n",
    "# total vendido por sucursal y categoria\n",
    "resumen = df.groupby(['Sucursal','Categoria'])['Monto'].sum()\n",
    "print(resumen)\n",
    "\n",
    "print('')\n",
    "\n",
    "# para resetear la tabla porque queremos volver a utilizar y trabajar con normalidad\n",
    "print(resumen.reset_index())"
   ]
  },
  {
   "cell_type": "markdown",
   "id": "45efedb3",
   "metadata": {},
   "source": [
    "### Ejemplo B — Préstamos: Promedio y Cantidad por Región y Tipo de Cliente"
   ]
  },
  {
   "cell_type": "code",
   "execution_count": 7,
   "id": "e939c35b",
   "metadata": {},
   "outputs": [
    {
     "name": "stdout",
     "output_type": "stream",
     "text": [
      "Promedio por grupo:\n",
      "  Region         Tipo  Promedio_Monto\n",
      "0   Este  Corporativo          2500.0\n",
      "1  Norte  Corporativo          2000.0\n",
      "2  Norte    Minorista          1000.0\n",
      "3  Oeste  Corporativo          1800.0\n",
      "4  Oeste    Minorista           900.0\n",
      "5    Sur  Corporativo          3000.0\n",
      "6    Sur    Minorista          1350.0\n",
      "\n",
      "Cantidad por grupo:\n",
      "  Region         Tipo  Cantidad\n",
      "0   Este  Corporativo         1\n",
      "1  Norte  Corporativo         1\n",
      "2  Norte    Minorista         1\n",
      "3  Oeste  Corporativo         1\n",
      "4  Oeste    Minorista         1\n",
      "5    Sur  Corporativo         1\n",
      "6    Sur    Minorista         2\n"
     ]
    }
   ],
   "source": [
    "data = {\n",
    "    \"Region\": [\"Norte\",\"Norte\",\"Sur\",\"Sur\",\"Sur\",\"Este\",\"Oeste\",\"Oeste\"],\n",
    "    \"Tipo\":   [\"Minorista\",\"Corporativo\",\"Minorista\",\"Corporativo\",\"Minorista\",\"Corporativo\",\"Minorista\",\"Corporativo\"],\n",
    "    \"Monto\":  [1000,2000,1500,3000,1200,2500,900,1800]\n",
    "}\n",
    "df = pd.DataFrame(data)\n",
    "\n",
    "# Promedio y cantidad por combinación (Region, Tipo)\n",
    "prom = df.groupby([\"Region\",\"Tipo\"])[\"Monto\"].mean()\n",
    "cnt  = df.groupby([\"Region\",\"Tipo\"])[\"Monto\"].count()\n",
    "\n",
    "print(\"Promedio por grupo:\")\n",
    "print(prom.reset_index(name=\"Promedio_Monto\"))\n",
    "\n",
    "print(\"\\nCantidad por grupo:\")\n",
    "print(cnt.reset_index(name=\"Cantidad\"))\n"
   ]
  },
  {
   "cell_type": "markdown",
   "id": "2bc6c7aa",
   "metadata": {},
   "source": [
    "## 5) Errores típicos (y cómo evitarlos)\n",
    "\n",
    "### Olvidar seleccionar una columna numérica antes de sumar/promediar:\n",
    "- #### `df.groupby([\"A\",\"B\"]).sum()` suma todas las numéricas; si querés solo una, hacé `[\"col\"]`.\n",
    "\n",
    "- #### Asustarse por el MultiIndex: es normal. Si necesitás un índice común, usá `.reset_index()`.\n",
    "\n",
    "- #### Nulos: `count()` no cuenta NaN. Si hay faltantes, tus totales/cantidades pueden sorprender. Revisar con `df.isna().sum()`.\n",
    "---"
   ]
  },
  {
   "cell_type": "markdown",
   "id": "46e4be1d",
   "metadata": {},
   "source": [
    "## 6) Lectura e interpretación (cómo “leer” el resultado)\n",
    "\n",
    "- #### Cada fila del resultado representa una combinación única de las columnas por las que agrupaste.\n",
    "\n",
    "- #### La columna agregada (ej. Monto) muestra el resumen para esa combinación (suma, promedio, conteo).\n",
    "\n",
    "- #### Si ves un MultiIndex, pensalo como “título y subtítulo”: primero Sucursal, dentro Categoria.\n",
    "---"
   ]
  },
  {
   "cell_type": "markdown",
   "id": "91a0d70f",
   "metadata": {},
   "source": [
    "## Ejercicio único (GroupBy multi-columna, corto)\n",
    "\n",
    "### **Dataset:** `Fecha`, `Sucursal` (Norte/Sur/Este/Oeste), `Categoria` (Electrónica/Hogar/Ropa), `Precio`, `Cantidad`.\n",
    "\n",
    "#### 1. Crear `Ingreso = Precio * Cantidad`.\n",
    "#### 2. `groupby([\"Sucursal\",\"Categoria\"])` y calcular:\n",
    "\n",
    "- #### **Ingreso\\_total** = `sum` de `Ingreso`\n",
    "- #### **Precio\\_prom** = `mean` de `Precio`\n",
    "- #### **Ops** = `count` (cualquier columna)\n",
    "#### Luego `reset_index()`.\n",
    "#### 3. **Sin ordenar**, responder:\n",
    "\n",
    "- #### ¿Qué (Sucursal, Categoria) tiene **Ingreso\\_total** máximo? (usá `.max()` y filtrá esa fila)\n",
    "- #### ¿Dónde el **Precio\\_prom** es máximo? (igual: `.max()` + filtro)\n",
    "#### 4. Repetí 1–3 **solo** con filas `Cantidad >= 3` **y** `Categoria != \"Ropa\"`.\n",
    "\n",
    "- #### Decí en **1 línea** qué cambió y por qué.\n",
    "---\n"
   ]
  },
  {
   "cell_type": "markdown",
   "id": "905d6b66",
   "metadata": {},
   "source": [
    "### 1) Armar dataset y columna derivada"
   ]
  },
  {
   "cell_type": "code",
   "execution_count": 10,
   "id": "3b4ab2de",
   "metadata": {},
   "outputs": [],
   "source": [
    "import pandas as pd\n",
    "\n",
    "data = {\n",
    "    \"Fecha\": [\"2025-01-01\",\"2025-01-02\",\"2025-01-03\",\"2025-01-04\",\"2025-01-05\",\"2025-01-06\"],\n",
    "    \"Sucursal\": [\"Norte\",\"Norte\",\"Sur\",\"Sur\",\"Este\",\"Oeste\"],\n",
    "    \"Categoria\": [\"Electrónica\",\"Hogar\",\"Electrónica\",\"Hogar\",\"Ropa\",\"Electrónica\"],\n",
    "    \"Precio\": [3500,1800,1200,2500,1300,2300],\n",
    "    \"Cantidad\": [2,3,5,1,4,2]\n",
    "}\n",
    "df = pd.DataFrame(data)\n",
    "\n",
    "# Columna derivada\n",
    "df[\"Ingreso\"] = df[\"Precio\"] * df[\"Cantidad\"]\n"
   ]
  },
  {
   "cell_type": "markdown",
   "id": "b6000dc6",
   "metadata": {},
   "source": [
    "## 2) Agrupación multi-columna"
   ]
  },
  {
   "cell_type": "code",
   "execution_count": 11,
   "id": "339ffb6e",
   "metadata": {},
   "outputs": [
    {
     "name": "stdout",
     "output_type": "stream",
     "text": [
      "  Sucursal    Categoria  Ingreso_total  Precio_prom  Ops\n",
      "0     Este         Ropa           5200       1300.0    1\n",
      "1    Norte  Electrónica           7000       3500.0    1\n",
      "2    Norte        Hogar           5400       1800.0    1\n",
      "3    Oeste  Electrónica           4600       2300.0    1\n",
      "4      Sur  Electrónica           6000       1200.0    1\n",
      "5      Sur        Hogar           2500       2500.0    1\n"
     ]
    }
   ],
   "source": [
    "resumen = df.groupby([\"Sucursal\",\"Categoria\"]).agg(\n",
    "    Ingreso_total=(\"Ingreso\",\"sum\"),\n",
    "    Precio_prom=(\"Precio\",\"mean\"),\n",
    "    Ops=(\"Fecha\",\"count\")\n",
    ").reset_index()\n",
    "\n",
    "print(resumen)\n"
   ]
  },
  {
   "cell_type": "markdown",
   "id": "113c7582",
   "metadata": {},
   "source": [
    "## 3) Buscar máximos"
   ]
  },
  {
   "cell_type": "code",
   "execution_count": 12,
   "id": "630898c6",
   "metadata": {},
   "outputs": [
    {
     "name": "stdout",
     "output_type": "stream",
     "text": [
      "  Sucursal    Categoria  Ingreso_total  Precio_prom  Ops\n",
      "1    Norte  Electrónica           7000       3500.0    1\n",
      "  Sucursal    Categoria  Ingreso_total  Precio_prom  Ops\n",
      "1    Norte  Electrónica           7000       3500.0    1\n"
     ]
    }
   ],
   "source": [
    "# Máximo ingreso total\n",
    "max_ing = resumen[\"Ingreso_total\"].max()\n",
    "print(resumen[resumen[\"Ingreso_total\"] == max_ing])\n",
    "\n",
    "# Máximo precio promedio\n",
    "max_prec = resumen[\"Precio_prom\"].max()\n",
    "print(resumen[resumen[\"Precio_prom\"] == max_prec])\n"
   ]
  },
  {
   "cell_type": "markdown",
   "id": "a87f366b",
   "metadata": {},
   "source": [
    "### Con estos datos:\n",
    "\n",
    "- #### Ingreso_total máximo → Sur, Electrónica (Ingreso_total = 6000).\n",
    "\n",
    "- #### Precio_prom máximo → Norte, Electrónica (Precio_prom = 3500).\n",
    "---"
   ]
  },
  {
   "cell_type": "markdown",
   "id": "0a25805e",
   "metadata": {},
   "source": [
    "## 4) Repetir con filtro (Cantidad >= 3 y Categoria != \"Ropa\")"
   ]
  },
  {
   "cell_type": "code",
   "execution_count": 13,
   "id": "c2172463",
   "metadata": {},
   "outputs": [
    {
     "name": "stdout",
     "output_type": "stream",
     "text": [
      "  Sucursal    Categoria  Ingreso_total  Precio_prom  Ops\n",
      "0    Norte        Hogar           5400       1800.0    1\n",
      "1      Sur  Electrónica           6000       1200.0    1\n"
     ]
    }
   ],
   "source": [
    "filtro = df[(df[\"Cantidad\"] >= 3) & (df[\"Categoria\"] != \"Ropa\")]\n",
    "resumen_f = filtro.groupby([\"Sucursal\",\"Categoria\"]).agg(\n",
    "    Ingreso_total=(\"Ingreso\",\"sum\"),\n",
    "    Precio_prom=(\"Precio\",\"mean\"),\n",
    "    Ops=(\"Fecha\",\"count\")\n",
    ").reset_index()\n",
    "\n",
    "print(resumen_f)\n"
   ]
  },
  {
   "cell_type": "markdown",
   "id": "30236e5b",
   "metadata": {},
   "source": [
    "## Ahora:\n",
    "\n",
    "- #### Quedan solo Norte-Hogar y Sur-Electrónica.\n",
    "\n",
    "- #### Máximo ingreso sigue siendo Sur, Electrónica pero con menos datos.\n",
    "---"
   ]
  },
  {
   "cell_type": "markdown",
   "id": "93f7dd48",
   "metadata": {},
   "source": [
    "## 5) Conclusión en 1 línea\n",
    "\n",
    "#### Al aplicar el filtro se reducen las combinaciones válidas → cambian los totales y desaparecen las categorías que no cumplen condiciones.\n",
    "---\n",
    "---"
   ]
  },
  {
   "cell_type": "markdown",
   "id": "7e590c78",
   "metadata": {},
   "source": []
  },
  {
   "cell_type": "markdown",
   "id": "3fb74800",
   "metadata": {},
   "source": [
    "## Ejercicio 2 — Préstamos por Región y Tramo de Monto\n",
    "#### Dataset con: Cliente, Region (N/E/S/O), Monto, Plazo.\n",
    "\n",
    "#### 1. Crear columna Tramo con 3 rangos de monto (ej.: “Bajo” ≤1500, “Medio” 1501–2500, “Alto” >2500) usando condiciones simples.\n",
    "\n",
    "#### 2. Agrupar por Region y Tramo y calcular:\n",
    "\n",
    "- #### Suma de Monto.\n",
    "\n",
    "- #### Promedio de Plazo.\n",
    "\n",
    "- #### Cantidad de operaciones.\n",
    "\n",
    "#### 3. Con una sola frase por ítem, interpretar:\n",
    "\n",
    "- #### ¿Qué región concentra más monto en el tramo “Alto”?\n",
    "\n",
    "- #### ¿En qué tramo los plazos promedio resultan mayores y por qué podría pasar?\n",
    "\n",
    "#### (Pistas: crear `Tramo` con `np.where`/condiciones encadenadas o equivalentes sencillos; agrupar con `groupby([\"Region\",\"Tramo\"])`; `sum()`, `mean()`, `count()`; `reset_index()`.)"
   ]
  },
  {
   "cell_type": "markdown",
   "id": "ee14e220",
   "metadata": {},
   "source": [
    "## Ejercicio 2 - 1) Dataset + columna Tramo"
   ]
  },
  {
   "cell_type": "code",
   "execution_count": 14,
   "id": "374823fd",
   "metadata": {},
   "outputs": [
    {
     "name": "stdout",
     "output_type": "stream",
     "text": [
      "  Cliente Region  Monto  Plazo  Tramo\n",
      "0     Ana      N   1000     12   Bajo\n",
      "1    Luis      N   2800     24   Alto\n",
      "2   Sofía      S   1500     18   Bajo\n",
      "3   Marta      S   3200     36   Alto\n",
      "4    Juan      E   2200     24  Medio\n",
      "5   Carla      E   1300     12   Bajo\n",
      "6   Pedro      O   2700     30   Alto\n",
      "7   Laura      O   1800     18  Medio\n"
     ]
    }
   ],
   "source": [
    "import pandas as pd\n",
    "import numpy as np\n",
    "\n",
    "data = {\n",
    "    \"Cliente\": [\"Ana\",\"Luis\",\"Sofía\",\"Marta\",\"Juan\",\"Carla\",\"Pedro\",\"Laura\"],\n",
    "    \"Region\":  [\"N\",\"N\",\"S\",\"S\",\"E\",\"E\",\"O\",\"O\"],\n",
    "    \"Monto\":   [1000, 2800, 1500, 3200, 2200, 1300, 2700, 1800],\n",
    "    \"Plazo\":   [12, 24, 18, 36, 24, 12, 30, 18]\n",
    "}\n",
    "df = pd.DataFrame(data)\n",
    "\n",
    "# Crear columna Tramo\n",
    "df[\"Tramo\"] = np.where(df[\"Monto\"] <= 1500, \"Bajo\",\n",
    "                np.where(df[\"Monto\"] <= 2500, \"Medio\", \"Alto\"))\n",
    "\n",
    "print(df[[\"Cliente\",\"Region\",\"Monto\",\"Plazo\",\"Tramo\"]])\n"
   ]
  },
  {
   "cell_type": "markdown",
   "id": "d6af5cf0",
   "metadata": {},
   "source": [
    "## 2) Agrupar por Región y Tramo"
   ]
  },
  {
   "cell_type": "code",
   "execution_count": 15,
   "id": "ce49705a",
   "metadata": {},
   "outputs": [
    {
     "name": "stdout",
     "output_type": "stream",
     "text": [
      "  Region  Tramo  Monto_total  Plazo_prom  Operaciones\n",
      "0      E   Bajo         1300        12.0            1\n",
      "1      E  Medio         2200        24.0            1\n",
      "2      N   Alto         2800        24.0            1\n",
      "3      N   Bajo         1000        12.0            1\n",
      "4      O   Alto         2700        30.0            1\n",
      "5      O  Medio         1800        18.0            1\n",
      "6      S   Alto         3200        36.0            1\n",
      "7      S   Bajo         1500        18.0            1\n"
     ]
    }
   ],
   "source": [
    "resumen = df.groupby([\"Region\",\"Tramo\"]).agg(\n",
    "    Monto_total=(\"Monto\",\"sum\"),\n",
    "    Plazo_prom=(\"Plazo\",\"mean\"),\n",
    "    Operaciones=(\"Cliente\",\"count\")\n",
    ").reset_index()\n",
    "\n",
    "print(resumen)\n"
   ]
  },
  {
   "cell_type": "markdown",
   "id": "ed05cd3e",
   "metadata": {},
   "source": [
    "## 3) Interpretaciones\n",
    "\n",
    "#### 1. ¿Qué región concentra más monto en el tramo “Alto”?\n",
    "- #### La región Sur concentra más monto en el tramo Alto porque tiene el préstamo más grande (3200).\n",
    "\n",
    "#### 2. ¿En qué tramo los plazos promedio resultan mayores y por qué podría pasar?\n",
    "- #### En el tramo Alto, porque los préstamos grandes suelen darse a plazos más largos para que sean más pagables.\n",
    "---"
   ]
  },
  {
   "cell_type": "markdown",
   "id": "9f859c03",
   "metadata": {},
   "source": []
  },
  {
   "cell_type": "markdown",
   "id": "8f384bab",
   "metadata": {},
   "source": [
    "## 8) Cierre\n",
    "\n",
    "#### Agrupar por múltiples columnas es el paso natural cuando las preguntas del negocio son bidimensionales (o más): por región y categoría, \n",
    "#### por mes y estado, por sucursal y canal.\n",
    "#### Hoy viste cómo construir esos grupos, agregar métricas y leer el resultado. En el próximo bloque, vamos a combinar agregaciones en una sola instrucción con agg, \n",
    "#### para producir varias métricas a la vez de forma limpia y eficiente.\n",
    "---"
   ]
  },
  {
   "cell_type": "markdown",
   "id": "e2afb0b6",
   "metadata": {},
   "source": []
  },
  {
   "cell_type": "markdown",
   "id": "e7b18c1a",
   "metadata": {},
   "source": [
    "# Tema 2: Agregaciones combinadas (agg)"
   ]
  },
  {
   "cell_type": "markdown",
   "id": "543efdcb",
   "metadata": {},
   "source": [
    "## 1) Introducción \n",
    "\n",
    "#### Cuando trabajamos con datos reales, no alcanza con mirar un solo número. En un análisis serio casi siempre necesitamos varias métricas al mismo tiempo: totales, promedios, conteos, mínimos o máximos. Cada una de esas medidas nos da un ángulo distinto de la información y juntas nos permiten ver el panorama completo.\n",
    "\n",
    "### Hasta ahora, lo que hicimos fue aplicar estas métricas por separado. Por ejemplo:\n",
    "\n",
    "- #### usamos `sum()` para calcular los totales,\n",
    "\n",
    "- #### después aplicamos `mean()` para obtener los promedios,\n",
    "\n",
    "- #### y más tarde `count()` para conocer la cantidad de operaciones.\n",
    "\n",
    "#### Este enfoque funciona, pero tiene un problema: es repetitivo. Para cada cálculo hay que volver a agrupar los datos y eso se vuelve lento, confuso y difícil de leer cuando el análisis crece.\n",
    "\n",
    "#### Imaginemos una situación típica: el jefe nos pide un informe que muestre el total de préstamos, el promedio y la cantidad de operaciones por sucursal y tipo de cliente.\n",
    "#### Si intentamos resolverlo con lo que veníamos haciendo, tendríamos que escribir tres pasos distintos, repetir el groupby varias veces y luego combinar manualmente los resultados.\n",
    "\n",
    "#### Claramente eso no es eficiente. Lo ideal sería poder hacer todos esos cálculos juntos, en una sola pasada, y obtener una tabla compacta con todas las métricas al lado.\n",
    "---"
   ]
  },
  {
   "cell_type": "markdown",
   "id": "f692f639",
   "metadata": {},
   "source": [
    "## 2) La herramienta (agg)"
   ]
  },
  {
   "cell_type": "markdown",
   "id": "0b9d9ffc",
   "metadata": {},
   "source": [
    "#### La función `.agg()` es de **pandas**, no de Python puro. Se usa después de un `groupby()` y permite aplicar varias operaciones de resumen al mismo tiempo \n",
    "#### (como suma, promedio y conteo) en una sola pasada. Esto hace el código más claro y rápido, porque no tenés que repetir el agrupamiento varias veces.\n",
    "\n",
    "#### `Una analogía simple:` es como un profesor que mira las notas de un grupo y, de una sola vez, anota el promedio, la nota más alta y la más baja, sin tener que revisar la libreta tres veces.\n",
    "---\n"
   ]
  },
  {
   "cell_type": "markdown",
   "id": "bb14c2c5",
   "metadata": {},
   "source": [
    "### Sintaxis básica:"
   ]
  },
  {
   "cell_type": "markdown",
   "id": "c71e5ed4",
   "metadata": {},
   "source": [
    "## `df.groupby(\"col\")[\"otra_col\"].agg([\"sum\",\"mean\",\"count\"])`\n"
   ]
  },
  {
   "cell_type": "markdown",
   "id": "ba437782",
   "metadata": {},
   "source": [
    "### También se puede usar un diccionario para personalizar nombres:"
   ]
  },
  {
   "cell_type": "markdown",
   "id": "c391b5e3",
   "metadata": {},
   "source": [
    "### `df.groupby(\"col\").agg(`\n",
    "###     `Total_Monto=(\"Monto\",\"sum\"),`\n",
    "###     `Promedio_Monto=(\"Monto\",\"mean\"),`\n",
    "###     `Operaciones=(\"Cliente\",\"count\")`\n",
    "### `)`\n",
    "---\n"
   ]
  },
  {
   "cell_type": "markdown",
   "id": "d5b6a205",
   "metadata": {},
   "source": [
    "## 3) Concepto en palabras simples\n",
    "\n",
    "- #### agg viene de aggregate, que significa juntar o resumir datos.\n",
    "\n",
    "- #### Con agg podés pedir varias cuentas al mismo tiempo (suma, promedio, cantidad, etc.) dentro de un mismo `groupby()`.\n",
    "\n",
    "- #### En vez de hacer un `groupby().sum()`, después otro `groupby().mean()`, después otro `roupby().count()`, con agg hacés todo junto en una sola pasada.\n",
    "\n",
    "### ¿Qué ganás?\n",
    "\n",
    "- #### Menos código (más corto).\n",
    "\n",
    "- #### Más ordenado (todo en la misma tabla).\n",
    "\n",
    "- #### Más rápido (la compu hace el trabajo de una vez).\n",
    "\n",
    "### El resultado es una tabla con todas las métricas lado a lado, lista para analizar o mostrar.\n",
    "---"
   ]
  },
  {
   "cell_type": "markdown",
   "id": "5da3eb7e",
   "metadata": {},
   "source": [
    "## 4) Ejemplo simple en código"
   ]
  },
  {
   "cell_type": "markdown",
   "id": "151bf12b",
   "metadata": {},
   "source": [
    "### Ejemplo A — Préstamos por región"
   ]
  },
  {
   "cell_type": "code",
   "execution_count": 9,
   "id": "ae7d6e2a",
   "metadata": {},
   "outputs": [
    {
     "name": "stdout",
     "output_type": "stream",
     "text": [
      "  Region  Monto Cliente\n",
      "0      N   1000     Ana\n",
      "1      N   2000    Luis\n",
      "2      S   1500   Sofia\n",
      "3      S   3000   Marta\n",
      "4      E   2200    Juan\n",
      "5      E   1300   Carla\n",
      "6      O   2700   Pedro\n",
      "7      O   1800   Laura\n",
      "\n",
      "  Region  Total_Monto  Promedio_Monto  Operaciones\n",
      "0      E         3500          1750.0            2\n",
      "1      N         3000          1500.0            2\n",
      "2      O         4500          2250.0            2\n",
      "3      S         4500          2250.0            2\n"
     ]
    }
   ],
   "source": [
    "import pandas as pd\n",
    "\n",
    "# Creamos un diccionario con datos de región, monto y cliente\n",
    "data = {\n",
    "    'Region': ['N', 'N', 'S', 'S', 'E', 'E', 'O', 'O'],\n",
    "    'Monto': [1000, 2000, 1500, 3000, 2200, 1300, 2700, 1800],\n",
    "    'Cliente': ['Ana', 'Luis', 'Sofia', 'Marta', 'Juan', 'Carla', 'Pedro', 'Laura']\n",
    "}\n",
    "\n",
    "df = pd.DataFrame(data)  # Convertimos el diccionario en un DataFrame (tabla)\n",
    "\n",
    "print(df) # Mostramos la tabla original con todos los datos\n",
    "\n",
    "print('')\n",
    "\n",
    "# Agrupamos por región y calculamos suma, promedio y cantidad en una sola instrucción\n",
    "resumen = df.groupby('Region').agg(\n",
    "    Total_Monto=('Monto','sum'), # Suma de montos por región\n",
    "    Promedio_Monto=('Monto','mean'),  # Promedio de montos por región\n",
    "    Operaciones=('Cliente','count') # Cantidad de clientes en cada región\n",
    "    ).reset_index() # Convierte Region otra vez en columna normal\n",
    "\n",
    "print(resumen)"
   ]
  },
  {
   "cell_type": "markdown",
   "id": "e9b5a733",
   "metadata": {},
   "source": []
  },
  {
   "cell_type": "markdown",
   "id": "d26bb09a",
   "metadata": {},
   "source": [
    "### Ejemplo B — Multi-columna (Región y Tipo)"
   ]
  },
  {
   "cell_type": "code",
   "execution_count": 12,
   "id": "1f92ee0d",
   "metadata": {},
   "outputs": [
    {
     "name": "stdout",
     "output_type": "stream",
     "text": [
      "  Region         Tipo  Total_Monto  Promedio_Monto  Operaciones\n",
      "0      E  Corporativo         1300          1300.0            1\n",
      "1      E    Minorista         2200          2200.0            1\n",
      "2      N  Corporativo         2000          2000.0            1\n",
      "3      N    Minorista         1000          1000.0            1\n",
      "4      O  Corporativo         1800          1800.0            1\n",
      "5      O    Minorista         2700          2700.0            1\n",
      "6      S  Corporativo         3000          3000.0            1\n",
      "7      S    Minorista         1500          1500.0            1\n"
     ]
    }
   ],
   "source": [
    "# Creamos un diccionario con columnas: Región, Tipo de cliente y Monto del préstamo\n",
    "data = {\n",
    "    'Region': ['N', 'N', 'S', 'S', 'E', 'E', 'O', 'O'],\n",
    "    'Tipo': [\"Minorista\",\"Corporativo\",\"Minorista\",\"Corporativo\",\"Minorista\",\"Corporativo\",\"Minorista\",\"Corporativo\"],\n",
    "    'Monto': [1000, 2000, 1500, 3000, 2200, 1300, 2700, 1800]\n",
    "}\n",
    "\n",
    "df = pd.DataFrame(data) # Convertimos el diccionario en un DataFrame (tabla de pandas)\n",
    "\n",
    "# Agrupamos por Región y Tipo, luego aplicamos varias agregaciones con agg()\n",
    "resumen = df.groupby(['Region', 'Tipo']).agg(\n",
    "    Total_Monto=('Monto','sum'), # Suma de montos por cada grupo (Region+Tipo)\n",
    "    Promedio_Monto=('Monto','mean'), # Promedio de montos por cada grupo\n",
    "    Operaciones=('Monto','count') # Cantidad de registros en cada grupo\n",
    ").reset_index() # Convertimos el índice de nuevo en columnas normales\n",
    "\n",
    "print(resumen)"
   ]
  },
  {
   "cell_type": "markdown",
   "id": "a8caac52",
   "metadata": {},
   "source": [
    "### 5) Errores típicos\n",
    "\n",
    "## **1. Olvidar usar diccionario en `agg`**\n",
    "\n",
    "- #### Si escribís `agg([\"sum\",\"mean\"])`, las columnas se llaman *sum* y *mean* → nombres genéricos y poco claros.\n",
    "- #### Con diccionario podés dar nombres descriptivos:\n",
    "\n",
    "  ```python\n",
    "  df.groupby(\"Region\").agg(\n",
    "      Total_Monto=(\"Monto\",\"sum\"),\n",
    "      Promedio_Monto=(\"Monto\",\"mean\")\n",
    "  )\n",
    "  ```\n",
    "\n",
    "#### Esto hace que el resultado sea entendible y presentable. Además podés combinar distintas columnas y funciones en el mismo diccionario.\n",
    "\n",
    "#### **2. Contar con `count()` en columnas con nulos**\n",
    "\n",
    "#### `count()` solo cuenta valores **no nulos** → si hay `NaN`, el resultado es menor al número real de filas.\n",
    "####  Si querés **todas las filas**, uses o no datos válidos, usá `size()`.\n",
    "###  Diferencia:\n",
    "- #### `count()` = “¿cuántos datos válidos tengo en esta columna?”\n",
    "- #### `size()` = “¿cuántas filas hay en este grupo, con o sin datos faltantes?”\n",
    "\n",
    "---\n"
   ]
  },
  {
   "cell_type": "markdown",
   "id": "a6dcbca7",
   "metadata": {},
   "source": [
    "## 6) Ejercicios\n",
    "\n",
    "#### Ejercicio 1 — Ventas por Sucursal y Categoría\n",
    "#### Dataset: Sucursal, Categoria, Precio, Cantidad.\n",
    "\n",
    "#### 1. Crear columna Ingreso = Precio * Cantidad.\n",
    "\n",
    "#### 2. Agrupar por Sucursal y Categoria.\n",
    "\n",
    "#### 3. Con agg, calcular:\n",
    "\n",
    "- #### Total de Ingreso `(sum)`.\n",
    "\n",
    "- #### Ingreso promedio `(mean)`.\n",
    "\n",
    "- #### Cantidad de operaciones `(count)`.\n",
    "\n",
    "#### 4. Interpretar: ¿qué combinación factura más y cuál tiene el ingreso promedio más alto?"
   ]
  },
  {
   "cell_type": "code",
   "execution_count": 15,
   "id": "b17aff9d",
   "metadata": {},
   "outputs": [
    {
     "name": "stdout",
     "output_type": "stream",
     "text": [
      "  Sucursal    Categoria  Precio  Cantidad\n",
      "0    Norte  Electrónica    1000         2\n",
      "1    Norte         Ropa     500         3\n",
      "2    Norte         Ropa     800         1\n",
      "3      Sur  Electrónica    1200         1\n",
      "4      Sur         Ropa     700         5\n",
      "5     Este         Ropa     400         2\n",
      "6     Este  Electrónica     900         3\n",
      "7    Oeste         Ropa     600         4\n",
      "8    Oeste  Electrónica    1500         1\n",
      "\n",
      "  Sucursal    Categoria  Total_Ingreso  Promedio_Ingreso  Operaciones\n",
      "0     Este  Electrónica           2700            2700.0            1\n",
      "1     Este         Ropa            800             800.0            1\n",
      "2    Norte  Electrónica           2000            2000.0            1\n",
      "3    Norte         Ropa           2300            1150.0            2\n",
      "4    Oeste  Electrónica           1500            1500.0            1\n",
      "5    Oeste         Ropa           2400            2400.0            1\n",
      "6      Sur  Electrónica           1200            1200.0            1\n",
      "7      Sur         Ropa           3500            3500.0            1\n"
     ]
    }
   ],
   "source": [
    "import pandas as pd\n",
    "\n",
    "# creamos el dataset \n",
    "data = {\n",
    "    \"Sucursal\": [\"Norte\",\"Norte\",\"Norte\",\"Sur\",\"Sur\",\"Este\",\"Este\",\"Oeste\",\"Oeste\"],\n",
    "    \"Categoria\": [\"Electrónica\",\"Ropa\",\"Ropa\",\"Electrónica\",\"Ropa\",\"Ropa\",\"Electrónica\",\"Ropa\",\"Electrónica\"],\n",
    "    \"Precio\": [1000,500,800,1200,700,400,900,600,1500],\n",
    "    \"Cantidad\": [2,3,1,1,5,2,3,4,1]\n",
    "}\n",
    "\n",
    "df = pd.DataFrame(data)\n",
    "\n",
    "print(df)\n",
    "\n",
    "print('')\n",
    "\n",
    "# 2) creamos la columna Ingreso\n",
    "df['Ingreso'] = df['Precio'] * df['Cantidad']\n",
    "\n",
    "# 2) agrupamos por sucursal y cantidad\n",
    "resumen = df.groupby(['Sucursal','Categoria']).agg(\n",
    "    Total_Ingreso=('Ingreso','sum'),\n",
    "    Promedio_Ingreso=('Ingreso','mean'),\n",
    "    Operaciones=('Ingreso','count')\n",
    ").reset_index()\n",
    "\n",
    "\n",
    "print(resumen)\n",
    "\n",
    "# 5) Interpretación\n",
    "\n",
    "# La combinación que más factura (Total_Ingreso) → Sur + Ropa = 3500\n",
    "\n",
    "# La que tiene mayor ingreso promedio (Promedio_Ingreso) → Sur + Ropa = 3500"
   ]
  },
  {
   "cell_type": "markdown",
   "id": "12dbfd7f",
   "metadata": {},
   "source": []
  },
  {
   "cell_type": "markdown",
   "id": "b024452f",
   "metadata": {},
   "source": [
    "# Caso práctico: Promedio de préstamo y % mora por región"
   ]
  },
  {
   "cell_type": "markdown",
   "id": "bf415328",
   "metadata": {},
   "source": [
    "## 1. Introducción\n",
    "\n",
    "#### vamos a trabajar con un análisis muy típico en el mundo financiero: entender cómo se comportan los préstamos en distintas regiones.\n",
    "#### Un banco o financiera no solo quiere saber cuánto dinero prestó, sino también:\n",
    "\n",
    "- #### ¿Cuál es el monto promedio que la gente pide?\n",
    "\n",
    "- #### ¿Qué porcentaje de esos préstamos entra en mora (es decir, clientes que no pagan a tiempo)?\n",
    "\n",
    "#### Estos indicadores son clave porque ayudan a tomar decisiones: dónde conviene prestar más, dónde hay más riesgo, y cómo manejar las políticas de crédito en cada zona.\n",
    "---"
   ]
  },
  {
   "cell_type": "markdown",
   "id": "ec998fa4",
   "metadata": {},
   "source": [
    "## 2. necesidad \n",
    "\n",
    "### Imaginemos que yo trabajo en el área de riesgo crediticio de un banco.\n",
    "#### mi jefe me llama y me dice:\n",
    "\n",
    "#### Necesito un informe urgente: quiero ver por región cuál es el promedio de préstamo y el porcentaje de mora. Así podremos decidir dónde expandir nuestras operaciones y dónde tener más cuidado.\n",
    "\n",
    "#### Ahí surge la necesidad: tenemos que calcular dos métricas al mismo tiempo, agrupadas por región.\n",
    "---"
   ]
  },
  {
   "cell_type": "markdown",
   "id": "6571bb5b",
   "metadata": {},
   "source": [
    "#### Para resolver este tipo de problemas en pandas, usamos dos pasos:\n",
    "\n",
    "#### 1. `groupby()` → agrupar los datos por una columna (en este caso, “Region”).\n",
    "\n",
    "#### 2. `.agg()` → calcular varias métricas a la vez (promedios, sumas, porcentajes, etc.).\n",
    "\n",
    "### 📌 Concepto importante:\n",
    "\n",
    "- #### Cuando la columna tiene números continuos (ejemplo: monto), podemos calcular mean, sum, max, etc.\n",
    "\n",
    "- #### Cuando la columna tiene 0 y 1 (ejemplo: mora: 0 = paga, 1 = en mora), el mean devuelve el porcentaje de morosos, porque calcula la proporción.\n",
    "---"
   ]
  },
  {
   "cell_type": "markdown",
   "id": "728880f3",
   "metadata": {},
   "source": [
    "## Ejemplo 1"
   ]
  },
  {
   "cell_type": "code",
   "execution_count": 16,
   "id": "4198c66d",
   "metadata": {},
   "outputs": [
    {
     "name": "stdout",
     "output_type": "stream",
     "text": [
      "  Region  Promedio_Prestamo  Porcentaje_Mora\n",
      "0   Este             2900.0              0.0\n",
      "1  Norte             2250.0             50.0\n",
      "2    Sur             1100.0             50.0\n"
     ]
    }
   ],
   "source": [
    "import pandas as pd\n",
    "\n",
    "# Dataset sencillo\n",
    "data = {\n",
    "    \"Region\": [\"Norte\",\"Norte\",\"Sur\",\"Sur\",\"Este\",\"Este\"],\n",
    "    \"Monto\":  [2000, 2500, 1200, 1000, 3000, 2800],\n",
    "    \"Mora\":   [0, 1, 0, 1, 0, 0]  # 0 = paga, 1 = en mora\n",
    "}\n",
    "df = pd.DataFrame(data)\n",
    "\n",
    "resumen = df.groupby(\"Region\").agg(\n",
    "    Promedio_Prestamo=(\"Monto\",\"mean\"),\n",
    "    Porcentaje_Mora=(\"Mora\",\"mean\")\n",
    ").reset_index()\n",
    "\n",
    "# Convertimos a porcentaje\n",
    "resumen[\"Porcentaje_Mora\"] = resumen[\"Porcentaje_Mora\"] * 100\n",
    "\n",
    "print(resumen)\n"
   ]
  },
  {
   "cell_type": "markdown",
   "id": "c5ff6d6d",
   "metadata": {},
   "source": [
    "## Ejemplo 2 (con más columnas)\n",
    "\n",
    "#### Ahora agregamos los clientes para ver que se pueden incluir más datos."
   ]
  },
  {
   "cell_type": "code",
   "execution_count": 17,
   "id": "592b4038",
   "metadata": {},
   "outputs": [
    {
     "name": "stdout",
     "output_type": "stream",
     "text": [
      "  Region  Promedio_Prestamo  Total_Prestamos  Porcentaje_Mora\n",
      "0   Este             2900.0             5800              0.0\n",
      "1  Norte             1750.0             3500             50.0\n",
      "2  Oeste             1650.0             3300             50.0\n",
      "3    Sur             1100.0             2200             50.0\n"
     ]
    }
   ],
   "source": [
    "data = {\n",
    "    \"Region\":   [\"Norte\",\"Norte\",\"Sur\",\"Sur\",\"Este\",\"Este\",\"Oeste\",\"Oeste\"],\n",
    "    \"Cliente\":  [\"A\",\"B\",\"C\",\"D\",\"E\",\"F\",\"G\",\"H\"],\n",
    "    \"Monto\":    [2000,1500,1200,1000,3000,2800,1700,1600],\n",
    "    \"Mora\":     [0,1,1,0,0,0,1,0]\n",
    "}\n",
    "df = pd.DataFrame(data)\n",
    "\n",
    "resumen = df.groupby(\"Region\").agg(\n",
    "    Promedio_Prestamo=(\"Monto\",\"mean\"), # promedio de préstamo\n",
    "    Total_Prestamos=(\"Monto\",\"sum\"),    # suma total prestada\n",
    "    Porcentaje_Mora=(\"Mora\",\"mean\")     # porcentaje de mora (promedio de 0 y 1)\n",
    ").reset_index()\n",
    "\n",
    "# Convertimos la mora en porcentaje (ej: 0.25 → 25%)\n",
    "resumen[\"Porcentaje_Mora\"] = resumen[\"Porcentaje_Mora\"] * 100\n",
    "print(resumen)\n",
    "\n",
    "# Ahora tenemos: promedio de préstamo, total prestado y % de mora.\n",
    "# Esto se parece mucho más a un informe real de un banco.\n"
   ]
  },
  {
   "cell_type": "markdown",
   "id": "feb9c4b6",
   "metadata": {},
   "source": [
    "## Ejemplo 3 (ordenando resultados)\n",
    "#### Podemos ordenar las regiones según el riesgo (mayor % de mora primero)."
   ]
  },
  {
   "cell_type": "code",
   "execution_count": 18,
   "id": "edb5b2c6",
   "metadata": {},
   "outputs": [
    {
     "name": "stdout",
     "output_type": "stream",
     "text": [
      "  Region  Promedio_Prestamo  Total_Prestamos  Porcentaje_Mora\n",
      "1  Norte             1750.0             3500             50.0\n",
      "2  Oeste             1650.0             3300             50.0\n",
      "3    Sur             1100.0             2200             50.0\n",
      "0   Este             2900.0             5800              0.0\n"
     ]
    }
   ],
   "source": [
    "# Ordenamos las regiones por % de mora (de mayor a menor)\n",
    "resumen_ordenado = resumen.sort_values(by=\"Porcentaje_Mora\", ascending=False) \n",
    "print(resumen_ordenado)\n"
   ]
  },
  {
   "cell_type": "markdown",
   "id": "462f4171",
   "metadata": {},
   "source": [
    "## Ejercicios propuestos\n",
    "\n",
    "#### 1. **Ventas por región**\n",
    "   Dataset: Región, Producto, Precio, Cantidad, Deuda (0 = pagó, 1 = debe).\n",
    "\n",
    "- #### Crear columna Ingreso = Precio \\* Cantidad.\n",
    "- #### Agrupar por Región.\n",
    "- #### Calcular:\n",
    "\n",
    "- ####   Promedio de Ingreso.\n",
    "- ####   Total de Ingreso.\n",
    "- ####   % de clientes con deuda.\n",
    "\n",
    "#### 2. **Créditos por sucursal**\n",
    "   Dataset: Sucursal, Cliente, Monto, Mora.\n",
    "\n",
    "- #### Agrupar por sucursal.\n",
    "- #### Calcular el monto promedio, el monto máximo y el % de mora.\n",
    "- #### Ordenar las sucursales por monto promedio descendente.\n",
    "\n",
    "#### 3. **Análisis extra**\n",
    "####    Con el dataset de ejemplo, calcular además **cuántos clientes tiene cada región** y mostrarlo junto al promedio y % de mora.\n",
    "\n",
    "---\n",
    "---\n",
    "---"
   ]
  },
  {
   "cell_type": "markdown",
   "id": "5f500b6a",
   "metadata": {},
   "source": [
    "## Ejercicios\n",
    "\n",
    "### 1. Ventas por región\n",
    "#### Dataset: Región, Producto, Precio, Cantidad, Deuda (0 = pagó, 1 = debe).\n",
    "\n",
    "- #### Crear columna Ingreso = Precio * Cantidad.\n",
    "\n",
    "- #### Agrupar por Región.\n",
    "\n",
    "- #### Calcular:\n",
    "\n",
    "#### Promedio de Ingreso.\n",
    "\n",
    "#### Total de Ingreso.\n",
    "\n",
    "#### % de clientes con deuda."
   ]
  },
  {
   "cell_type": "code",
   "execution_count": 19,
   "id": "868d92be",
   "metadata": {},
   "outputs": [
    {
     "name": "stdout",
     "output_type": "stream",
     "text": [
      "  Region  Promedio_Ingreso  Total_Ingreso  Porcentaje_Deuda\n",
      "0   Este             480.0            960               0.0\n",
      "1  Norte             400.0            800              50.0\n",
      "2  Oeste             260.0            520              50.0\n",
      "3    Sur             460.0            920              50.0\n"
     ]
    }
   ],
   "source": [
    "import pandas as pd\n",
    "\n",
    "# Dataset: Región, Producto, Precio, Cantidad, Deuda (0=pagó, 1=debe)\n",
    "data = {\n",
    "    \"Region\":   [\"Norte\",\"Norte\",\"Sur\",\"Sur\",\"Este\",\"Este\",\"Oeste\",\"Oeste\"],\n",
    "    \"Producto\": [\"A\",\"B\",\"A\",\"C\",\"B\",\"C\",\"A\",\"B\"],\n",
    "    \"Precio\":   [100, 150,  80, 120, 200, 180, 90, 160],\n",
    "    \"Cantidad\": [  5,   2,  10,   1,   3,   2,  4,   1],\n",
    "    \"Deuda\":    [  0,   1,   0,   1,   0,   0,  1,   0]\n",
    "}\n",
    "df = pd.DataFrame(data)\n",
    "\n",
    "# 1) Columna Ingreso = Precio * Cantidad\n",
    "df[\"Ingreso\"] = df[\"Precio\"] * df[\"Cantidad\"]\n",
    "\n",
    "# 2) Agrupar por Región y calcular métricas\n",
    "resumen = df.groupby(\"Region\").agg(\n",
    "    Promedio_Ingreso=(\"Ingreso\",\"mean\"),     # promedio por operación\n",
    "    Total_Ingreso=(\"Ingreso\",\"sum\"),         # suma total\n",
    "    Porcentaje_Deuda=(\"Deuda\",\"mean\")        # proporción de operaciones con deuda\n",
    ").reset_index()\n",
    "\n",
    "# 3) Convertir proporción a porcentaje\n",
    "resumen[\"Porcentaje_Deuda\"] = resumen[\"Porcentaje_Deuda\"] * 100\n",
    "\n",
    "print(resumen)\n",
    "# Nota: el % de deuda aquí es por operación (no por cliente, porque no hay columna Cliente).\n"
   ]
  },
  {
   "cell_type": "markdown",
   "id": "31bd75d4",
   "metadata": {},
   "source": [
    "## 2. Créditos por sucursal\n",
    "### Dataset: Sucursal, Cliente, Monto, Mora.\n",
    "\n",
    "- #### Agrupar por sucursal.\n",
    "\n",
    "- #### Calcular el monto promedio, el monto máximo y el % de mora.\n",
    "\n",
    "- #### Ordenar las sucursales por monto promedio descendente."
   ]
  },
  {
   "cell_type": "code",
   "execution_count": 20,
   "id": "3858ba7c",
   "metadata": {},
   "outputs": [
    {
     "name": "stdout",
     "output_type": "stream",
     "text": [
      "  Sucursal  Monto_Promedio  Monto_Maximo  Porcentaje_Mora\n",
      "0   Centro     2166.666667          3000        33.333333\n",
      "1    Norte     2000.000000          2200        50.000000\n",
      "2      Sur     1033.333333          1200        33.333333\n"
     ]
    }
   ],
   "source": [
    "import pandas as pd\n",
    "\n",
    "# Dataset: Sucursal, Cliente, Monto, Mora (0=paga, 1=en mora)\n",
    "data = {\n",
    "    \"Sucursal\": [\"Centro\",\"Centro\",\"Centro\",\"Norte\",\"Norte\",\"Sur\",\"Sur\",\"Sur\"],\n",
    "    \"Cliente\":  [\"A\",\"B\",\"C\",\"D\",\"E\",\"F\",\"G\",\"H\"],\n",
    "    \"Monto\":    [2000, 1500, 3000, 1800, 2200, 1000, 1200, 900],\n",
    "    \"Mora\":     [0,    1,    0,    0,    1,    0,    1,    0]\n",
    "}\n",
    "df = pd.DataFrame(data)\n",
    "\n",
    "# 1) Agrupar por Sucursal y calcular métricas\n",
    "resumen = df.groupby(\"Sucursal\").agg(\n",
    "    Monto_Promedio=(\"Monto\",\"mean\"),   # promedio\n",
    "    Monto_Maximo=(\"Monto\",\"max\"),      # máximo\n",
    "    Porcentaje_Mora=(\"Mora\",\"mean\")    # proporción de clientes en mora\n",
    ").reset_index()\n",
    "\n",
    "# 2) Convertir proporción a %\n",
    "resumen[\"Porcentaje_Mora\"] = resumen[\"Porcentaje_Mora\"] * 100\n",
    "\n",
    "# 3) Ordenar por monto promedio (descendente)\n",
    "resumen_ordenado = resumen.sort_values(by=\"Monto_Promedio\", ascending=False)\n",
    "\n",
    "print(resumen_ordenado)\n"
   ]
  },
  {
   "cell_type": "markdown",
   "id": "87c8d87c",
   "metadata": {},
   "source": [
    "## 3. Análisis extra\n",
    "#### Con el dataset de ejemplo, calcular además cuántos clientes tiene cada región y mostrarlo junto al promedio y % de mora."
   ]
  },
  {
   "cell_type": "code",
   "execution_count": null,
   "id": "fa040e9a",
   "metadata": {},
   "outputs": [],
   "source": [
    "import pandas as pd\n",
    "\n",
    "# Dataset de ejemplo: Region, Cliente, Monto, Mora\n",
    "data = {\n",
    "    \"Region\":  [\"Norte\",\"Norte\",\"Norte\",\"Sur\",\"Sur\",\"Este\",\"Este\",\"Oeste\",\"Oeste\"],\n",
    "    \"Cliente\": [\"A\",\"B\",\"A\",\"C\",\"D\",\"E\",\"F\",\"G\",\"H\"],  # un cliente puede aparecer más de una vez\n",
    "    \"Monto\":   [2000,1500,1800,1200,1000,3000,2800,1700,1600],\n",
    "    \"Mora\":    [0,1,0,1,0,0,0,1,0]\n",
    "}\n",
    "df = pd.DataFrame(data)\n",
    "\n",
    "# 1) Métricas principales por región\n",
    "resumen = df.groupby(\"Region\").agg(\n",
    "    Promedio_Prestamo=(\"Monto\",\"mean\"),\n",
    "    Porcentaje_Mora=(\"Mora\",\"mean\")\n",
    ").reset_index()\n",
    "\n",
    "# 2) Contar clientes únicos por región (no repite el mismo cliente)\n",
    "clientes_region = df.groupby(\"Region\")[\"Cliente\"].nunique().reset_index(name=\"Clientes_Unicos\")\n",
    "\n",
    "# 3) Unir métricas + cantidad de clientes\n",
    "resumen = resumen.merge(clientes_region, on=\"Region\", how=\"left\")\n",
    "\n",
    "# 4) Convertir mora a %\n",
    "resumen[\"Porcentaje_Mora\"] = resumen[\"Porcentaje_Mora\"] * 100\n",
    "\n",
    "print(resumen)\n",
    "# Ahora ves: promedio, % mora y cuántos clientes únicos tiene cada región.\n"
   ]
  }
 ],
 "metadata": {
  "kernelspec": {
   "display_name": ".venv",
   "language": "python",
   "name": "python3"
  },
  "language_info": {
   "codemirror_mode": {
    "name": "ipython",
    "version": 3
   },
   "file_extension": ".py",
   "mimetype": "text/x-python",
   "name": "python",
   "nbconvert_exporter": "python",
   "pygments_lexer": "ipython3",
   "version": "3.11.6"
  }
 },
 "nbformat": 4,
 "nbformat_minor": 5
}
