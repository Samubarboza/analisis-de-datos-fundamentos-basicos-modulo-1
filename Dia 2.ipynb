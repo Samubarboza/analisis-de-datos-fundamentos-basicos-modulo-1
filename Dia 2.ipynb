{
 "cells": [
  {
   "cell_type": "markdown",
   "id": "7bcaaf11",
   "metadata": {},
   "source": [
    "\n",
    "# **Día 2 – NumPy aplicado**  \n",
    "**Módulo 1 – Fundamentos de NumPy**  \n",
    "\n",
    "#### En el Día 1 conocimos las bases de NumPy: entendimos qué son los arrays, cómo se diferencian de las listas, aprendimos sobre sus propiedades y realizamos operaciones básicas.\n",
    "\n",
    "### Ahora bien, seguramente ayer te preguntaste algo como:\n",
    "- #### Está buenísimo tener arrays… pero ¿cómo hago para sacar solo una parte de ellos? ¿Cómo selecciono valores específicos?\n",
    "- #### ¿Y si quiero comparar arrays entre sí? ¿Cómo sumo, resto o filtro datos grandes sin tener que escribir 100 líneas de código?\n",
    "\n",
    "### Justamente esas preguntas son la puerta de entrada al Día 2.\n",
    "\n",
    "### Hoy vamos a trabajar con:\n",
    "\n",
    "- #### Indexación y slicing → cómo acceder a elementos y fragmentos de un array, igual que cuando cortamos una torta en porciones.\n",
    "\n",
    "- #### Operaciones entre arrays → cómo combinar y comparar datos de forma súper rápida y eficiente.\n",
    "\n",
    "- #### Caso práctico: segmentar préstamos en rangos → llevar todo a un ejemplo financiero real, como si tuviéramos que clasificar clientes según el monto que pidieron.\n",
    "\n",
    "#### Al final del día, vas a tener la habilidad de “sacarle jugo” a cualquier dataset grande usando NumPy, seleccionando y transformando la información que realmente te importa.\n",
    "\n",
    "---"
   ]
  },
  {
   "cell_type": "markdown",
   "id": "eb99475e",
   "metadata": {},
   "source": [
    "\n",
    "##  Objetivos del dia\n",
    "- #### Dominar **indexación** (elegir elementos puntuales) y **slicing** (cortar porciones) en arrays 1D y 2D.\n",
    "- #### Aplicar **operaciones entre arrays** (suma, resta, multiplicación, comparaciones) de forma vectorizada.\n",
    "- #### Resolver un **caso práctico**: **segmentación de préstamos en rangos** con máscaras booleanas.\n"
   ]
  },
  {
   "cell_type": "markdown",
   "id": "e3e8b2b0",
   "metadata": {},
   "source": [
    "\n",
    "---\n",
    "#  — **Indexación y Slicing**\n",
    "\n",
    "#### \n",
    "\n",
    "### Indexación\n",
    "\n",
    "#### Indexación es cuando elegís un elemento puntual de una estructura que guarda datos, como una lista, un array o un texto.\n",
    "#### Es como si tuvieras una fila de casilleros numerados, y vos dijeras: “quiero abrir el casillero número 4”. Solo abrís ese y ves lo que hay adentro.\n",
    "\n",
    "### En pocas palabras: indexar es apuntar a un dato específico usando su posición.\n",
    "\n",
    "---\n",
    "\n",
    "### Slicing\n",
    "\n",
    "#### Slicing es cuando no querés un solo dato, sino un pedazo entero de la estructura.\n",
    "#### Es como tener una biblioteca con muchos libros en fila y decir: “quiero desde el libro 3 hasta el libro 7”. No te quedás con uno, sino con una sección entera y seguida.\n",
    "\n",
    "### En pocas palabras: hacer slicing es cortar y quedarte con un tramo de datos contiguos.\n",
    "---\n"
   ]
  },
  {
   "cell_type": "markdown",
   "id": "edf76fea",
   "metadata": {},
   "source": [
    "## 1. Necesidad\n",
    "\n",
    "#### Imaginá que tenés una tabla enorme con ventas diarias de un supermercado durante un año.\n",
    "#### Son 365 números en un array.\n",
    "\n",
    "### Ahora te pido:\n",
    "\n",
    "- #### Mostrame solo la venta del día 1.\n",
    "\n",
    "- #### Después, mostrame la venta de la semana 1 (los primeros 7 días).\n",
    "\n",
    "- #### Ahora, mostrame solo los días del 100 al 120.\n",
    "\n",
    "#### Si tuvieras que hacerlo con una lista de Python a mano, sería un lío estar contando índices y cortando pedacitos todo el tiempo.\n",
    "\n",
    "#### Ahí aparece la necesidad: poder seleccionar partes de un array de forma rápida, ordenada y sin esfuerzo manual.\n",
    "---"
   ]
  },
  {
   "cell_type": "markdown",
   "id": "01b7c49c",
   "metadata": {},
   "source": [
    "## 2. Indexacion y slicing\n",
    "\n",
    "#### Para eso existe en NumPy la indexación y el slicing.\n",
    "\n",
    "#### Indexación → acceder a un elemento puntual.\n",
    "\n",
    "#### Slicing → cortar un fragmento del array (como un “rebanado”).\n",
    "---"
   ]
  },
  {
   "cell_type": "markdown",
   "id": "953a7b4d",
   "metadata": {},
   "source": [
    "## 3. Concepto\n",
    "\n",
    "#### En un array, los elementos se guardan en posiciones llamadas índices.\n",
    "\n",
    "#### El primer elemento siempre tiene índice 0.\n",
    "\n",
    "#### Con indexación, elegimos un valor puntual.\n",
    "\n",
    "#### Con slicing, elegimos un rango de valores (del inicio al final que indiquemos).\n",
    "\n",
    "### En análisis de datos, esto es vital porque rara vez trabajamos con todo el dataset a la vez. Generalmente necesitamos:\n",
    "\n",
    "- #### Ver un subconjunto.\n",
    "\n",
    "- #### Filtrar días, meses, regiones o clientes específicos.\n",
    "\n",
    "- #### Comparar segmentos entre sí.\n",
    "---"
   ]
  },
  {
   "cell_type": "markdown",
   "id": "09213450",
   "metadata": {},
   "source": [
    "## 4. Ejemplo de muestra"
   ]
  },
  {
   "cell_type": "code",
   "execution_count": 1,
   "id": "4f129a30",
   "metadata": {},
   "outputs": [
    {
     "name": "stdout",
     "output_type": "stream",
     "text": [
      "Venta del día 1: 100\n",
      "Ventas de los días 1 a 3: [100 200 150]\n",
      "Ventas desde el día 3 en adelante: [150 300 250 400 350]\n",
      "Ventas día por medio: [100 150 250 350]\n"
     ]
    }
   ],
   "source": [
    "import numpy as np\n",
    "\n",
    "ventas = np.array([100, 200, 150, 300, 250, 400, 350])\n",
    "\n",
    "# Indexación: acceder al primer día\n",
    "print(\"Venta del día 1:\", ventas[0])\n",
    "\n",
    "# Slicing: acceder a los primeros 3 días\n",
    "print(\"Ventas de los días 1 a 3:\", ventas[0:3])\n",
    "\n",
    "# Slicing: acceder del día 3 al final\n",
    "print(\"Ventas desde el día 3 en adelante:\", ventas[2:])\n",
    "\n",
    "# Slicing con salto (step): cada 2 días\n",
    "print(\"Ventas día por medio:\", ventas[::2])\n"
   ]
  },
  {
   "cell_type": "markdown",
   "id": "62185796",
   "metadata": {},
   "source": [
    "## 5. Explicación del ejemplo\n",
    "\n",
    "- ### ventas[0] → muestra 100, porque es el primer elemento (índice 0).\n",
    "\n",
    "- ### ventas[0:3] → va desde índice 0 hasta 2 (el 3 no se incluye) → [100, 200, 150].\n",
    "\n",
    "- ### ventas[2:] → desde índice 2 hasta el final → [150, 300, 250, 400, 350].\n",
    "\n",
    "- ### ventas[::2] → agarra todo el array pero de 2 en 2 → [100, 150, 250, 350].\n",
    "---"
   ]
  },
  {
   "cell_type": "markdown",
   "id": "c4255fd6",
   "metadata": {},
   "source": [
    "## 6. Ejercicio para los alumnos\n",
    "\n",
    "### Con el siguiente array de temperaturas semanales:\n",
    "\n",
    "### `temperaturas = np.array([30, 32, 28, 35, 31, 29, 33])`\n",
    "\n",
    "- #### 1. Mostrá la temperatura del primer día.\n",
    "\n",
    "- #### 2. Mostrá las temperaturas de los días 2 a 5.\n",
    "\n",
    "- #### 3. Mostrá todas las temperaturas menos la primera y la última.\n",
    "\n",
    "- #### 4. Mostrá solo los días pares (2, 4, 6).\n"
   ]
  },
  {
   "cell_type": "markdown",
   "id": "ffeca3e9",
   "metadata": {},
   "source": []
  },
  {
   "cell_type": "markdown",
   "id": "e06e246b",
   "metadata": {},
   "source": [
    "# Indexación y slicing en arrays 2D\n",
    "\n",
    "#### **Indexación**\n",
    "\n",
    "#### Concepto: es agarrar un elemento específico en una secuencia usando su posición (su índice). Python comienza a contar desde 0: el primer elemento está en la posición 0, el siguiente en la 1 y así.\n",
    "\n",
    "#### **Slicing**\n",
    "\n",
    "#### Concepto: es agarrar un sub-conjunto (una parte) de una secuencia indicando dónde empieza y dónde termina, usando dos puntos (:). El tramo incluye el índice donde arranca, pero no incluye el que indica dónde termina."
   ]
  },
  {
   "cell_type": "markdown",
   "id": "31d5909b",
   "metadata": {},
   "source": [
    "## 1. Necesidad\n",
    "\n",
    "#### Imaginá que trabajás en un banco y tenés una tabla con préstamos:\n",
    "\n",
    "| Cliente | Monto | Plazo (meses) |\n",
    "| ------- | ----- | ------------- |\n",
    "| Ana     | 1000  | 12            |\n",
    "| Luis    | 2000  | 24            |\n",
    "| Sofía   | 1500  | 18            |\n"
   ]
  },
  {
   "cell_type": "markdown",
   "id": "a0b3b12b",
   "metadata": {},
   "source": [
    "### **Ahora necesitás:**\n",
    "\n",
    "- #### Ver solo el monto del primer cliente.\n",
    "\n",
    "- #### Ver todos los plazos.\n",
    "\n",
    "- #### Ver las dos primeras filas completas.\n",
    "\n",
    "#### Si intentaras hacer esto con listas anidadas en Python, tendrías que andar escribiendo [0][1], recorrer con bucles, etc. Muy poco práctico.\n",
    "\n",
    "#### Por eso necesitamos una forma clara y directa de acceder a filas, columnas o subconjuntos completos.\n",
    "---"
   ]
  },
  {
   "cell_type": "markdown",
   "id": "d28f1f40",
   "metadata": {},
   "source": [
    "##  Indexación y slicing en arrays 2D\n",
    "#### En arrays 2D, NumPy permite indexar con dos posiciones:\n",
    "\n",
    "- #### La primera es la fila.\n",
    "\n",
    "- #### La segunda es la columna.\n",
    "\n",
    "### Sintaxis: `array[fila, columna].`"
   ]
  },
  {
   "cell_type": "markdown",
   "id": "ff2795ec",
   "metadata": {},
   "source": [
    "\n",
    "## 3. Concepto\n",
    "\n",
    "#### Un **array 2D** en NumPy es como una **tabla de Excel**:\n",
    "\n",
    "- ####  Está formado por **filas** (horizontal) y **columnas** (vertical).\n",
    "- ####  Cada valor tiene una posición definida: primero la **fila** y luego la **columna**.\n",
    "\n",
    "#### Ejemplo: `array[0, 0]` → fila 0, columna 0 → primer valor de la tabla.\n",
    "\n",
    "### La idea es la misma que en arrays 1D, pero ahora trabajamos con dos coordenadas.\n",
    "\n",
    "---\n",
    "\n",
    "### **¿Qué podemos hacer con indexación y slicing en 2D?**\n",
    "\n",
    "- #### Acceder a **un solo valor puntual** → como leer una celda de Excel.\n",
    "- #### Seleccionar **una fila completa** → todos los datos de un cliente, alumno o registro.\n",
    "- #### Seleccionar **una columna completa** → todos los montos, todas las edades, todas las notas.\n",
    "- #### Tomar **un bloque (submatriz)** → porciones rectangulares de la tabla, como si copiaras una parte de Excel.\n",
    "\n",
    "---\n",
    "\n",
    "### En análisis de datos esto es clave porque casi siempre trabajamos con información tabular (datasets). Con indexación y slicing podemos:\n",
    "\n",
    "- #### Ver rápidamente solo los datos que nos interesan.\n",
    "- #### Separar información en partes para analizar mejor.\n",
    "- #### Preparar subconjuntos para aplicar filtros, cálculos o gráficos.\n",
    "\n",
    "## En resumen:\n",
    "\n",
    "- #### **1D** = lista de valores (una sola dimensión).\n",
    "- #### **2D** = tabla con filas y columnas (dos dimensiones).\n",
    "- #### El concepto es el mismo: elegir posiciones → pero en 2D necesitamos **dos coordenadas** (fila y columna).\n",
    "\n",
    "---\n"
   ]
  },
  {
   "cell_type": "markdown",
   "id": "28574de5",
   "metadata": {},
   "source": [
    "# 4. Ejemplo de muestra"
   ]
  },
  {
   "cell_type": "code",
   "execution_count": 2,
   "id": "66c355ff",
   "metadata": {},
   "outputs": [
    {
     "name": "stdout",
     "output_type": "stream",
     "text": [
      "Monto del primer cliente: 1000\n",
      "Plazo del segundo cliente: 24\n",
      "Plazos de todos los clientes: [12 24 18]\n",
      "Dos primeros clientes:\n",
      " [[1000   12]\n",
      " [2000   24]]\n",
      "Montos de todos los clientes: [1000 2000 1500]\n"
     ]
    }
   ],
   "source": [
    "import numpy as np\n",
    "\n",
    "prestamos = np.array([\n",
    "    [1000, 12],\n",
    "    [2000, 24],\n",
    "    [1500, 18]\n",
    "])\n",
    "\n",
    "# Indexación: monto del primer cliente (fila 0, columna 0)\n",
    "print(\"Monto del primer cliente:\", prestamos[0, 0])\n",
    "\n",
    "# Indexación: plazo del segundo cliente (fila 1, columna 1)\n",
    "print(\"Plazo del segundo cliente:\", prestamos[1, 1])\n",
    "\n",
    "# Slicing: todas las filas, solo la columna de plazos\n",
    "print(\"Plazos de todos los clientes:\", prestamos[:, 1])\n",
    "\n",
    "# Slicing: las dos primeras filas, todas las columnas\n",
    "print(\"Dos primeros clientes:\\n\", prestamos[0:2, :])\n",
    "\n",
    "# Slicing: todas las filas, solo la primera columna (montos)\n",
    "print(\"Montos de todos los clientes:\", prestamos[:, 0])\n"
   ]
  },
  {
   "cell_type": "markdown",
   "id": "49720dce",
   "metadata": {},
   "source": [
    "## 5. Explicación del ejemplo\n",
    "\n",
    "### Indexación = agarrar un dato puntual:\n",
    "\n",
    "* **`prestamos[0, 0]`**\n",
    "\n",
    "  * Fila 0 (primera) y columna 0 (primera).\n",
    "  * vas al elemento por **posición exacta**.\n",
    "  * Resultado: **1000**.\n",
    "\n",
    "* **`prestamos[1, 1]`**\n",
    "\n",
    "  * Fila 1 (segunda) y columna 1 (segunda).\n",
    "  * De nuevo, posición precisa.\n",
    "  * Resultado: **24**.\n",
    "\n",
    "### Slicing = agarrar un tramo (una parte continua):\n",
    "\n",
    "* **`prestamos[:, 1]`**\n",
    "\n",
    "  * `:` en filas: **todas** las filas (desde 0 hasta el final).\n",
    "  * `1` en columna: solo la segunda columna.\n",
    "  * acá indico un tramo (todas las filas), y elijo una posición fija sobre columnas.\n",
    "  * Resultado: todos los plazos → `[12, 24, 18]`.\n",
    "\n",
    "* **`prestamos[0:2, :]`**\n",
    "\n",
    "  * `0:2` en filas: fila 0 **inclusiva** hasta fila 2 **excluida** → filas 0 y 1.\n",
    "  * `:` en columna: todas las columnas.\n",
    "  * Con slicing estás pidiendo “una sección de la tabla, filas 0 y 1 completas.\n",
    "\n",
    "* **`prestamos[:, 0]`**\n",
    "\n",
    "  * `:` en filas = todas las filas.\n",
    "  * `0` en columna = solo la primera columna.\n",
    "  * Resultado: todos los montos → `[1000, 2000, 1500]`."
   ]
  },
  {
   "cell_type": "markdown",
   "id": "44071366",
   "metadata": {},
   "source": [
    "| Acción                     | Qué hacés en palabras claras                             | Analogía rápida                      |\n",
    "| -------------------------- | -------------------------------------------------------- | ------------------------------------ |\n",
    "| **Indexación**             | Agarrás un dato preciso por su posición                  | “Voy al casillero exacto”            |\n",
    "| **Slicing filas (`0:2`)**  | Agarrás filas 0 y 1 (2 no se incluye)                    | “Quiero solo las dos primeras filas” |\n",
    "| **Slicing columnas (`:`)** | Todas las columnas                                       | “Dame todo lo que hay”               |\n",
    "| **Poner `:` en filas**     | Elegís todas las filas, desde la primera hasta la última | “Dame a todas las personas”          |\n"
   ]
  },
  {
   "cell_type": "markdown",
   "id": "7b4109e5",
   "metadata": {},
   "source": [
    "## 6. Ejercicios para los alumnos\n",
    "\n",
    "#### Con el siguiente array que representa las ventas (en USD) de 4 tiendas durante 5 días:\n"
   ]
  },
  {
   "cell_type": "code",
   "execution_count": null,
   "id": "9dd0bdef",
   "metadata": {},
   "outputs": [],
   "source": [
    "import numpy as np\n",
    "\n",
    "ventas = np.array([\n",
    "    [120, 135, 150, 160, 170],   # Tienda 1\n",
    "    [200, 210, 190, 220, 230],   # Tienda 2\n",
    "    [90,  100, 95,  110, 105],   # Tienda 3\n",
    "    [300, 320, 310, 305, 315]    # Tienda 4\n",
    "])\n"
   ]
  },
  {
   "cell_type": "markdown",
   "id": "0bba5ddc",
   "metadata": {},
   "source": [
    "## Ejercicios:\n",
    "\n",
    "- #### Mostrá la venta del tercer día de la Tienda 2.\n",
    "\n",
    "- #### Mostrá todas las ventas de la Tienda 4.\n",
    "\n",
    "- #### Mostrá todas las ventas del primer día (todas las tiendas).\n",
    "\n",
    "- #### Mostrá las ventas de las Tiendas 1 y 2 durante los primeros 3 días.\n",
    "\n",
    "- #### Mostrá las ventas de la Tienda 3, excepto el primer y el último día.\n",
    "\n",
    "- #### Mostrá todas las ventas de las Tiendas 2 y 4, pero solo en los días 2 y 4.\n",
    "\n",
    "- #### Mostrá el bloque central de la tabla: filas 1 y 2 (Tienda 2 y 3) y columnas 1 a 3 (días 2, 3 y 4)."
   ]
  },
  {
   "cell_type": "markdown",
   "id": "0de50737",
   "metadata": {},
   "source": []
  },
  {
   "cell_type": "markdown",
   "id": "44e03dde",
   "metadata": {},
   "source": [
    "# Operaciones entre arrays"
   ]
  },
  {
   "cell_type": "markdown",
   "id": "8bf75837",
   "metadata": {},
   "source": [
    "## 1. La necesidad\n",
    "\n",
    "### Imaginá esta situación: trabajás en un banco y tenés:\n",
    "\n",
    "- #### un array con los montos de préstamos que se entregaron,\n",
    "\n",
    "- #### otro array con los intereses aplicados,\n",
    "\n",
    "- #### y ahora querés saber cuánto debe devolver cada cliente.\n",
    "\n",
    "#### Si tuvieras que hacerlo con listas normales de Python, tendrías que armar bucles, multiplicar uno por uno, acumular en una lista nueva… demasiado trabajo y poco claro.\n",
    "\n",
    "#### Con NumPy, las operaciones son automáticas: podés sumar, restar, multiplicar y dividir arrays completos de una sola vez, como si fueran una calculadora gigante.\n",
    "\n",
    "#### Esto hace que el análisis sea rápido, limpio y fácil de leer.\n",
    "---"
   ]
  },
  {
   "cell_type": "markdown",
   "id": "28bf798f",
   "metadata": {},
   "source": [
    "## 2. El concepto\n",
    "\n",
    "### Cuando trabajamos con arrays en NumPy:\n",
    "\n",
    "- #### Una operación matemática aplicada a un array se hace elemento por elemento (vectorización).\n",
    "\n",
    "- #### Los operadores son los mismos que en matemáticas (+, -, *, /, **).\n",
    "\n",
    "- #### También podemos hacer comparaciones (>, <, ==) y obtener arrays de valores booleanos (verdadero/falso).\n",
    "\n",
    "#### La condición: los arrays deben tener la misma forma (shape).\n",
    "#### Si no la tienen, entra en juego algo llamado broadcasting (que veremos más adelante).\n",
    "---"
   ]
  },
  {
   "cell_type": "markdown",
   "id": "d44db523",
   "metadata": {},
   "source": [
    "## 3. Ejemplo práctico"
   ]
  },
  {
   "cell_type": "code",
   "execution_count": 1,
   "id": "8d40c35b",
   "metadata": {},
   "outputs": [
    {
     "name": "stdout",
     "output_type": "stream",
     "text": [
      "Montos: [1000 2000 1500]\n",
      "Intereses: [0.1  0.15 0.2 ]\n",
      "Total a pagar: [1100. 2300. 1800.]\n",
      "¿El primer cliente paga más que el segundo? False\n",
      "¿Algún cliente paga exactamente 1800? True\n"
     ]
    }
   ],
   "source": [
    "import numpy as np\n",
    "\n",
    "# Montos de préstamos\n",
    "montos = np.array([1000, 2000, 1500])\n",
    "\n",
    "# Intereses en porcentaje\n",
    "intereses = np.array([0.10, 0.15, 0.20])\n",
    "\n",
    "# Cálculo: total a pagar = monto + monto*interés\n",
    "total = montos + (montos * intereses)\n",
    "\n",
    "print(\"Montos:\", montos)\n",
    "print(\"Intereses:\", intereses)\n",
    "print(\"Total a pagar:\", total)\n",
    "\n",
    "# Comparaciones\n",
    "print(\"¿El primer cliente paga más que el segundo?\", total[0] > total[1])\n",
    "print(\"¿Algún cliente paga exactamente 1800?\", 1800 in total)\n"
   ]
  },
  {
   "cell_type": "markdown",
   "id": "6f6f1bf7",
   "metadata": {},
   "source": [
    "## 4. Explicación\n",
    "\n",
    "#### 1. montos * intereses\n",
    "\n",
    "- #### Multiplica cada elemento del array montos por su par en intereses.\n",
    "\n",
    "- #### Resultado: [100, 300, 300] → son los intereses de cada préstamo.\n",
    "\n",
    "#### 2. montos + (montos * intereses)\n",
    "\n",
    "- #### Suma el monto original con los intereses calculados.\n",
    "\n",
    "- #### Resultado: [1100, 2300, 1800].\n",
    "\n",
    "#### 3. Comparación total[0] > total[1]\n",
    "\n",
    "- #### ¿1100 es mayor que 2300? → False.\n",
    "\n",
    "#### Comparación 1800 in total\n",
    "\n",
    "- #### Busca si existe exactamente ese valor en el array.\n",
    "\n",
    "- #### Como está, devuelve True.\n",
    "---"
   ]
  },
  {
   "cell_type": "markdown",
   "id": "8f692a74",
   "metadata": {},
   "source": [
    "## 5. Más ejemplos rápidos"
   ]
  },
  {
   "cell_type": "code",
   "execution_count": 2,
   "id": "3a3ef3d4",
   "metadata": {},
   "outputs": [
    {
     "name": "stdout",
     "output_type": "stream",
     "text": [
      "[5 7 9]\n",
      "[-3 -3 -3]\n",
      "[ 4 10 18]\n",
      "[0.25 0.4  0.5 ]\n",
      "[1 4 9]\n",
      "[False False  True]\n"
     ]
    }
   ],
   "source": [
    "a = np.array([1, 2, 3])\n",
    "b = np.array([4, 5, 6])\n",
    "\n",
    "print(a + b)   \n",
    "print(a - b)  \n",
    "print(a * b)  \n",
    "print(a / b)  \n",
    "print(a ** 2) \n",
    "print(a > 2)   \n"
   ]
  },
  {
   "cell_type": "markdown",
   "id": "c30c793f",
   "metadata": {},
   "source": [
    "#### cada operación se aplica a todos los elementos a la vez.\n",
    "---"
   ]
  },
  {
   "cell_type": "markdown",
   "id": "8f54c6bd",
   "metadata": {},
   "source": [
    "## 6. Ejercicios para los alumnos\n",
    "\n",
    "#### Crear dos arrays:\n",
    "\n",
    "- #### uno con los sueldos base de 5 empleados,\n",
    "\n",
    "- #### otro con los bonos que recibieron.\n",
    "- #### Calcular el sueldo total de cada empleado.\n",
    "\n",
    "#### Crear un array con temperaturas en °C y convertir todas a °F usando la fórmula:\n",
    "\n",
    "- #### `𝐹 = 𝐶 × 1.8 + 32`\n",
    "\n",
    "\n",
    "#### Dado un array con ventas de 6 días, calcular el promedio diario y verificar si algún día se vendió exactamente el doble del promedio.\n",
    "\n",
    "#### Crear un array con las edades de 8 personas y:\n",
    "\n",
    "- #### sumar 1 año a todas (nuevo año).\n",
    "\n",
    "- #### verificar cuáles son mayores de 18."
   ]
  },
  {
   "cell_type": "markdown",
   "id": "57110c87",
   "metadata": {},
   "source": [
    "### 1er ejercicio \n",
    "#### Sueldos + bonos → sueldo total por empleado"
   ]
  },
  {
   "cell_type": "code",
   "execution_count": 3,
   "id": "b53596a5",
   "metadata": {},
   "outputs": [
    {
     "name": "stdout",
     "output_type": "stream",
     "text": [
      "Sueldos base: [1000 1200 1100  950 1300]\n",
      "Bonos: [100 200   0  50 150]\n",
      "Sueldo total: [1100 1400 1100 1000 1450]\n"
     ]
    }
   ],
   "source": [
    "import numpy as np\n",
    "\n",
    "sueldos = np.array([1000, 1200, 1100, 950, 1300])  \n",
    "bonos   = np.array([100,  200,    0,  50,  150])    \n",
    "\n",
    "totales = sueldos + bonos\n",
    "\n",
    "print(\"Sueldos base:\", sueldos)\n",
    "print(\"Bonos:\", bonos)\n",
    "print(\"Sueldo total:\", totales)\n"
   ]
  },
  {
   "cell_type": "markdown",
   "id": "3d65db04",
   "metadata": {},
   "source": [
    "### 2do ejercicio\n",
    "#### Temperaturas °C → °F (F = C × 1.8 + 32)"
   ]
  },
  {
   "cell_type": "code",
   "execution_count": 5,
   "id": "1751d457",
   "metadata": {},
   "outputs": [
    {
     "name": "stdout",
     "output_type": "stream",
     "text": [
      "°C: [20.  25.5  0.  -5.  30. ]\n",
      "°F: [68.  77.9 32.  23.  86. ]\n"
     ]
    },
    {
     "data": {
      "text/plain": [
       "'\\nLa operación C * 1.8 + 32 se aplica a todos los elementos del array de una vez (vectorización). No hay bucles manuales.\\n'"
      ]
     },
     "execution_count": 5,
     "metadata": {},
     "output_type": "execute_result"
    }
   ],
   "source": [
    "C = np.array([20, 25.5, 0, -5, 30], dtype=float)\n",
    "F = C * 1.8 + 32\n",
    "\n",
    "print(\"°C:\", C)\n",
    "print(\"°F:\", F)\n",
    "\n",
    "'''\n",
    "La operación C * 1.8 + 32 se aplica a todos los elementos del array de una vez (vectorización). No hay bucles manuales.\n",
    "'''\n"
   ]
  },
  {
   "cell_type": "markdown",
   "id": "515e24ec",
   "metadata": {},
   "source": [
    "## 3) Ventas de 6 días → promedio y “¿algún día vendió el doble del promedio?”"
   ]
  },
  {
   "cell_type": "code",
   "execution_count": 8,
   "id": "73e41c6b",
   "metadata": {},
   "outputs": [
    {
     "name": "stdout",
     "output_type": "stream",
     "text": [
      "Ventas: [ 50. 100. 200.  80.  70. 100.]\n",
      "Promedio: 100.0\n",
      "Doble del promedio: 200.0\n",
      "¿Cada día es el doble del promedio?: [False False  True False False False]\n",
      "¿Existe algún día con el doble del promedio?: True\n"
     ]
    }
   ],
   "source": [
    "ventas = np.array([50, 100, 200, 80, 70, 100], dtype=float)\n",
    "\n",
    "promedio = ventas.mean()\n",
    "doble_prom = 2 * promedio\n",
    "\n",
    "print(\"Ventas:\", ventas)\n",
    "print(\"Promedio:\", promedio)\n",
    "print(\"Doble del promedio:\", doble_prom)\n",
    "\n",
    "# comparación directa\n",
    "resultado = ventas == doble_prom\n",
    "print(\"¿Cada día es el doble del promedio?:\", resultado)\n",
    "\n",
    "# extra: comprobar si existe al menos un True\n",
    "print(\"¿Existe algún día con el doble del promedio?:\", True in resultado)\n",
    "\n"
   ]
  },
  {
   "cell_type": "markdown",
   "id": "debbdab0",
   "metadata": {},
   "source": [
    "## 4) Edades → sumar 1 año y marcar mayores de 18"
   ]
  },
  {
   "cell_type": "code",
   "execution_count": 7,
   "id": "04f263ca",
   "metadata": {},
   "outputs": [
    {
     "name": "stdout",
     "output_type": "stream",
     "text": [
      "Edades originales: [17 18 22 15 30 19 12 45]\n",
      "Edades + 1 año: [18 19 23 16 31 20 13 46]\n",
      "¿Mayores de 18?: [False  True  True False  True  True False  True]\n",
      "Edades (solo mayores): [19 23 31 20 46]\n"
     ]
    }
   ],
   "source": [
    "edades = np.array([17, 18, 22, 15, 30, 19, 12, 45])\n",
    "edades_mas_1 = edades + 1\n",
    "mayores_18 = edades_mas_1 > 18            \n",
    "\n",
    "print(\"Edades originales:\", edades)\n",
    "print(\"Edades + 1 año:\", edades_mas_1)\n",
    "print(\"¿Mayores de 18?:\", mayores_18)\n",
    "print(\"Edades (solo mayores):\", edades_mas_1[mayores_18])\n"
   ]
  },
  {
   "cell_type": "markdown",
   "id": "6a20e21b",
   "metadata": {},
   "source": []
  },
  {
   "cell_type": "markdown",
   "id": "7f7fdca5",
   "metadata": {},
   "source": [
    "# Caso práctico: segmentar préstamos en rangos"
   ]
  },
  {
   "cell_type": "markdown",
   "id": "2691e469",
   "metadata": {},
   "source": [
    "## 1) Necesidad\n",
    "\n",
    "#### Imaginá que trabajás en un banco.\n",
    "#### Tenés una tabla con préstamos: cada fila representa a un cliente, y cada préstamo tiene un monto en dinero.\n",
    "\n",
    "#### Tu jefa te pide:\n",
    "\n",
    "- #### separar los préstamos en pequeños, medianos y grandes,\n",
    "\n",
    "- #### contar cuántos hay en cada grupo,\n",
    "\n",
    "- #### y calcular el promedio de monto por cada grupo.\n",
    "\n",
    "#### Hacer esto “a mano” (mirando uno por uno y decidiendo si es chico, mediano o grande) sería imposible si tenés miles de clientes.\n",
    "#### Necesitamos una forma rápida y automática.\n",
    "### `Para eso usamos segmentación en rangos con NumPy.`\n",
    "---"
   ]
  },
  {
   "cell_type": "markdown",
   "id": "25553bbc",
   "metadata": {},
   "source": [
    "## 2) El concepto\n",
    "\n",
    "#### Segmentar en rangos significa dividir un conjunto de valores en categorías según intervalos numéricos.\n",
    "\n",
    "### Ejemplo cotidiano:\n",
    "\n",
    "#### En la escuela, las notas se dividen en rangos:\n",
    "\n",
    "- #### 1 a 3 → desaprobado\n",
    "\n",
    "- #### 4 a 6 → aprobado justo\n",
    "\n",
    "- #### 7 a 10 → excelente\n",
    "\n",
    "#### Hacemos lo mismo con los préstamos:\n",
    "\n",
    "- #### de 0 a 5000 → préstamo pequeño\n",
    "\n",
    "- #### de 5001 a 20000 → préstamo mediano\n",
    "\n",
    "- #### más de 20000 → préstamo grande\n",
    "\n",
    "#### Esto sirve para analizar datos más fácilmente.\n",
    "#### En lugar de mirar cada número, miramos categorías.\n",
    "---"
   ]
  },
  {
   "cell_type": "markdown",
   "id": "ed189d48",
   "metadata": {},
   "source": [
    "## 3) Cómo lo resolvemos\n",
    "\n",
    "#### NumPy nos da funciones que ayudan:\n",
    "\n",
    "- #### np.where → sirve para poner condiciones y devolver un resultado según esa condición.\n",
    "#### *Ejemplo:* “si el monto es menor a 5000, poner ‘Pequeño’, si no, poner ‘Grande’”.\n",
    "\n",
    "- #### np.digitize → sirve para asignar cada número a un rango automáticamente, según límites que le damos.\n",
    "---"
   ]
  },
  {
   "cell_type": "markdown",
   "id": "46d806e1",
   "metadata": {},
   "source": [
    "## 4) Ejemplo en código\n",
    "#### Primero creamos un array con montos de préstamos:"
   ]
  },
  {
   "cell_type": "code",
   "execution_count": 9,
   "id": "2d1e7584",
   "metadata": {},
   "outputs": [],
   "source": [
    "import numpy as np\n",
    "\n",
    "prestamos = np.array([1000, 3000, 7000, 15000, 25000, 50000])\n"
   ]
  },
  {
   "cell_type": "markdown",
   "id": "48c9debc",
   "metadata": {},
   "source": [
    "#### Ahora segmentamos en 3 rangos:\n",
    "\n",
    "- #### Pequeño: 0–5000\n",
    "\n",
    "- #### Mediano: 5001–20000\n",
    "\n",
    "- #### Grande: más de 20000\n",
    "\n",
    "### *Usamos np.where:*"
   ]
  },
  {
   "cell_type": "code",
   "execution_count": 10,
   "id": "d5b398db",
   "metadata": {},
   "outputs": [
    {
     "name": "stdout",
     "output_type": "stream",
     "text": [
      "['Pequeño' 'Pequeño' 'Mediano' 'Mediano' 'Grande' 'Grande']\n"
     ]
    }
   ],
   "source": [
    "categorias = np.where(prestamos <= 5000, \"Pequeño\",\n",
    "            np.where(prestamos <= 20000, \"Mediano\", \"Grande\"))\n",
    "\n",
    "print(categorias)\n"
   ]
  },
  {
   "cell_type": "markdown",
   "id": "e2419e76",
   "metadata": {},
   "source": [
    "## 5) Explicación del ejemplo\n",
    "\n",
    "#### prestamos: es el array con montos.\n",
    "\n",
    "#### np.where(condición, valor_si_verdadero, valor_si_falso):\n",
    "\n",
    "#### Primero mira si el préstamo es menor o igual a 5000.\n",
    "\n",
    "#### Si es cierto, le pone “Pequeño”.\n",
    "\n",
    "#### Si no, pasa a la segunda condición: ¿es menor o igual a 20000?\n",
    "\n",
    "#### Si sí, le pone “Mediano”.\n",
    "\n",
    "#### Si no, le pone “Grande”.\n",
    "\n",
    "### Es como un semáforo con varias luces:\n",
    "\n",
    "- #### si es rojo, pará → Pequeño,\n",
    "\n",
    "- #### si es amarillo, cuidado → Mediano,\n",
    "\n",
    "- #### si es verde, seguí → Grande.\n",
    "---"
   ]
  },
  {
   "cell_type": "markdown",
   "id": "b177441a",
   "metadata": {},
   "source": [
    "## 6) Conteo y promedio por grupo\n",
    "### Ahora que tenemos categorías, podemos agrupar y sacar estadísticas:"
   ]
  },
  {
   "cell_type": "code",
   "execution_count": null,
   "id": "4362a308",
   "metadata": {},
   "outputs": [
    {
     "name": "stdout",
     "output_type": "stream",
     "text": [
      "Pequeño → cantidad: 2 → promedio: 2000.0\n",
      "Mediano → cantidad: 2 → promedio: 11000.0\n",
      "Grande → cantidad: 2 → promedio: 37500.0\n"
     ]
    }
   ],
   "source": [
    "for categoria in [\"Pequeño\", \"Mediano\", \"Grande\"]:\n",
    "    prestamos_categoria = prestamos[categorias == categoria]\n",
    "    print(categoria, \"→ cantidad:\", len(prestamos_categoria), \"→ promedio:\", prestamos_categoria.mean())\n"
   ]
  },
  {
   "cell_type": "markdown",
   "id": "5c38a41b",
   "metadata": {},
   "source": [
    "## 7) Ejemplo con edades de personas\n",
    "#### Guarda solo las edades que son de la categoría “adulto”."
   ]
  },
  {
   "cell_type": "code",
   "execution_count": 12,
   "id": "733c9fa7",
   "metadata": {},
   "outputs": [
    {
     "name": "stdout",
     "output_type": "stream",
     "text": [
      "[25 40]\n"
     ]
    }
   ],
   "source": [
    "edades = np.array([5, 12, 17, 25, 40])\n",
    "categorias = np.array([\"niño\", \"niño\", \"adolescente\", \"adulto\", \"adulto\"])\n",
    "\n",
    "categoria = \"adulto\"\n",
    "edades_categoria = edades[categorias == categoria]\n",
    "print(edades_categoria)\n"
   ]
  },
  {
   "cell_type": "markdown",
   "id": "aaee6572",
   "metadata": {},
   "source": [
    "# 8) Ejemplo con temperaturas\n",
    "#### Guarda solo las temperaturas que son de la categoría “templado”."
   ]
  },
  {
   "cell_type": "code",
   "execution_count": 13,
   "id": "63290ecb",
   "metadata": {},
   "outputs": [
    {
     "name": "stdout",
     "output_type": "stream",
     "text": [
      "[18 25]\n"
     ]
    }
   ],
   "source": [
    "temperaturas = np.array([10, 18, 25, 30, 35])\n",
    "categorias = np.array([\"frío\", \"templado\", \"templado\", \"calor\", \"calor\"])\n",
    "\n",
    "categoria = \"templado\"\n",
    "temps_categoria = temperaturas[categorias == categoria]\n",
    "print(temps_categoria)\n"
   ]
  },
  {
   "cell_type": "markdown",
   "id": "6b8f3be6",
   "metadata": {},
   "source": [
    "# 9) Ejercicios para practicar\n",
    "\n",
    "#### Usá este array de préstamos: `[2000, 4500, 6000, 12000, 18000, 22000, 40000]`.\n",
    "#### Segmentalo en Pequeño (<=5000), Mediano (5001–20000), Grande (>20000).\n",
    "\n",
    "### Cambiá los rangos:\n",
    "\n",
    "- #### 0–10000 → Bajo,\n",
    "\n",
    "- #### 10001–30000 → Medio,\n",
    "\n",
    "- #### más de 30000 → Alto.\n",
    "\n",
    "### Calculá:\n",
    "\n",
    "- #### cuántos préstamos son “Altos”,\n",
    "\n",
    "- #### cuál es el promedio de los “Bajos”.\n",
    "---"
   ]
  },
  {
   "cell_type": "markdown",
   "id": "1b21c3f3",
   "metadata": {},
   "source": [
    "# Resolver ejercicio"
   ]
  },
  {
   "cell_type": "code",
   "execution_count": 15,
   "id": "f0f36cb0",
   "metadata": {},
   "outputs": [
    {
     "name": "stdout",
     "output_type": "stream",
     "text": [
      "Cantidad de Altos: 1\n",
      "Promedio de Bajos: 4166.666666666667\n"
     ]
    }
   ],
   "source": [
    "import numpy as np\n",
    "\n",
    "# 1) Creamos el array con los montos de los préstamos\n",
    "prestamos = np.array([2000, 4500, 6000, 12000, 18000, 22000, 40000])\n",
    "\n",
    "# 2) Clasificamos cada préstamo en una categoría (Bajo, Medio, Alto)\n",
    "categorias = np.where(prestamos <= 10000, \"Bajo\", # - Si es menor o igual a 10000 → \"Bajo\"\n",
    "            np.where(prestamos <= 30000, \"Medio\", \"Alto\"))# - Si no, pero menor o igual a 30000 → \"Medio\" -- # - Si no, entonces → \"Alto\"\n",
    "\n",
    "# Ahora categorias contiene algo así:\n",
    "# ['Bajo' 'Bajo' 'Medio' 'Medio' 'Medio' 'Medio' 'Alto']\n",
    "\n",
    "# 3a) Filtramos los préstamos que son \"Altos\"\n",
    "# categorias == \"Alto\" devuelve un array de True/False\n",
    "altos = prestamos[categorias == \"Alto\"]\n",
    "\n",
    "print(\"Cantidad de Altos:\", len(altos))\n",
    "\n",
    "# 3b) Filtramos los préstamos que son \"Bajos\"\n",
    "bajos = prestamos[categorias == \"Bajo\"]\n",
    "\n",
    "# Calculamos el promedio de los préstamos \"Bajos\"\n",
    "print(\"Promedio de Bajos:\", bajos.mean())\n"
   ]
  },
  {
   "cell_type": "markdown",
   "id": "e127905f",
   "metadata": {},
   "source": [
    "# 9) Ejercicio: Segmentar salarios\n",
    "## Contexto\n",
    "\n",
    "#### Imaginá que trabajás en el área de Recursos Humanos de una empresa.\n",
    "#### Tenés una lista con los salarios mensuales de los empleados.\n",
    "\n",
    "#### Querés dividirlos en 3 grupos:\n",
    "\n",
    "- #### Bajo: hasta 3000\n",
    "\n",
    "- #### Medio: de 3001 a 7000\n",
    "\n",
    "- #### Alto: más de 7000\n",
    "\n",
    "#### Después, necesitás responder:\n",
    "\n",
    "- #### ¿Cuántos empleados ganan en la categoría Media?\n",
    "\n",
    "- #### ¿Cuál es el promedio de salarios Altos?"
   ]
  },
  {
   "cell_type": "code",
   "execution_count": 16,
   "id": "8f14c709",
   "metadata": {},
   "outputs": [
    {
     "name": "stdout",
     "output_type": "stream",
     "text": [
      "Cantidad de empleados con salario Medio: 3\n",
      "Promedio de salarios Altos: 8400.0\n"
     ]
    }
   ],
   "source": [
    "import numpy as np\n",
    "\n",
    "# salarios de empleados\n",
    "salarios = np.array([1500, 2800, 3500, 5000, 7200, 10000, 4500, 8000])\n",
    "\n",
    "# clasificar en Bajo, Medio, Alto\n",
    "categorias = np.where(salarios <= 3000, \"Bajo\",\n",
    "            np.where(salarios <= 7000, \"Medio\", \"Alto\"))\n",
    "\n",
    "# filtrar salarios Medios\n",
    "medios = salarios[categorias == \"Medio\"]\n",
    "\n",
    "# filtrar salarios Altos\n",
    "altos = salarios[categorias == \"Alto\"]\n",
    "\n",
    "# mostrar resultados\n",
    "print(\"Cantidad de empleados con salario Medio:\", len(medios))\n",
    "print(\"Promedio de salarios Altos:\", altos.mean())\n"
   ]
  },
  {
   "cell_type": "markdown",
   "id": "cbea0e0d",
   "metadata": {},
   "source": [
    "## Tarea para la casa: Clasificar películas por duración \n",
    "\n",
    "### Contexto\n",
    "\n",
    "#### Tenés un cine que quiere analizar la duración de las películas que pasan en sus salas.\n",
    "#### La idea es dividir las películas en categorías y luego hacer un análisis.\n",
    "\n",
    "### Datos\n",
    "\n",
    "#### Duraciones de películas en minutos:\n",
    "\n",
    "\n",
    "#### `duraciones = np.array([80, 95, 120, 150, 110, 200, 75, 130, 160])`\n",
    "\n",
    "\n",
    "### Lo que deben hacer\n",
    "\n",
    "#### 1. Crear categorías:\n",
    "\n",
    "- ####   **Corta**: hasta 90 minutos\n",
    "- ####   **Media**: entre 91 y 140 minutos\n",
    "- ####   **Larga**: más de 140 minutos\n",
    "\n",
    "### 2. Calcular:\n",
    "\n",
    "- ####   Cuántas películas son **Largas**.\n",
    "- ####   Cuál es el **promedio de duración** de las películas **Medias**.\n",
    "\n",
    "---\n"
   ]
  },
  {
   "cell_type": "code",
   "execution_count": 17,
   "id": "cd00cd96",
   "metadata": {},
   "outputs": [
    {
     "name": "stdout",
     "output_type": "stream",
     "text": [
      "Cantidad de películas Largas: 3\n",
      "Promedio de duración de las Medias: 113.75\n"
     ]
    }
   ],
   "source": [
    "import numpy as np\n",
    "\n",
    "# datos de las duraciones de películas\n",
    "duraciones = np.array([80, 95, 120, 150, 110, 200, 75, 130, 160])\n",
    "\n",
    "# clasificamos en Corta, Media o Larga\n",
    "categorias = np.where(duraciones <= 90, \"Corta\",\n",
    "            np.where(duraciones <= 140, \"Media\", \"Larga\"))\n",
    "\n",
    "# filtramos las películas largas\n",
    "largas = duraciones[categorias == \"Larga\"]\n",
    "\n",
    "# filtramos las películas medias\n",
    "medias = duraciones[categorias == \"Media\"]\n",
    "\n",
    "# mostramos resultados\n",
    "print(\"Cantidad de películas Largas:\", len(largas))\n",
    "print(\"Promedio de duración de las Medias:\", medias.mean())\n",
    "\n"
   ]
  }
 ],
 "metadata": {
  "kernelspec": {
   "display_name": ".venv",
   "language": "python",
   "name": "python3"
  },
  "language_info": {
   "codemirror_mode": {
    "name": "ipython",
    "version": 3
   },
   "file_extension": ".py",
   "mimetype": "text/x-python",
   "name": "python",
   "nbconvert_exporter": "python",
   "pygments_lexer": "ipython3",
   "version": "3.11.6"
  }
 },
 "nbformat": 4,
 "nbformat_minor": 5
}
