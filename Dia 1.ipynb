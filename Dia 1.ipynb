{
 "cells": [
  {
   "cell_type": "markdown",
   "id": "27640c72",
   "metadata": {},
   "source": [
    "## Introducción \n",
    "\n",
    "Antes de empezar con el ejemplo, pensemos qué queremos lograr.\n",
    "\n",
    "En Python ya conocemos las **listas**, que sirven para guardar varios valores. Pero cuando hablamos de análisis de datos, necesitamos algo más potente: una estructura que maneje **muchos números de manera rápida y ordenada**.\n",
    "\n",
    "Ahí entra **NumPy** con sus **arrays numéricos**.\n",
    "\n",
    "* Son parecidos a las listas, pero están optimizados para cálculos matemáticos.\n",
    "* Guardan todos los valores del mismo tipo (por ejemplo, todos enteros).\n",
    "* Y lo más importante: permiten hacer operaciones sobre todos los elementos a la vez, sin recorrerlos uno por uno.\n",
    "\n",
    "El primer paso para trabajar con NumPy es **crear un array**. Este ejercicio nos va a mostrar cómo transformar una lista común de Python en un array NumPy y ver cómo se comporta.\n",
    "\n",
    "---\n"
   ]
  },
  {
   "cell_type": "markdown",
   "id": "f30bdf17",
   "metadata": {},
   "source": [
    "# Crear un array de enteros\n",
    "\n",
    "#### Primero vamos a usar NumPy, que es la librería para trabajar con arreglos numéricos."
   ]
  },
  {
   "cell_type": "code",
   "execution_count": 5,
   "id": "767471e1",
   "metadata": {},
   "outputs": [],
   "source": [
    "# Con esto traemos NumPy y le ponemos el nombre corto np para usarlo más fácil.\n",
    "import numpy as np\n",
    "\n",
    "# creamos un array con la funcion aray() de numpay\n",
    "numeros = np.array([1, 2, 3, 4, 5])\n"
   ]
  },
  {
   "cell_type": "markdown",
   "id": "0cae9182",
   "metadata": {},
   "source": [
    "Le pasamos una lista normal de Python a la función np.array.\n",
    "\n",
    "NumPy convierte esa lista en un array numérico, que es más rápido y eficiente.\n",
    "\n",
    "Fíjense que todos los datos son del mismo tipo: números enteros."
   ]
  },
  {
   "cell_type": "code",
   "execution_count": null,
   "id": "24e06d84",
   "metadata": {},
   "outputs": [
    {
     "name": "stdout",
     "output_type": "stream",
     "text": [
      "[1 2 3 4 5]\n"
     ]
    }
   ],
   "source": [
    "# Imprimir el array\n",
    "print(numeros)"
   ]
  },
  {
   "cell_type": "markdown",
   "id": "632c8a7b",
   "metadata": {},
   "source": [
    "Esto nos devuelve [1 2 3 4 5]\n",
    "\n",
    "Noten que no aparecen comas, porque NumPy tiene su propia forma de mostrar los datos.\n",
    "\n",
    "Cierre del ejemplo\n",
    "\n",
    "Lo que acabamos de hacer es transformar una lista común en un array NumPy. A partir de acá vamos a poder aplicar operaciones matemáticas a todo el conjunto de números de una sola vez."
   ]
  },
  {
   "cell_type": "markdown",
   "id": "e5c1411f",
   "metadata": {},
   "source": []
  },
  {
   "cell_type": "markdown",
   "id": "1cea06d0",
   "metadata": {},
   "source": [
    "# Array de decimales\n",
    "\n",
    "#### No todos los datos son enteros. Muchas veces trabajamos con precios, medidas o promedios, que son decimales"
   ]
  },
  {
   "cell_type": "code",
   "execution_count": 8,
   "id": "68545faa",
   "metadata": {},
   "outputs": [
    {
     "name": "stdout",
     "output_type": "stream",
     "text": [
      "[10.5  20.    7.99 15.25]\n"
     ]
    }
   ],
   "source": [
    "precios = np.array([10.5, 20.0, 7.99, 15.25])\n",
    "print(precios)"
   ]
  },
  {
   "cell_type": "markdown",
   "id": "7d990739",
   "metadata": {},
   "source": [
    "##### El resultado va a ser [10.5 20. 7.99 15.25].\n",
    "\n",
    "##### Noten que NumPy conserva los decimales tal cual y los muestra en su propio formato.\n",
    "\n",
    "##### Con este ejemplo vemos que los arrays de NumPy no son solo para enteros: también podemos trabajar fácilmente con datos decimales, algo clave en análisis de precios, estadísticas o mediciones.\n",
    "\n",
    "\n",
    "## ¿Por qué no aparece el .0 en el 20.0?\n",
    "\n",
    "##### NumPy, cuando imprime arrays, usa un formato propio para mostrar los números.\n",
    "\n",
    "##### Si el número no necesita mostrar decimales (como el 20.0), lo recorta y lo muestra como 20.\n",
    "\n",
    "##### Pero internamente, el dato sigue siendo un número decimal (tipo float).\n",
    "\n",
    "#### Es decir:\n",
    "\n",
    "##### Lo que ves en pantalla (20) es solo la “presentación”.\n",
    "\n",
    "##### Lo que NumPy guarda en memoria es 20.0.\n",
    "\n",
    "---\n",
    "\n",
    "### ¿Cómo podemos mostrar siempre los decimales?\n",
    "\n",
    "##### Podemos decirle a NumPy que use un formato fijo para la salida:"
   ]
  },
  {
   "cell_type": "code",
   "execution_count": 20,
   "id": "82849cdd",
   "metadata": {},
   "outputs": [
    {
     "name": "stdout",
     "output_type": "stream",
     "text": [
      "[10.5 20.0  8.0 15.2]\n"
     ]
    }
   ],
   "source": [
    "np.set_printoptions(precision=1, floatmode=\"fixed\") \n",
    "precios = np.array([10.5, 20.0, 7.99, 15.25])\n",
    "print(precios)"
   ]
  },
  {
   "cell_type": "markdown",
   "id": "55106c3c",
   "metadata": {},
   "source": [
    "#### **precision=2** → muestra 2 decimales.\n",
    "\n",
    "#### **floatmode=\"fixed\"** → obliga a que todos los números aparezcan con decimales, aunque sean “enteros con coma” como 20.0\n",
    "\n",
    "---"
   ]
  },
  {
   "cell_type": "markdown",
   "id": "497cfcf2",
   "metadata": {},
   "source": []
  },
  {
   "cell_type": "markdown",
   "id": "cf8a90c6",
   "metadata": {},
   "source": [
    "# Array de strings"
   ]
  },
  {
   "cell_type": "markdown",
   "id": "007d1815",
   "metadata": {},
   "source": [
    "### Arrays de Strings en NumPy\n",
    "\n",
    "#### Un array de strings es un arreglo que guarda solo texto (palabras o letras) en lugar de números.\n",
    "- #### Se usa poco en NumPy, porque la librería está pensada para cálculos numéricos.\n",
    "- #### Sirve cuando querés representar categorías, símbolos o letras (ejemplo: tablero de ajedrez con \"B\" y \"N\")."
   ]
  },
  {
   "cell_type": "code",
   "execution_count": 26,
   "id": "6d14c7ab",
   "metadata": {},
   "outputs": [
    {
     "name": "stdout",
     "output_type": "stream",
     "text": [
      "['Ana' 'Luis' 'Sofía' 'Pedro']\n",
      "['A' 'B' 'C']\n"
     ]
    }
   ],
   "source": [
    "nombres = np.array([\"Ana\", \"Luis\", \"Sofía\", \"Pedro\"])\n",
    "print(nombres)\n",
    "\n",
    "\n",
    "\n",
    "letras = np.array([\"A\",\"B\",\"C\"])\n",
    "print(letras)\n",
    "\n"
   ]
  },
  {
   "cell_type": "markdown",
   "id": "c75ce600",
   "metadata": {},
   "source": [
    "### Recordatorio simple:\n",
    "\n",
    "- #### Igual que los arrays de números, pero guardan texto.\n",
    "\n",
    "- #### Útiles para representar cosas simbólicas, no para cálculos.\n",
    "\n",
    "---"
   ]
  },
  {
   "cell_type": "markdown",
   "id": "c147116a",
   "metadata": {},
   "source": []
  },
  {
   "cell_type": "markdown",
   "id": "028480b3",
   "metadata": {},
   "source": [
    "# Diferencia entre Lista y Array"
   ]
  },
  {
   "cell_type": "markdown",
   "id": "345f8b0b",
   "metadata": {},
   "source": [
    "##### Lista (Python) → es una cajita donde podés guardar de todo: números, textos, booleanos, incluso listas dentro de listas. Es flexible, pero no está pensada para hacer cuentas rápidas.\n",
    "\n",
    "### Ejemplo: [\"perro\", 3, True, 5.5]\n",
    "\n",
    "##### Array (NumPy) → es como una tabla de solo números, todos del mismo tipo (todos enteros, o todos decimales). Está optimizado para hacer cuentas muy rápido y en bloque (suma, promedio, etc.).\n",
    "\n",
    "### Ejemplo: [1, 2, 3, 4, 5]\n",
    "\n",
    "Idea clave:\n",
    "\n",
    "Lista = cajón donde metés de todo.\n",
    "\n",
    "Array = caja de herramientas ordenada y lista para matemáticas."
   ]
  },
  {
   "cell_type": "code",
   "execution_count": null,
   "id": "3e847ffd",
   "metadata": {},
   "outputs": [
    {
     "name": "stdout",
     "output_type": "stream",
     "text": [
      "[1, 2, 3, 4, 5]\n",
      "[1, 2, 3, 4, 5, 1, 2, 3, 4, 5]\n"
     ]
    }
   ],
   "source": [
    "# Ejemplo 1 – Crear una lista\n",
    "lista = [1,2,3,4,5]\n",
    "print(lista)\n",
    "# es una lista normal de Python."
   ]
  },
  {
   "cell_type": "markdown",
   "id": "3c2a5af6",
   "metadata": {},
   "source": [
    "# Multiplicar lista\n"
   ]
  },
  {
   "cell_type": "code",
   "execution_count": 17,
   "id": "85606099",
   "metadata": {},
   "outputs": [
    {
     "name": "stdout",
     "output_type": "stream",
     "text": [
      "[1, 2, 3, 4, 5, 1, 2, 3, 4, 5]\n"
     ]
    }
   ],
   "source": [
    "print(lista * 2)\n"
   ]
  },
  {
   "cell_type": "markdown",
   "id": "fcbfaae6",
   "metadata": {},
   "source": [
    "##### en listas, el * repite la lista, no multiplica los valores."
   ]
  },
  {
   "cell_type": "markdown",
   "id": "b4905675",
   "metadata": {},
   "source": [
    "# Multiplicar array"
   ]
  },
  {
   "cell_type": "code",
   "execution_count": 21,
   "id": "b5804947",
   "metadata": {},
   "outputs": [
    {
     "name": "stdout",
     "output_type": "stream",
     "text": [
      "[ 2  4  6  8 10]\n"
     ]
    }
   ],
   "source": [
    "numeros = np.array([1, 2, 3, 4, 5])\n",
    "print(numeros * 2)"
   ]
  },
  {
   "cell_type": "markdown",
   "id": "025dbdd7",
   "metadata": {},
   "source": [
    "#### Cuando hacés numeros * 2, NumPy no multiplica el array entero como si fuera un solo bloque, sino que aplica la operación a cada elemento.\n",
    "\n",
    "#### Esto se llama vectorización: NumPy “reparte” la operación a todos los valores sin que vos tengas que escribir un bucle for.\n",
    "\n",
    "---\n",
    "\n",
    "#### A diferencia de las listas de Python, donde si hacés [1,2,3]*2 se repite la lista, en NumPy se hace cálculo matemático de verdad"
   ]
  },
  {
   "cell_type": "markdown",
   "id": "49f0d425",
   "metadata": {},
   "source": [
    "# ejemplo de porque lista no esta optimizado para calculos matematicos"
   ]
  },
  {
   "cell_type": "code",
   "execution_count": null,
   "id": "f35881b6",
   "metadata": {},
   "outputs": [
    {
     "name": "stdout",
     "output_type": "stream",
     "text": [
      "[2, 4, 6, 8, 10]\n"
     ]
    }
   ],
   "source": [
    "\n",
    "lista = [1, 2, 3, 4, 5]\n",
    "\n",
    "# para multiplicar hay que usar un bucle\n",
    "resultado = []\n",
    "for numero in lista:\n",
    "    resultado.append(numero * 2)\n",
    "\n",
    "print(resultado)"
   ]
  },
  {
   "cell_type": "markdown",
   "id": "6580211f",
   "metadata": {},
   "source": [
    "# Cosas para resaltar\n",
    "\n",
    "#### Código más largo y difícil de leer\n",
    "\n",
    "- Con listas hay que escribir varias líneas (crear lista vacía, recorrer con for, usar append).\n",
    "\n",
    "- Con arrays, la misma tarea es una sola línea → más claro y mantenible.\n",
    "\n",
    "#### Mayor consumo de memoria\n",
    "\n",
    "- Las listas guardan cada elemento con su tipo de dato y referencias → ocupan más memoria.\n",
    "\n",
    "- Los arrays de NumPy almacenan todos los valores del mismo tipo en bloques continuos de memoria → más compactos.\n",
    "\n",
    "#### Flexibilidad vs. eficiencia\n",
    "\n",
    "- Una lista puede mezclar datos: [1, \"hola\", 3.5]. Eso es útil para algunas cosas, pero ineficiente para cálculos.\n",
    "\n",
    "- Un array solo permite un tipo → mucho más rápido en matemáticas.\n",
    "\n",
    "\n",
    "---\n",
    "\n",
    "# En una lista de Python\n",
    "\n",
    "- Cada número se guarda como un objeto independiente.\n",
    "\n",
    "- La lista solo guarda referencias (punteros) a esos objetos.\n",
    "\n",
    "- Eso significa que en la memoria tenés los elementos dispersos, y Python tiene que ir “saltando” de un lugar a otro para buscarlos.\n",
    "\n",
    "#### analogi: una mochila llena de sobres: cada sobre tiene adentro el número y un cartelito con su tipo (int, float, etc.). Para usarlos tenés que abrir cada sobre uno por uno → más lento.\n",
    "\n",
    "# En un array de NumPy\n",
    "\n",
    "- Todos los valores se guardan uno al lado del otro en la memoria, sin huecos.\n",
    "\n",
    "- Además, todos son del mismo tipo (int32, float64, etc.).\n",
    "\n",
    "- Eso permite que NumPy sepa exactamente dónde está cada valor → lee y procesa mucho más rápido.\n",
    "\n",
    "#### Analogia: una caja de fichas ordenadas: todas iguales, alineadas, sin sobres, listas para usarse de corrido. Podés agarrar varias de un tirón → mucho más rápido.\n",
    "\n",
    "---"
   ]
  },
  {
   "cell_type": "markdown",
   "id": "bae6b768",
   "metadata": {},
   "source": [
    "# Ejercicio para practicar"
   ]
  },
  {
   "cell_type": "markdown",
   "id": "c28352e1",
   "metadata": {},
   "source": [
    "- ### Crear un array con los números del 1 al 10.\n",
    "\n",
    "- ### Sumar 5 a todos los valores.\n",
    "\n",
    "- ### Elevar cada número al cubo.\n",
    "\n",
    "- ### Mostrar el resultado final en pantalla."
   ]
  },
  {
   "cell_type": "code",
   "execution_count": 2,
   "id": "5172891b",
   "metadata": {},
   "outputs": [
    {
     "name": "stdout",
     "output_type": "stream",
     "text": [
      "[ 216  343  512  729 1000 1331 1728 2197 2744 3375]\n"
     ]
    }
   ],
   "source": [
    "import numpy as np\n",
    "# paso 1 crear un array de numeros\n",
    "array_de_numeros = np.array([1, 2, 3, 4, 5, 6, 7, 8, 9, 10])\n",
    "# paso 2 sumar 5 a cada numero del array\n",
    "numeros_con_suma = array_de_numeros + 5\n",
    "# paso 3 elevar al cubo cada numero\n",
    "numeros_elevados_al_cubo = numeros_con_suma ** 3\n",
    "# paso 4 mostrar en pantall\n",
    "print(numeros_elevados_al_cubo)"
   ]
  },
  {
   "cell_type": "markdown",
   "id": "56ab4a53",
   "metadata": {},
   "source": [
    "---"
   ]
  },
  {
   "cell_type": "markdown",
   "id": "8134a33e",
   "metadata": {},
   "source": [
    "# Arrays 1D, 2D"
   ]
  },
  {
   "cell_type": "markdown",
   "id": "f91aa735",
   "metadata": {},
   "source": [
    "## Array de 1D (una dimnsion)\n",
    "\n",
    "\n",
    "##### Un **array de una dimensión** es la forma más básica de un array.\n",
    "\n",
    "- #### Los datos están **en una sola fila**, uno detrás del otro.\n",
    "- #### Se pueden recorrer de principio a fin, como si fuera una lista ordenada.\n",
    "- #### Cada dato tiene una **posición** (llamada *índice*) que nos dice en qué lugar está.\n",
    "- #### Es útil cuando solo necesitamos guardar datos simples que se relacionan en una sola línea: por ejemplo, las edades de un grupo de personas, las notas de un examen, o los precios de una lista de productos.\n",
    "\n",
    "#### Lo importante es entender que en un array de 1D no hay “filas y columnas”, solo una secuencia continua.\n",
    "\n",
    "---"
   ]
  },
  {
   "cell_type": "markdown",
   "id": "9b038fa6",
   "metadata": {},
   "source": [
    "## Array de 2D (dos dimensiones)\n",
    "\n",
    "#### Un **array de dos dimensiones** ya no es solo una línea de datos.\n",
    "#### Acá los valores se organizan en **filas y columnas**, como si fuera una tabla.\n",
    "\n",
    "- #### Imaginá una hoja de cálculo o una planilla de Excel: tenés filas horizontales y columnas verticales.\n",
    "- #### Para encontrar un dato no alcanza con saber su posición en una lista: ahora necesitás dos coordenadas → la **fila** y la **columna**.\n",
    "- #### Esto permite representar información que naturalmente se ordena en forma de tabla, como:\n",
    "\n",
    "  - #### notas de alumnos en diferentes materias,\n",
    "  - #### precios de productos en distintas sucursales,\n",
    "  - #### Temperaturas en distintas ciudades.\n",
    "\n",
    "#### Lo clave: un array de 2D te permite ubicar datos de manera más estructurada, como en una cuadrícula.\n",
    "\n",
    "---\n"
   ]
  },
  {
   "cell_type": "markdown",
   "id": "7200f54f",
   "metadata": {},
   "source": [
    "# Demostración en código (rápida y clara)"
   ]
  },
  {
   "cell_type": "markdown",
   "id": "6fdc6ca5",
   "metadata": {},
   "source": [
    "## Array 1D (lo que ya hicimos)\n",
    "\n",
    "#### Lo que tenemos acá es un array de una dimensión (1D). Es como una fila de valores, todos del mismo tipo, guardados uno al lado del otro. En este ejemplo el array tiene 5 elementos enteros."
   ]
  },
  {
   "cell_type": "code",
   "execution_count": 3,
   "id": "a276e3fb",
   "metadata": {},
   "outputs": [
    {
     "name": "stdout",
     "output_type": "stream",
     "text": [
      "[1 2 3 4 5]\n"
     ]
    }
   ],
   "source": [
    "import numpy as np\n",
    "array_de_una_dimension = np.array([1,2,3,4,5])\n",
    "print(array_de_una_dimension) "
   ]
  },
  {
   "cell_type": "markdown",
   "id": "e8f399b6",
   "metadata": {},
   "source": [
    "---"
   ]
  },
  {
   "cell_type": "markdown",
   "id": "99453ada",
   "metadata": {},
   "source": [
    "## Array 2D\n",
    "\n",
    "### Este es un array de dos dimensiones (2D). Se puede pensar como una tabla con filas y columnas, igual que en Excel.\n",
    "\n",
    "#### 1. usamos un corchete [] para crear el array (como siempre)\n",
    "\n",
    "#### El primer corchete grande abre y cierra todo el array.\n",
    "\n",
    "#### Adentro metemos 3 elementos → que a su vez son listas:\n",
    "\n",
    "- #### `[1,2,3,4]`\n",
    "\n",
    "- #### `[5,6,7,8]`\n",
    "\n",
    "- #### `[9,10,11,12]`\n",
    "\n",
    "### Entonces, es un solo array, pero cada “elemento” que tiene adentro es otra lista (una fila).\n",
    "\n",
    "### 2. Cómo pensarlo\n",
    "\n",
    "- #### `[1,2,3,4]` = primera fila.\n",
    "\n",
    "- #### `[5,6,7,8]` = segunda fila.\n",
    "\n",
    "- #### `[9,10,11,12]` = tercera fila.\n",
    "\n",
    "### Juntos forman una tabla de 3 filas × 4 columnas.\n",
    "### Es lo mismo que en Excel cuando armás una cuadrícula."
   ]
  },
  {
   "cell_type": "code",
   "execution_count": 13,
   "id": "07b7bce7",
   "metadata": {},
   "outputs": [
    {
     "name": "stdout",
     "output_type": "stream",
     "text": [
      "[[ 1  2  3  4]\n",
      " [ 5  6  7  8]\n",
      " [ 9 10 11 12]]\n"
     ]
    }
   ],
   "source": [
    "array_de_dos_dimensiones = np.array([[1,2,3,4],\n",
    "                [5,6,7,8],\n",
    "                [9,10,11,12]])\n",
    "print(array_de_dos_dimensiones)\n"
   ]
  },
  {
   "cell_type": "markdown",
   "id": "02219055",
   "metadata": {},
   "source": [
    "## Ejemplo 1 - Asientos de cine\n",
    "#### Vamos a pensar en un cine. Los asientos no están en una sola línea, están organizados en filas y columnas."
   ]
  },
  {
   "cell_type": "code",
   "execution_count": 17,
   "id": "3fee6254",
   "metadata": {},
   "outputs": [
    {
     "name": "stdout",
     "output_type": "stream",
     "text": [
      "[[ 1  2  3  4  5  6]\n",
      " [ 7  8  9 10 11 12]\n",
      " [13 14 15 16 17 18]]\n",
      "12\n",
      "7\n"
     ]
    }
   ],
   "source": [
    "import numpy as np\n",
    "\n",
    "asientos_de_cine = np.array([[1,2,3,4,5,6],\n",
    "                [7,8,9,10,11,12],\n",
    "                [13,14,15,16,17,18]])\n",
    "print(asientos_de_cine)\n",
    "print(asientos_de_cine[1,5])\n",
    "print(asientos_de_cine[1,0])"
   ]
  },
  {
   "cell_type": "markdown",
   "id": "2d414d39",
   "metadata": {},
   "source": [
    "## Asientos del cine\n",
    "\n",
    "#### Cuando saco una entrada, me dicen ‘Fila 1, Asiento 4’. Eso son dos coordenadas: primero la fila, después el asiento dentro de esa fila.\n",
    "\n",
    "#### `Pero en python (y programacion en general) siempre resto 1 a lo que pienso en la vida real porque Python empieza desde 0.`\n",
    "\n",
    "### Este ejemplo es importante porque:\n",
    "\n",
    "- ##### Nos muestra cómo un array 2D representa situaciones reales.\n",
    "\n",
    "- ##### Nos ayuda a entender que para encontrar un dato en una tabla, no alcanza con un número (como en 1D), necesitamos dos números: fila y columna.\n",
    "\n",
    "#### Así es como funcionan muchos sistemas: cines, aviones, estadios, teatros.\n",
    "\n",
    "- ### Cada fila representa una fila de asientos.\n",
    "\n",
    "- ### Cada número es un asiento dentro de esa fila.\n",
    "\n",
    "### Para ubicar el asiento 7 → fila 1, columna 0 → [1,0].\n",
    "\n",
    "---"
   ]
  },
  {
   "cell_type": "markdown",
   "id": "5f58fc9b",
   "metadata": {},
   "source": [
    "# Explicación de acceso en arrays 2D"
   ]
  },
  {
   "cell_type": "markdown",
   "id": "cfb5095d",
   "metadata": {},
   "source": [
    "## ¿Cómo ubico un dato?\n",
    "\n",
    "#### Para acceder a un valor uso dos coordenadas:\n",
    "### `array[fila, columna]`\n",
    "- #### La primera posición indica la fila.\n",
    "- #### La segunda posición indica la columna.\n",
    "---"
   ]
  },
  {
   "cell_type": "markdown",
   "id": "72010114",
   "metadata": {},
   "source": [
    "#### Si quiero el primer valor de la tabla, digo [0,0].\n",
    "\n",
    "- ##### Porque la primera fila y la primera columna empiezan en 0.\n",
    "\n",
    "#### Si quiero el valor de la segunda fila, tercera columna, digo [1,2].\n",
    "\n",
    "- ##### Porque la segunda fila es índice 1 y la tercera columna es índice 2.\n",
    "\n",
    "#### Siempre resto 1 a lo que pienso en la vida real porque Python empieza desde 0.\n",
    "\n",
    "- ##### Python cuenta desde 0"
   ]
  },
  {
   "cell_type": "code",
   "execution_count": 12,
   "id": "efe4f4a8",
   "metadata": {},
   "outputs": [
    {
     "name": "stdout",
     "output_type": "stream",
     "text": [
      "[[ 1  2  3  4  5  6]\n",
      " [ 7  8  9 10 11 12]\n",
      " [13 14 15 16 17 18]]\n",
      "1\n",
      "9\n"
     ]
    }
   ],
   "source": [
    "asientos_de_cine = np.array([[1,2,3,4,5,6],\n",
    "                [7,8,9,10,11,12],\n",
    "                [13,14,15,16,17,18]])\n",
    "print(asientos_de_cine)\n",
    "print(asientos_de_cine[0,0])\n",
    "print(asientos_de_cine[1,2])"
   ]
  },
  {
   "cell_type": "markdown",
   "id": "2cea3082",
   "metadata": {},
   "source": [
    "## Resumen claro :\n",
    "\n",
    "#### Un array 2D es una tabla.\n",
    "\n",
    "#### Para buscar un dato necesito 2 números: [fila, columna].\n",
    "\n",
    "#### Python cuenta desde 0, así que la primera fila es 0 y la primera columna también es 0.\n",
    "\n",
    "---"
   ]
  },
  {
   "cell_type": "markdown",
   "id": "40c56cf9",
   "metadata": {},
   "source": [
    "# Ejemplo 2 – Horario de clases"
   ]
  },
  {
   "cell_type": "markdown",
   "id": "4aaf57b5",
   "metadata": {},
   "source": [
    "#### Ahora pensemos en un horario escolar.\n",
    "\n",
    "#### No está en una sola línea: está organizado por días (filas) y horas (columnas)."
   ]
  },
  {
   "cell_type": "code",
   "execution_count": 22,
   "id": "bd269a25",
   "metadata": {},
   "outputs": [
    {
     "name": "stdout",
     "output_type": "stream",
     "text": [
      "[['Matematica' 'Historia' 'Quimica']\n",
      " ['Biologia' 'Fisica' 'Geometria']\n",
      " ['Ingles' 'Quimica' 'Castellao']]\n",
      "Fisica\n"
     ]
    }
   ],
   "source": [
    "horarios_materias = np.array([\n",
    "    ['Matematica', 'Historia', 'Quimica'],\n",
    "    ['Biologia', 'Fisica', 'Geometria'],\n",
    "    ['Ingles', 'Quimica', 'Castellao']\n",
    "])\n",
    "print(horarios_materias)\n",
    "print(horarios_materias[1,1])"
   ]
  },
  {
   "cell_type": "markdown",
   "id": "3a449c8f",
   "metadata": {},
   "source": [
    "- ### Cada fila es un día de la semana (lunes, martes, miércoles).\n",
    "\n",
    "- ### Cada columna es una hora del día (primera, segunda, tercera).\n",
    "\n",
    "- ### Si quiero saber qué materia hay el martes en la segunda hora → fila 1, columna 1 → [1,1] = fisica\n",
    "\n",
    "---\n",
    "### Conclusion\n",
    "- #### Con esto teenemos un ejemplo numérico (cine -> ideal para practicar coordenadas).\n",
    "\n",
    "- #### Tenés un ejemplo con texto (horario -> muestra que los arrays sirven para mucho más que números).\n",
    "---\n"
   ]
  },
  {
   "cell_type": "markdown",
   "id": "cc0c29d5",
   "metadata": {},
   "source": [
    "# Ejercicios "
   ]
  },
  {
   "cell_type": "markdown",
   "id": "ea3466d5",
   "metadata": {},
   "source": [
    "## Tablero de ajedrez ♟️\n",
    "\n",
    "### Fundamento: Muestra el mismo concepto de coordenadas, pero en un tablero.\n",
    "\n",
    "### Filas = filas del tablero.\n",
    "\n",
    "### Columnas = columnas del tablero.\n",
    "\n",
    "## Ejercicio\n",
    "\n",
    "#### Crear un array 2D de 8×8 que represente un tablero de ajedrez.\n",
    "\n",
    "#### Llenarlo con letras “B” y “N” (blanco/negro) alternados.\n",
    "\n",
    "### Preguntar:\n",
    "\n",
    "- #### ¿Qué color tiene la casilla en la fila 0, columna 0?\n",
    "\n",
    "- #### ¿Qué color tiene la fila 7, columna 7?"
   ]
  },
  {
   "cell_type": "code",
   "execution_count": 23,
   "id": "33350409",
   "metadata": {},
   "outputs": [
    {
     "name": "stdout",
     "output_type": "stream",
     "text": [
      "B\n",
      "B\n"
     ]
    }
   ],
   "source": [
    "# creamos un tablero (8x8) \n",
    "tablero = np.array([\n",
    "    ['B','N','B','N','B','N','B','N'],\n",
    "    ['N','B','N','B','N','B','N','B'],\n",
    "    ['B','N','B','N','B','N','B','N'],\n",
    "    ['N','B','N','B','N','B','N','B'],\n",
    "    ['B','N','B','N','B','N','B','N'],\n",
    "    ['N','B','N','B','N','B','N','B'],\n",
    "    ['B','N','B','N','B','N','B','N'],\n",
    "    ['N','B','N','B','N','B','N','B']\n",
    "])\n",
    "print(tablero[0,0])\n",
    "print(tablero[7,7])"
   ]
  },
  {
   "cell_type": "markdown",
   "id": "88d2b31b",
   "metadata": {},
   "source": [
    "# Notas de alumnos 📑\n",
    "\n",
    "### Fundamento: Ejemplo realista para arrays de números, vinculado a educación.\n",
    "\n",
    "- #### Filas = alumnos.\n",
    "\n",
    "- #### Columnas = exámenes.\n",
    "\n",
    "## Ejercicio\n",
    "\n",
    "- #### Crear un array 2D con notas de 3 alumnos en 4 exámenes.\n",
    "\n",
    "- #### Mostrar la tabla completa.\n",
    "\n",
    "## Preguntar:\n",
    "\n",
    "- #### ¿Qué nota sacó el alumno 2 en el examen 3?\n",
    "\n",
    "- #### ¿Cuál es el promedio de cada alumno (suma por fila / cantidad de columnas)?\n",
    "\n",
    "- #### ¿Cuál es el promedio de cada examen (suma por columna / cantidad de filas)?\n",
    "\n"
   ]
  },
  {
   "cell_type": "code",
   "execution_count": 25,
   "id": "22283263",
   "metadata": {},
   "outputs": [
    {
     "name": "stdout",
     "output_type": "stream",
     "text": [
      "3\n"
     ]
    }
   ],
   "source": [
    "notas_de_alumnos = np.array([\n",
    "    [4,3,5,2],\n",
    "    [2,3,1,4],\n",
    "    [5,4,3,5]\n",
    "])\n",
    "print(notas_de_alumnos[2,2])"
   ]
  },
  {
   "cell_type": "markdown",
   "id": "013531c7",
   "metadata": {},
   "source": [
    "---"
   ]
  },
  {
   "cell_type": "markdown",
   "id": "ea917d7e",
   "metadata": {},
   "source": [
    "# Propiedades de un array en NumPy\n",
    "\n",
    "## ¿que es una propiedad?\n",
    "\n",
    "#### Una propiedad es una característica fija que un objeto ya tiene guardada dentro suyo.\n",
    "#### No es algo que vos calculás cada vez, sino algo que el objeto sabe de sí mismo y te lo muestra cuando lo pedís.\n",
    "\n",
    "#### El porqué: se llama propiedad porque describe un aspecto propio, algo que lo define y que podés consultar directamente.\n",
    "\n",
    "### Analogía:\n",
    "- #### Imaginá una pelota. Su color no lo tenés que “calcular”, ya viene con ella. Si es roja, es roja siempre. \n",
    "#### Eso es una propiedad: un dato que forma parte de lo que la cosa es.\n",
    "---\n",
    "# 1-) shape\n",
    "\n",
    "### 1- Necesidad\n",
    "\n",
    "##### Cuando trabajamos con datos, lo primero que queremos saber es:\n",
    "- ##### ¿Cuántas filas y columnas tengo?\n",
    "\n",
    "#### Imaginemos una planilla de Excel de ventas:\n",
    "\n",
    "- ##### Cada fila representa una venta (cliente, fecha, monto).\n",
    "\n",
    "- ##### Cada columna es una característica (edad, producto, precio).\n",
    "\n",
    "#### Si no sé cuántas filas hay, no sé si estoy analizando 10 ventas o 10.000.\n",
    "#### Y si no sé cuántas columnas hay, no sé si tengo solo “precio” o también “cantidad, fecha, categoría”.\n",
    "\n",
    "#### Entonces, lo primero que necesito es una foto general de la estructura.\n"
   ]
  },
  {
   "cell_type": "markdown",
   "id": "a0373830",
   "metadata": {},
   "source": [
    "## 2) Cómo lo resuelve NumPy\n",
    "\n",
    "#### En los arrays, tenemos la propiedad `.shape`, que nos devuelve justamente esa información:\n",
    "#### la forma del array (cuántas filas y cuántas columnas tiene).\n",
    "\n",
    "### NumPy lo guarda como una tupla de números, por ejemplo:\n",
    "\n",
    "- #### (100, 5) significa 100 filas y 5 columnas.\n",
    "\n",
    "- #### (3, 3) significa 3 filas y 3 columnas."
   ]
  },
  {
   "cell_type": "markdown",
   "id": "bb6566e4",
   "metadata": {},
   "source": [
    "## 3) Ejemplo de la vida real\n",
    "\n",
    "### Pensá en una sala de cine:\n",
    "\n",
    "- #### Las filas son las filas de butacas.\n",
    "\n",
    "- #### Las columnas son los asientos de cada fila.\n",
    "\n",
    "- #### Si la sala tiene 10 filas con 20 asientos, podemos decir: shape = (10, 20).\n",
    "\n",
    "### No necesito recorrer todos los asientos uno por uno, simplemente veo el cartel del cine y ya sé su capacidad.\n",
    "### Eso mismo hace NumPy: guarda la “forma” del array y te la devuelve al instante.\n",
    "---"
   ]
  },
  {
   "cell_type": "markdown",
   "id": "8065305d",
   "metadata": {},
   "source": [
    "# 4) Ejemplo en código"
   ]
  },
  {
   "cell_type": "code",
   "execution_count": 1,
   "id": "700a3ec1",
   "metadata": {},
   "outputs": [
    {
     "name": "stdout",
     "output_type": "stream",
     "text": [
      "Forma del array: (3, 3)\n"
     ]
    }
   ],
   "source": [
    "import numpy as np\n",
    "\n",
    "# Creamos un array 3x3\n",
    "ventas = np.array([[100, 200, 300],\n",
    "                [400, 500, 600],\n",
    "                [700, 800, 900]])\n",
    "\n",
    "print(\"Forma del array:\", ventas.shape)\n"
   ]
  },
  {
   "cell_type": "markdown",
   "id": "88943326",
   "metadata": {},
   "source": [
    "# 5) Explicación detallada\n",
    "\n",
    "#### El array tiene 3 listas internas, cada una con 3 elementos.\n",
    "\n",
    "#### Eso significa 3 filas y 3 columnas.\n",
    "\n",
    "#### NumPy lo expresa como (3, 3).\n",
    "\n",
    "### `Importante: el orden siempre es (filas, columnas).`\n",
    "---\n",
    "# 6) Ejercicios para alumnos\n",
    "\n",
    "- #### Crear un array de 4 filas y 5 columnas y comprobar su shape.\n",
    "\n",
    "- #### Crear un array de una sola fila y ver cómo cambia el shape.\n",
    "\n",
    "- #### Crear un array unidimensional (ej: [1,2,3,4,5]) y observar qué shape devuelve."
   ]
  },
  {
   "cell_type": "code",
   "execution_count": null,
   "id": "f1d2f589",
   "metadata": {},
   "outputs": [],
   "source": [
    "import numpy as np\n",
    "\n",
    "a = np.array([[1,2,3,4,5],\n",
    "            [6,7,8,9,10],\n",
    "            [11,12,13,14,15],\n",
    "            [16,17,18,19,20]])\n",
    "print(a.shape)\n"
   ]
  },
  {
   "cell_type": "markdown",
   "id": "a59a4c29",
   "metadata": {},
   "source": [
    "## devuelve (4, 5) porque son 4 filas y 5 columnas.\n",
    "---"
   ]
  },
  {
   "cell_type": "code",
   "execution_count": 2,
   "id": "aaeea362",
   "metadata": {},
   "outputs": [
    {
     "name": "stdout",
     "output_type": "stream",
     "text": [
      "(1, 5)\n"
     ]
    }
   ],
   "source": [
    "b = np.array([[1,2,3,4,5]])\n",
    "print(b.shape)"
   ]
  },
  {
   "cell_type": "markdown",
   "id": "1c1142ec",
   "metadata": {},
   "source": [
    "## devuelve (1, 5) porque hay 1 fila con 5 columnas.\n",
    "---"
   ]
  },
  {
   "cell_type": "code",
   "execution_count": 3,
   "id": "959923db",
   "metadata": {},
   "outputs": [
    {
     "name": "stdout",
     "output_type": "stream",
     "text": [
      "(5,)\n"
     ]
    }
   ],
   "source": [
    "c = np.array([1,2,3,4,5])\n",
    "print(c.shape)\n"
   ]
  },
  {
   "cell_type": "markdown",
   "id": "f381f515",
   "metadata": {},
   "source": [
    "## devuelve (5,) porque es un vector de 5 elementos en una sola dimensión (no tiene filas ni columnas).\n",
    "---"
   ]
  },
  {
   "cell_type": "markdown",
   "id": "34011cc6",
   "metadata": {},
   "source": []
  },
  {
   "cell_type": "markdown",
   "id": "dcc0351e",
   "metadata": {},
   "source": [
    "# 2-) dtype\n",
    "\n",
    "## 1- Necesidad\n",
    "\n",
    "### Cuando trabajamos con datos, no es lo mismo:\n",
    "\n",
    "- #### Guardar edades (enteros).\n",
    "\n",
    "- #### Guardar precios (decimales).\n",
    "\n",
    "- #### Guardar nombres (texto).\n",
    "\n",
    "### Ejemplo: \n",
    "- #### si calculo el promedio de edad, necesito que sean enteros.\n",
    "- #### Si calculo el promedio de precios, necesito decimales.\n",
    "- #### Y si guardo nombres, obviamente no puedo sumarlos.\n",
    "\n",
    "#### En una planilla de Excel, cada columna tiene un formato: número, texto, fecha.\n",
    "#### En NumPy pasa lo mismo, pero de manera mucho más estricta:\n",
    "#### `todo el array tiene que ser del mismo tipo de dato.`"
   ]
  },
  {
   "cell_type": "markdown",
   "id": "cd663b02",
   "metadata": {},
   "source": [
    "## 2 Cómo lo resuelve NumPy\n",
    "\n",
    "#### Con la propiedad .dtype (data type), NumPy nos dice cuál es el tipo de dato que tiene el array.\n",
    "\n",
    "### Puede ser:\n",
    "\n",
    "- #### int32 o int64 → números enteros.\n",
    "\n",
    "- #### float32 o float64 → números decimales.\n",
    "\n",
    "- #### <U → strings (texto)."
   ]
  },
  {
   "cell_type": "markdown",
   "id": "6cb56fda",
   "metadata": {},
   "source": [
    "## 3 Ejemplo de la vida real\n",
    "\n",
    "### Imaginá una tabla de Excel:\n",
    "\n",
    "- #### Si en una columna escribís solo números enteros → Excel entiende que esa columna es de enteros.\n",
    "\n",
    "- #### Si en la misma columna ponés aunque sea un decimal → toda la columna pasa a ser de decimales.\n",
    "\n",
    "- #### Si ponés texto en esa columna → ya no se la puede tratar como números, todo se maneja como texto.\n",
    "\n",
    "### En NumPy:\n",
    "\n",
    "- #### Si todos los valores son enteros → el array es de enteros (int).\n",
    "\n",
    "- #### Si hay aunque sea un decimal → todo el array se convierte en decimales (float).\n",
    "\n",
    "- #### Si aparece texto → todo el array pasa a texto (string)."
   ]
  },
  {
   "cell_type": "markdown",
   "id": "6f2e48eb",
   "metadata": {},
   "source": [
    "# 4 ejemplo en codigo"
   ]
  },
  {
   "cell_type": "code",
   "execution_count": 5,
   "id": "48e28645",
   "metadata": {},
   "outputs": [
    {
     "name": "stdout",
     "output_type": "stream",
     "text": [
      "Tipo de dato: int64\n",
      "Tipo de dato: float64\n",
      "Tipo de dato: <U1\n",
      "<U5\n",
      "Tipo de dato: <U32\n"
     ]
    }
   ],
   "source": [
    "import numpy as np\n",
    "\n",
    "enteros = np.array([10, 20, 30])\n",
    "print(\"Tipo de dato:\", enteros.dtype)\n",
    "\n",
    "decimales = np.array([1.5, 2.3, 3.7])\n",
    "print(\"Tipo de dato:\", decimales.dtype)\n",
    "\n",
    "texto = np.array([\"A\", \"B\", \"C\"])\n",
    "print(\"Tipo de dato:\", texto.dtype)\n",
    "\n",
    "strings_varios = np.array(['hola', 'como', 'estas'])\n",
    "print(strings_varios.dtype)\n",
    "\n",
    "mixto = np.array([10, 20.5, \"hola\"])\n",
    "print(\"Tipo de dato:\", mixto.dtype)\n"
   ]
  },
  {
   "cell_type": "markdown",
   "id": "cce3f67e",
   "metadata": {},
   "source": [
    "#### int64 → son números enteros (sin coma), que ocupan 64 bits en memoria.\n",
    "\n",
    "#### float64 → son números decimales (con coma), también de 64 bits.\n",
    "\n",
    "#### <U1 → es un string (texto) de hasta 1 caracter.\n",
    "\n",
    "#### <U5 → es un string de hasta 5 caracteres.\n",
    "\n",
    "#### <U32 → es un string de hasta 32 caracteres.\n",
    "\n",
    "### En resumen: `dtype te dice si los datos son números o texto, y en el caso de los strings cuánto espacio máximo tienen`"
   ]
  },
  {
   "cell_type": "markdown",
   "id": "8fa5088a",
   "metadata": {},
   "source": [
    "# 5) Explicación detallada\n",
    "\n",
    "### NumPy convierte automáticamente el array al tipo de dato más general posible.\n",
    "\n",
    "- #### si hay 2 enteros y un decimal, debe convertir todo a decimal, porque un decimal no lo puede convertir a entero.\n",
    "\n",
    "#### Si hay mezcla, “sube de nivel”:\n",
    "\n",
    "- #### Subir de nivel en NumPy significa:\n",
    "- #### Si hay mezcla, elige el tipo de dato que pueda guardar todo sin perder información.”\n",
    "\n",
    "- - #### Enteros + decimales → todo a decimales.\n",
    "\n",
    "- - #### Números + texto → todo a texto.\n",
    "\n",
    "#### `Esto lo hace porque los arrays tienen que ser uniformes en memoria (más rápidos y eficientes).`\n",
    "\n",
    "---"
   ]
  },
  {
   "cell_type": "markdown",
   "id": "df3ce7a2",
   "metadata": {},
   "source": [
    "# 6) Ejercicios para alumnos\n",
    "\n",
    "- ### Crear un array con solo enteros y mirar el dtype.\n",
    "\n",
    "- ### Agregar un decimal a ese array y observar cómo cambia a float.\n",
    "\n",
    "- ### Crear un array con texto y números → comprobar cómo todo se convierte en string.\n",
    "\n",
    "- ### Probar con una palabra larga y observar cómo el dtype cambia de <U1 a <U10 o más."
   ]
  },
  {
   "cell_type": "code",
   "execution_count": null,
   "id": "b6cfcaf1",
   "metadata": {},
   "outputs": [
    {
     "name": "stdout",
     "output_type": "stream",
     "text": [
      "float64\n",
      "<U21\n"
     ]
    }
   ],
   "source": [
    "import numpy as np\n",
    "solo_enteros = np.array([1,2,3,4,5, 1.1])\n",
    "print(solo_enteros.dtype)\n",
    "\n",
    "con_texto_y_numero = np.array(['primer texto', 25])\n",
    "print(con_texto_y_numero.dtype)\n"
   ]
  },
  {
   "cell_type": "markdown",
   "id": "5b1a46f6",
   "metadata": {},
   "source": []
  },
  {
   "cell_type": "markdown",
   "id": "4a442712",
   "metadata": {},
   "source": [
    "# Operaciones basicas: suma, promedio, maximo"
   ]
  },
  {
   "cell_type": "markdown",
   "id": "f72a799d",
   "metadata": {},
   "source": [
    "### 1) Concepto\n",
    "\n",
    "#### En NumPy podemos hacer operaciones matemáticas directamente sobre los arrays, sin necesidad de recorrerlos con bucles.\n",
    "#### Esto se llama vectorización y lo hace mucho más rápido que con listas de Python.\n",
    "\n",
    "### Las operaciones básicas más usadas son:\n",
    "\n",
    "- #### Suma: juntar valores.\n",
    "\n",
    "- #### Promedio (media): calcular el valor “típico” de un conjunto de datos.\n",
    "\n",
    "- #### Máximo: encontrar el valor más grande.\n",
    "\n",
    "### 2) Ejemplo de la vida real\n",
    "\n",
    "- #### Suma → sumar todas las ventas de la semana para ver el total.\n",
    "\n",
    "- #### Promedio → calcular cuánto se vende en promedio por día.\n",
    "\n",
    "- #### Máximo → encontrar cuál fue el día con mayor venta.\n",
    "---"
   ]
  },
  {
   "cell_type": "markdown",
   "id": "49eda318",
   "metadata": {},
   "source": [
    "### 3) Ejemplo en código"
   ]
  },
  {
   "cell_type": "code",
   "execution_count": 40,
   "id": "af112c49",
   "metadata": {},
   "outputs": [
    {
     "name": "stdout",
     "output_type": "stream",
     "text": [
      "Ventas: [12.000000000000000 34.000000000000000 56.000000000000000\n",
      " 80.000000000000000 25.000000000000000 40.000000000000000\n",
      " 15.000000000000000]\n",
      "Total de ventas: 262.0\n",
      "Promedio de ventas: 37.42857142857143\n",
      "Venta máxima: 80.0\n",
      "\n",
      "Total de ventas: 262.0000\n",
      "Promedio de ventas: 37.4286\n",
      "Venta maxima: 80.0000\n"
     ]
    }
   ],
   "source": [
    "import numpy as np\n",
    "\n",
    "# Ventas del dia\n",
    "ventas = np.array([12.000, 34.000, 56.000, 80.000, 25.000, 40.000, 15.000])\n",
    "\n",
    "# Operaciones básicas\n",
    "total = np.sum(ventas)        # suma\n",
    "promedio = np.mean(ventas)    # promedio\n",
    "maximo = np.max(ventas)       # máximo\n",
    "\n",
    "print(\"Ventas:\", ventas)\n",
    "print(\"Total de ventas:\", total)\n",
    "print(\"Promedio de ventas:\", promedio)\n",
    "print(\"Venta máxima:\", maximo)\n",
    "\n",
    "print('')\n",
    "\n",
    "print(f'Total de ventas: {np.sum(ventas):.4f}')\n",
    "print(f\"Promedio de ventas: {np.mean(ventas):.4f}\")\n",
    "print(f'Venta maxima: {np.max(maximo):.4f}')\n",
    "\n"
   ]
  },
  {
   "cell_type": "markdown",
   "id": "b863e81f",
   "metadata": {},
   "source": [
    "## 4) Explicación paso a paso\n",
    "\n",
    "- #### np.sum(ventas) → recorre todos los valores y los suma.\n",
    "\n",
    "- #### np.mean(ventas) → hace la suma total ÷ cantidad de elementos.\n",
    "\n",
    "- #### np.max(ventas) → busca el número más grande dentro del array.\n",
    "\n",
    "#### no necesitamos un for, NumPy lo hace directamente.\n",
    "\n",
    "---\n",
    "\n",
    "## 5) Ejercicios \n",
    "\n",
    "### Crear un array con las temperaturas de 7 días. Calcular:\n",
    "\n",
    "- #### La temperatura total acumulada.\n",
    "\n",
    "- #### La temperatura promedio.\n",
    "\n",
    "- #### La temperatura más alta.\n",
    "\n",
    "### Crear un array con los puntajes de un examen de 10 alumnos. Mostrar:\n",
    "\n",
    "- #### La suma total de los puntajes.\n",
    "\n",
    "- #### El promedio de la clase.\n",
    "\n",
    "- #### El puntaje más alto."
   ]
  }
 ],
 "metadata": {
  "kernelspec": {
   "display_name": ".venv",
   "language": "python",
   "name": "python3"
  },
  "language_info": {
   "codemirror_mode": {
    "name": "ipython",
    "version": 3
   },
   "file_extension": ".py",
   "mimetype": "text/x-python",
   "name": "python",
   "nbconvert_exporter": "python",
   "pygments_lexer": "ipython3",
   "version": "3.11.6"
  }
 },
 "nbformat": 4,
 "nbformat_minor": 5
}
