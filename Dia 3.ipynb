{
 "cells": [
  {
   "cell_type": "markdown",
   "id": "1d77f0ab",
   "metadata": {},
   "source": [
    "# 📊 Día 3 – Pandas: Series y DataFrames"
   ]
  },
  {
   "cell_type": "markdown",
   "id": "d9b01c4f",
   "metadata": {},
   "source": [
    "## 1. Necesidad\n",
    "\n",
    "#### Imaginá que trabajás en un banco y recibís un archivo con datos de clientes: nombre, edad, sexo, monto de préstamo, etc.\n",
    "#### Si intentás analizarlo con listas o diccionarios de Python, se vuelve muy difícil:\n",
    "\n",
    "#### Tenés que recorrer manualmente cada lista.\n",
    "\n",
    "#### Es complicado filtrar clientes por edad o calcular promedios.\n",
    "\n",
    "#### Si hay miles de registros, el código se vuelve largo y poco práctico.\n",
    "\n",
    "#### Entonces nos preguntamos: ¿no habrá una herramienta que nos permita trabajar con datos en tablas, como si fuera Excel, pero dentro de Python?\n",
    "\n",
    "#### Sí existe, y se llama Pandas.\n",
    "---"
   ]
  },
  {
   "cell_type": "markdown",
   "id": "0953c21d",
   "metadata": {},
   "source": [
    "## 2. Concepto: ¿Qué es Pandas?\n",
    "\n",
    "#### 📌 Pandas es una librería externa de Python (es decir, no viene incluida por defecto, hay que instalarla) que sirve para manipular y analizar datos.\n",
    "\n",
    "#### Se usa muchísimo en ciencia de datos, análisis financiero, estadística, machine learning, etc.\n",
    "#### Lo interesante es que nos permite trabajar con datos como si fueran hojas de cálculo de Excel, pero con más flexibilidad y potencia:\n",
    "\n",
    "- #### Podemos leer y guardar datos en CSV, Excel, SQL, JSON.\n",
    "\n",
    "- #### Filtrar, transformar y limpiar datos muy fácilmente.\n",
    "\n",
    "- #### Manejar grandes volúmenes de datos de forma rápida.\n",
    "\n",
    "#### En palabras simples: `Pandas es como tener Excel dentro de Python, pero mucho más poderoso.`\n",
    "\n",
    "#### Para usarlo, siempre lo importamos así:\n",
    "\n",
    "#### import pandas as pd\n",
    "---"
   ]
  },
  {
   "cell_type": "markdown",
   "id": "b7d6b249",
   "metadata": {},
   "source": [
    "## 3.1. Series\n",
    "\n",
    "### `¿Qué es una Serie?`\n",
    "\n",
    "#### Una Serie en Pandas es una lista con etiquetas (índices).\n",
    "\n",
    "#### A diferencia de una lista normal de Python, donde solo podés acceder a los datos por posición (0,1,2,…), en una Serie cada dato puede tener un nombre propio (índice).\n",
    "\n",
    "#### Esto facilita mucho el análisis porque podés trabajar con nombres en vez de posiciones.\n",
    "\n",
    "---\n",
    "\n",
    "### `Para entender esto, veamos un ejemplo:`\n",
    "\n",
    "### Queremos guardar la cantidad de préstamos otorgados en una semana:\n",
    "\n",
    "| Día       | Préstamos |\n",
    "| --------- | --------- |\n",
    "| Lunes     | 10        |\n",
    "| Martes    | 15        |\n",
    "| Miércoles | 7         |\n",
    "| Jueves    | 20        |\n",
    "| Viernes   | 13        |\n",
    "\n",
    "\n"
   ]
  },
  {
   "cell_type": "code",
   "execution_count": null,
   "id": "9f2e953e",
   "metadata": {},
   "outputs": [],
   "source": [
    "prestamos = [10, 15, 7, 20, 13]\n",
    "\n",
    "# El problema es que no sabés a qué día corresponde cada número."
   ]
  },
  {
   "cell_type": "markdown",
   "id": "6188bcd3",
   "metadata": {},
   "source": [
    "#### Con Pandas:"
   ]
  },
  {
   "cell_type": "code",
   "execution_count": 11,
   "id": "a7a25230",
   "metadata": {},
   "outputs": [
    {
     "name": "stdout",
     "output_type": "stream",
     "text": [
      "Lunes        10\n",
      "Martes       15\n",
      "Miércoles     7\n",
      "Jueves       20\n",
      "Viernes      13\n",
      "dtype: int64\n"
     ]
    }
   ],
   "source": [
    "import pandas as pd\n",
    "\n",
    "# Creamos una Serie con índices personalizados\n",
    "prestamos = pd.Series([10, 15, 7, 20, 13],\n",
    "                    index=[\"Lunes\", \"Martes\", \"Miércoles\", \"Jueves\", \"Viernes\"])\n",
    "\n",
    "print(prestamos)\n",
    "# si ponemos sin index, nos va a dar el mismo resultado porque pandas pandas interpreta que el segundo argumento es el index"
   ]
  },
  {
   "cell_type": "markdown",
   "id": "2ce7a844",
   "metadata": {},
   "source": [
    "#### Cada número ahora tiene una etiqueta (índice) que lo identifica.\n",
    "#### Esto es lo que hace poderosa a una Serie.\n",
    "---"
   ]
  },
  {
   "cell_type": "markdown",
   "id": "8a1fff4b",
   "metadata": {},
   "source": [
    "## 3.2. DataFrame\n",
    "\n",
    "### `¿Que es un DataFrame?` \n",
    "#### Un DataFrame es una tabla en Pandas que tiene filas y columnas, similar a una hoja de Excel, donde podés almacenar y manejar datos de forma fácil y ordenada.\n",
    "#### Las personas que estan faciliarizados con Excell, saben que el marco de datos se puede almacenar en cuadricula rectangulares que pueden visualizarse facilmente. Cada marco de dato esta compuesto por filas y columnas.\n",
    "#### En pandas cada fila tiene asociado un indice, al igual que cada columna, que bien puede ser un numero, o tambien puede ser un caracter. \n",
    "### `Para entender esto, veamos un ejemplo:`\n",
    "\n",
    "### Queremos guardar datos de clientes de un banco:\n",
    "| Nombre | Apellido | Edad | Sexo | Préstamo |\n",
    "| ------ | -------- | ---- | ---- | -------- |\n",
    "| Juan   | González | 25   | M    | 1000     |\n",
    "| María  | Sánchez  | 30   | F    | 1500     |\n",
    "| Carlos | López    | 28   | M    | 2000     |\n",
    "\n",
    "### *En Pandas:*"
   ]
  },
  {
   "cell_type": "code",
   "execution_count": 12,
   "id": "f4ffab40",
   "metadata": {},
   "outputs": [
    {
     "name": "stdout",
     "output_type": "stream",
     "text": [
      "   Nombre  Apellido  Edad Sexo  Préstamo\n",
      "0    Juan  González    25    M      1000\n",
      "1   María   Sánchez    30    F      1500\n",
      "2  Carlos     López    28    M      2000\n"
     ]
    }
   ],
   "source": [
    "import pandas as pd\n",
    "\n",
    "# Creamos un DataFrame con un diccionario\n",
    "clientes = pd.DataFrame({\n",
    "    \"Nombre\": [\"Juan\", \"María\", \"Carlos\"],\n",
    "    \"Apellido\": [\"González\", \"Sánchez\", \"López\"],\n",
    "    \"Edad\": [25, 30, 28],\n",
    "    \"Sexo\": [\"M\", \"F\", \"M\"],\n",
    "    \"Préstamo\": [1000, 1500, 2000]\n",
    "})\n",
    "\n",
    "print(clientes)\n"
   ]
  },
  {
   "cell_type": "markdown",
   "id": "3ad1b1f3",
   "metadata": {},
   "source": [
    "#### Cada fila tiene un índice (0,1,2 por defecto).\n",
    "#### Cada columna tiene un nombre (Nombre, Apellido, Edad, etc.).\n",
    "\n",
    "### Esto hace que sea muy fácil seleccionar, filtrar y analizar datos.\n",
    "---"
   ]
  },
  {
   "cell_type": "markdown",
   "id": "ea5d0358",
   "metadata": {},
   "source": [
    "## 4. Ejemplos prácticos"
   ]
  },
  {
   "cell_type": "code",
   "execution_count": 14,
   "id": "1913053c",
   "metadata": {},
   "outputs": [
    {
     "name": "stdout",
     "output_type": "stream",
     "text": [
      "0    25\n",
      "1    30\n",
      "2    28\n",
      "Name: Edad, dtype: int64\n"
     ]
    }
   ],
   "source": [
    "print(clientes[\"Edad\"])\n",
    "# Esto es una Serie que corresponde a la columna Edad."
   ]
  },
  {
   "cell_type": "markdown",
   "id": "5d08b27d",
   "metadata": {},
   "source": [
    "## Seleccionar varias columnas"
   ]
  },
  {
   "cell_type": "code",
   "execution_count": 15,
   "id": "879ae31f",
   "metadata": {},
   "outputs": [
    {
     "name": "stdout",
     "output_type": "stream",
     "text": [
      "   Nombre  Préstamo\n",
      "0    Juan      1000\n",
      "1   María      1500\n",
      "2  Carlos      2000\n"
     ]
    }
   ],
   "source": [
    "print(clientes[[\"Nombre\", \"Préstamo\"]])\n"
   ]
  },
  {
   "cell_type": "markdown",
   "id": "dd6a4fab",
   "metadata": {},
   "source": [
    "## Calcular promedio de una columna"
   ]
  },
  {
   "cell_type": "code",
   "execution_count": 16,
   "id": "ea1ebdf4",
   "metadata": {},
   "outputs": [
    {
     "name": "stdout",
     "output_type": "stream",
     "text": [
      "1500.0\n"
     ]
    }
   ],
   "source": [
    "print(clientes[\"Préstamo\"].mean())\n",
    "# Devuelve 1500.0, que es el promedio de los préstamos."
   ]
  },
  {
   "cell_type": "markdown",
   "id": "d785ed8d",
   "metadata": {},
   "source": [
    "## 5. Ejercicios para los alumnos ✍️\n",
    "\n",
    "#### 1. Crear una Serie con los montos de ventas de 5 días (Lunes a Viernes).\n",
    "\n",
    "- #### Mostrar el monto de un día específico (por ejemplo, Martes).\n",
    "\n",
    "#### 2. Crear un DataFrame con los siguientes datos de empleados:\n",
    "\n",
    "- #### Nombre, Edad, Departamento, Sueldo.\n",
    "\n",
    "- #### Incluir al menos 4 empleados.\n",
    "\n",
    "#### 3. Con el DataFrame de empleados:\n",
    "\n",
    "- #### Mostrar solo la columna “Sueldo”.\n",
    "\n",
    "- #### Calcular el sueldo promedio.\n",
    "\n",
    "- #### Filtrar solo los empleados mayores de 25 años.\n",
    "\n",
    "---"
   ]
  },
  {
   "cell_type": "markdown",
   "id": "31143588",
   "metadata": {},
   "source": [
    "## 1) Serie de ventas (Lunes a Viernes)"
   ]
  },
  {
   "cell_type": "code",
   "execution_count": 18,
   "id": "a7681251",
   "metadata": {},
   "outputs": [
    {
     "name": "stdout",
     "output_type": "stream",
     "text": [
      "Lunes        1200\n",
      "Martes       1500\n",
      "Miércoles     900\n",
      "Jueves       1800\n",
      "Viernes      1300\n",
      "dtype: int64\n"
     ]
    }
   ],
   "source": [
    "# Crear Serie con montos de ventas\n",
    "ventas = pd.Series([1200, 1500, 900, 1800, 1300],\n",
    "                index=[\"Lunes\", \"Martes\", \"Miércoles\", \"Jueves\", \"Viernes\"])\n",
    "\n",
    "print(ventas)\n",
    "\n",
    "# Creamos una Series con 5 valores y les ponemos etiquetas (índices) con los días; imprimir muestra día → monto."
   ]
  },
  {
   "cell_type": "markdown",
   "id": "88c57835",
   "metadata": {},
   "source": [
    "## 2) Mostrar el monto de un día específico (Martes)"
   ]
  },
  {
   "cell_type": "code",
   "execution_count": 20,
   "id": "50f0f71c",
   "metadata": {},
   "outputs": [
    {
     "name": "stdout",
     "output_type": "stream",
     "text": [
      "Ventas del martes: 1500\n"
     ]
    }
   ],
   "source": [
    "# Acceder al monto del día Martes usando su etiqueta\n",
    "monto_martes = ventas[\"Martes\"]\n",
    "print(\"Ventas del martes:\", monto_martes)\n",
    "# Seleccionamos por etiqueta \"Martes\" en la Series; luego lo imprimimos.\n"
   ]
  },
  {
   "cell_type": "markdown",
   "id": "80966eaf",
   "metadata": {},
   "source": [
    "## 3) DataFrame de empleados (Nombre, Edad, Departamento, Sueldo)"
   ]
  },
  {
   "cell_type": "code",
   "execution_count": 21,
   "id": "a74d2ce2",
   "metadata": {},
   "outputs": [
    {
     "name": "stdout",
     "output_type": "stream",
     "text": [
      "   Nombre  Edad Departamento   Sueldo\n",
      "0     Ana    24     Finanzas  4500000\n",
      "1    Luis    29       Ventas  5200000\n",
      "2   Sofía    31        Datos  6000000\n",
      "3  Carlos    22      Soporte  4000000\n"
     ]
    }
   ],
   "source": [
    "# Crear DataFrame con 4 empleados\n",
    "empleados = pd.DataFrame({\n",
    "    \"Nombre\": [\"Ana\", \"Luis\", \"Sofía\", \"Carlos\"],\n",
    "    \"Edad\": [24, 29, 31, 22],\n",
    "    \"Departamento\": [\"Finanzas\", \"Ventas\", \"Datos\", \"Soporte\"],\n",
    "    \"Sueldo\": [4500000, 5200000, 6000000, 4000000]  # valores de ejemplo\n",
    "})\n",
    "\n",
    "print(empleados)\n",
    "\n",
    "# Construimos un DataFrame a partir de un diccionario: cada clave es una columna y cada lista son los valores de esa columna."
   ]
  },
  {
   "cell_type": "markdown",
   "id": "58317e4f",
   "metadata": {},
   "source": [
    "### `3.a) Mostrar solo la columna “Sueldo”`"
   ]
  },
  {
   "cell_type": "code",
   "execution_count": 22,
   "id": "96e02498",
   "metadata": {},
   "outputs": [
    {
     "name": "stdout",
     "output_type": "stream",
     "text": [
      "0    4500000\n",
      "1    5200000\n",
      "2    6000000\n",
      "3    4000000\n",
      "Name: Sueldo, dtype: int64\n"
     ]
    }
   ],
   "source": [
    "# Selección de una sola columna (devuelve una Series)\n",
    "solo_sueldo = empleados[\"Sueldo\"]\n",
    "print(solo_sueldo)\n",
    "\n",
    "# empleados[\"Sueldo\"] selecciona por nombre de columna y retorna una Series con los sueldos."
   ]
  },
  {
   "cell_type": "markdown",
   "id": "79df5721",
   "metadata": {},
   "source": [
    "### `3.b) Calcular el sueldo promedio`"
   ]
  },
  {
   "cell_type": "code",
   "execution_count": 24,
   "id": "1d06829f",
   "metadata": {},
   "outputs": [
    {
     "name": "stdout",
     "output_type": "stream",
     "text": [
      "Sueldo promedio: 4925000.0\n"
     ]
    }
   ],
   "source": [
    "# Promedio (mean) de la columna Sueldo\n",
    "sueldo_promedio = empleados[\"Sueldo\"].mean()\n",
    "print(\"Sueldo promedio:\", sueldo_promedio)\n",
    "\n",
    "# Usamos el método .mean() de pandas sobre la Series “Sueldo” para obtener el promedio.\n"
   ]
  },
  {
   "cell_type": "markdown",
   "id": "32b8baee",
   "metadata": {},
   "source": [
    "### `3.c) Filtrar solo empleados mayores de 25 años`"
   ]
  },
  {
   "cell_type": "code",
   "execution_count": null,
   "id": "1ecdd842",
   "metadata": {},
   "outputs": [],
   "source": [
    "# Filtro booleano por condición sobre la columna Edad\n",
    "mayores_25 = empleados[empleados[\"Edad\"] > 25]\n",
    "print(mayores_25)\n",
    "# Creamos una máscara booleana (empleados[\"Edad\"] > 25) y la usamos entre corchetes para devolver solo las filas que cumplen la condición."
   ]
  },
  {
   "cell_type": "markdown",
   "id": "e85941a5",
   "metadata": {},
   "source": [
    "#### Con esto cubrimos la base de Pandas: Series y DataFrames.\n",
    "#### De acá en adelante, todo el análisis de datos se construye sobre estas dos estructuras.\n",
    "---"
   ]
  },
  {
   "cell_type": "markdown",
   "id": "d99402a7",
   "metadata": {},
   "source": []
  },
  {
   "cell_type": "markdown",
   "id": "3367d8f9",
   "metadata": {},
   "source": [
    "# ⚙️ Instalación de librería para Excel (`openpyxl`)\n",
    "\n",
    "#### Un detalle importante antes de trabajar con archivos **Excel** en Pandas.\n",
    "\n",
    "#### Pandas puede leer archivos **CSV** directamente sin problema.\n",
    "#### Pero para leer archivos **Excel** necesita un **motor extra** que haga de puente.\n",
    "\n",
    "### `Ese motor se llama **openpyxl**.`\n",
    "\n",
    "---\n",
    "\n",
    "### 📌 ¿Qué es `openpyxl`?\n",
    "\n",
    "- #### Es una librería de Python que permite a Pandas **abrir y trabajar con archivos Excel** (`.xlsx`).\n",
    "- #### Sin ella, Pandas no podría leer directamente los datos desde un Excel.\n",
    "\n",
    "---\n",
    "\n",
    "### 📌 ¿Cómo instalarla?\n",
    "\n",
    "#### Muy simple: en la terminal (o consola) escribimos:\n",
    "\n",
    "- #### `pip install openpyxl`\n",
    "\n",
    "---\n",
    "\n",
    "### 📌 ¿Por qué necesitamos instalarla?\n",
    "\n",
    "- #### Porque **Excel no es texto plano como CSV**.\n",
    "- #### Necesitamos esta librería que entiende el formato interno de Excel y se lo traduce a Pandas.\n",
    "\n",
    "#### A partir de ahí, ya podemos usar tranquilamente `pd.read_excel(\"archivo.xlsx\")` sin errores.\n",
    "\n",
    "---\n"
   ]
  },
  {
   "cell_type": "markdown",
   "id": "6294b58f",
   "metadata": {},
   "source": [
    "# Lectura de CSV y Excel"
   ]
  },
  {
   "cell_type": "markdown",
   "id": "03df4467",
   "metadata": {},
   "source": [
    "#### ahora vamos a comenzar una nueva parte del curso: lectura de archivos CSV y Excel con Pandas.\n",
    "\n",
    "#### Antes de meternos en el código, quiero que nos detengamos un ratito a entender bien qué son estos archivos, cómo funcionan y para qué se usan.\n",
    "\n",
    "#### Les pregunto: ¿alguien escuchó hablar de los archivos CSV?\n",
    "\n",
    "## Explicación de CSV\n",
    "\n",
    "#### CSV significa Comma-Separated Values, en español: valores separados por comas.\n",
    "\n",
    "#### Un archivo CSV es un archivo de texto plano que guarda información en forma de tabla.\n",
    "#### Cada fila del archivo corresponde a un registro, y cada columna está separada por una coma.\n",
    "\n",
    "### Por ejemplo, un CSV con préstamos podría verse así:\n",
    "\n"
   ]
  },
  {
   "cell_type": "markdown",
   "id": "97f98787",
   "metadata": {},
   "source": [
    "#### Fíjense:\n",
    "\n",
    "#### La primera fila es el encabezado (los nombres de las columnas).\n",
    "\n",
    "#### Después vienen los datos, separados por comas.\n",
    "\n",
    "#### Lo bueno de un CSV es que es muy liviano, rápido de leer y compatible con casi todos los programas. Se puede abrir con Excel, con Google Sheets, con el Bloc de notas, con VSCode, ¡con casi cualquier cosa!\n",
    "---"
   ]
  },
  {
   "cell_type": "markdown",
   "id": "b9aea2b6",
   "metadata": {},
   "source": [
    "## 📌 ¿Para qué sirve un CSV?\n",
    "\n",
    "#### Entonces, ¿para qué se usa un CSV?\n",
    "\n",
    "#### Para guardar datos en bruto, sin formato.\n",
    "\n",
    "#### Para intercambiar información entre sistemas (ejemplo: bajar datos de un banco, exportar ventas de una tienda online, estadísticas de una app).\n",
    "\n",
    "#### Es el formato preferido en análisis de datos porque es universal y no depende de un programa específico.\n",
    "---"
   ]
  },
  {
   "cell_type": "markdown",
   "id": "74112ce3",
   "metadata": {},
   "source": [
    "## Explicación de Excel\n",
    "\n",
    "#### Ahora, muchos de ustedes seguro ya conocen Excel.\n",
    "#### Excel es un archivo de hoja de cálculo (extensiones .xls o .xlsx).\n",
    "\n",
    "## ¿En qué se diferencia de un CSV?\n",
    "\n",
    "#### Excel permite no solo guardar datos, sino también:\n",
    "\n",
    "- ##### aplicar fórmulas,\n",
    "\n",
    "- #### hacer gráficos,\n",
    "\n",
    "- #### tener varias hojas en el mismo archivo,\n",
    "\n",
    "- #### aplicar colores y estilos.\n",
    "\n",
    "#### Ejemplo visual con los mismos datos de antes en Excel:"
   ]
  },
  {
   "cell_type": "markdown",
   "id": "0a5896bb",
   "metadata": {},
   "source": [
    "#### Fíjense que acá ya se ve como una tabla bonita, con cuadrículas y todo.\n",
    "\n",
    "#### Pero ojo: un archivo Excel es más pesado, más lento de procesar y depende de programas específicos como Microsoft Excel o Google Sheets."
   ]
  },
  {
   "cell_type": "markdown",
   "id": "de7a8f2a",
   "metadata": {},
   "source": [
    "## 📊 Comparación directa\n",
    "\n",
    "#### Vamos a comparar entonces:\n",
    "\n",
    "### *CSV:*\n",
    "\n",
    "- #### Solo texto, sin estilos.\n",
    "\n",
    "- #### Liviano, rápido.\n",
    "\n",
    "- #### Compatible con cualquier sistema.\n",
    "\n",
    "- #### Ideal para datasets grandes.\n",
    "\n",
    "### *Excel:*\n",
    "\n",
    "- #### Permite colores, fórmulas, gráficos, varias hojas.\n",
    "\n",
    "- #### Más pesado y más lento.\n",
    "\n",
    "- #### Muy usado en oficinas, contabilidad y reportes visuales.\n",
    "\n",
    "---\n",
    "\n",
    "## ⚖️ Diferencias principales\n",
    "\n",
    "#### 1. Simplicidad\n",
    "\n",
    "- #### CSV: solo guarda datos.\n",
    "\n",
    "- #### Excel: guarda datos + formato + fórmulas + varias hojas.\n",
    "\n",
    "#### 2. Tamaño\n",
    "\n",
    "- #### CSV: más liviano, porque es puro texto.\n",
    "\n",
    "- #### Excel: más pesado.\n",
    "\n",
    "#### 3. Compatibilidad\n",
    "\n",
    "- #### CSV: se abre en cualquier lado (Excel, Google Sheets, Notepad, Python, etc.).\n",
    "\n",
    "- #### Excel: a veces necesita programas que lo soporten (Excel, LibreOffice, Google Sheets).\n",
    "\n",
    "#### 4. Uso típico\n",
    "\n",
    "- #### CSV: cuando solo importa el contenido (ej. para cargar datos en un sistema).\n",
    "\n",
    "- #### Excel: cuando además importa la presentación (ej. reportes con gráficos y colores).\n",
    "\n",
    "\n",
    "#### *En resumen:*\n",
    "\n",
    "- #### `CSV = un cuaderno de hojas blancas, solo podés escribir texto.`\n",
    "\n",
    "- #### `Excel = una carpeta completa, con hojas, colores, cuentas y dibujos.`\n",
    "---"
   ]
  },
  {
   "cell_type": "markdown",
   "id": "a91fd243",
   "metadata": {},
   "source": [
    "# 1. Necesidad\n",
    "\n",
    "#### Imaginate que trabajás en una financiera de microcréditos.\n",
    "\n",
    "#### Cada día, decenas de vendedores cargan información de clientes:\n",
    "\n",
    "- #### nombre,\n",
    "\n",
    "- #### edad,\n",
    "\n",
    "- #### monto del crédito,\n",
    "\n",
    "- #### y fecha de pago.\n",
    "\n",
    "#### Toda esa información se guarda en archivos que llegan a tu computadora.\n",
    "#### Algunos vendedores te pasan los datos en CSV, otros en Excel.\n",
    "\n",
    "#### Tu jefa te pide:\n",
    "\n",
    "- #### revisar los archivos,\n",
    "\n",
    "- #### calcular el promedio de montos,\n",
    "\n",
    "- #### y filtrar solo los clientes que pidieron más de 10.000.\n",
    "\n",
    "#### Si intentaras hacerlo copiando a mano en Python, tendrías que reescribir cientos de datos, fila por fila. Sería un trabajo imposible.\n",
    "\n",
    "#### Por eso necesitamos que Pandas nos ayude a leer archivos CSV y Excel de manera directa y automática. Así transformamos esos datos en una tabla lista para analizar.\n",
    "---"
   ]
  },
  {
   "cell_type": "markdown",
   "id": "e8cba021",
   "metadata": {},
   "source": [
    "## 📌 2. Concepto\n",
    "\n",
    "#### En Pandas tenemos funciones que nos ayudan a leer archivos y convertirlos en tablas de Python.\n",
    "\n",
    "#### Cuando usamos `pd.read_csv(\"archivo.csv\")`\n",
    "- #### Lo que hace Pandas es abrir un archivo CSV y transformarlo en un DataFrame.\n",
    "\n",
    "#### Cuando usamos `pd.read_excel(\"archivo.xlsx\")`\n",
    "- #### Es lo mismo, pero con un archivo de Excel, que puede tener varias hojas, colores, fórmulas, etc. Pandas toma la hoja que le indiquemos y también la convierte en un DataFrame.\n",
    "---\n",
    "\n",
    "## ¿Por qué es útil esto?\n",
    "\n",
    "- #### Sin Pandas: tendrías que copiar los datos a mano o escribir mucho código para leer línea por línea.\n",
    "\n",
    "- #### Con Pandas: con una sola línea de código (pd.read_csv o pd.read_excel) ya tenés los datos listos en una tabla en Python.\n",
    "---"
   ]
  },
  {
   "cell_type": "markdown",
   "id": "3d0f8654",
   "metadata": {},
   "source": [
    "# 3. Ejemplo en código"
   ]
  },
  {
   "cell_type": "code",
   "execution_count": 35,
   "id": "df35c65c",
   "metadata": {},
   "outputs": [
    {
     "name": "stdout",
     "output_type": "stream",
     "text": [
      "Datos desde CSV:\n",
      "      Cliente      Monto  Plazo\n",
      "0    Mariano   14750000     18\n",
      "1    Enrique   20550000     36\n",
      "2     Mónica   59950000     48\n",
      "3     Silvia  109800000     18\n",
      "4     Gladys   49700000     12\n",
      "5     Teresa  119900000      6\n",
      "6     Camilo   75350000      6\n",
      "7   Verónica   91650000     24\n",
      "8     Tamara   83950000     18\n",
      "9     Mónica  118900000     12\n",
      "10   Rodrigo  117850000     12\n",
      "11   Esteban    5550000     18\n",
      "12  Fiorella    2400000     12\n",
      "13    Noelia   86550000      6\n",
      "14  Santiago   74750000     36\n",
      "15    Hernán  109600000     18\n",
      "16  Verónica   99600000     18\n",
      "17   Yolanda   63400000     36\n",
      "18    Gladys   77650000     18\n",
      "19     Bruno    8600000     18\n"
     ]
    }
   ],
   "source": [
    "import pandas as pd  # Importamos pandas\n",
    "\n",
    "# Leer un archivo CSV con funcion read_csv\n",
    "# le decimos a Pandas: “abrí este archivo CSV y transformalo en un DataFrame”.\n",
    "df_csv = pd.read_csv(\"c_s_v_prestamo.csv\")\n",
    "print(f\"Datos desde CSV:\\n {df_csv}\")\n",
    "\n"
   ]
  },
  {
   "cell_type": "code",
   "execution_count": 34,
   "id": "232ac0ff",
   "metadata": {},
   "outputs": [
    {
     "name": "stdout",
     "output_type": "stream",
     "text": [
      "\n",
      "Datos desde Excel:\n",
      "      Cliente      Monto  Plazo\n",
      "0     Mariano   14750000     18\n",
      "1     Enrique   20550000     36\n",
      "2      Mónica   59950000     48\n",
      "3      Silvia  109800000     18\n",
      "4      Gladys   49700000     12\n",
      "..        ...        ...    ...\n",
      "145    Matías   65600000     36\n",
      "146   Eduardo   35750000     48\n",
      "147   Aurelia   70900000     24\n",
      "148   Julieta   95650000      6\n",
      "149  Fernando  135350000     48\n",
      "\n",
      "[150 rows x 3 columns]\n"
     ]
    }
   ],
   "source": [
    "# Leer un archivo Excel\n",
    "# pd.read_excel(\"excel_prestamo.xlsx\"): abre el archivo Excel y devuelve un DataFrame (tabla con filas y columnas lista para analizar).\n",
    "df_excel = pd.read_excel(\"excel_prestamo.xlsx\")\n",
    "print(\"\\nDatos desde Excel:\")\n",
    "print(df_excel)"
   ]
  },
  {
   "cell_type": "markdown",
   "id": "4c864e6e",
   "metadata": {},
   "source": [
    "## 6. Ejercicios para los alumnos"
   ]
  },
  {
   "cell_type": "markdown",
   "id": "0ec39884",
   "metadata": {},
   "source": [
    "# 📝 Ejercicio 1\n",
    "\n",
    "#### Imaginá que trabajás en una **empresa de tecnología** que vende distintos productos.\n",
    "#### Recibís un archivo llamado **`productos.csv`** con esta información:\n",
    "\n",
    "- #### `Producto,Precio,Cantidad`\n",
    "- #### `Laptop,1200,5`\n",
    "- #### `Celular,800,10`\n",
    "- #### `Tablet,600,7`\n",
    "- #### `Auriculares,150,20`\n",
    "- #### `Monitor,300,8`\n",
    "\n",
    "\n",
    "---\n",
    "\n",
    "### Tareas a realizar con Pandas:\n",
    "\n",
    "#### 1. **Leer el archivo** con `pd.read_csv()`.\n",
    "#### 2. Crear una **nueva columna llamada \"Total\"**, que sea el resultado de `Precio * Cantidad`.\n",
    "#### 3. Mostrar solo las columnas **Producto** y **Total**.\n",
    "#### 4. Calcular y mostrar:\n",
    "\n",
    "- #### El **producto más caro** (según la columna Precio).\n",
    "- #### El **producto con mayor Total** (Precio \\* Cantidad).\n",
    "#### 5. Filtrar y mostrar únicamente los productos cuyo **Total sea mayor a 5000**.\n",
    "\n",
    "---\n",
    "\n",
    "#### Con este ejercicio se tienen que **combinar todo lo aprendido**: lectura de archivos, selección de columnas, operaciones básicas y filtrado.\n",
    "#### Es simple en código, pero obliga a **pensar la lógica paso a paso**.\n",
    "\n",
    "---\n",
    "\n"
   ]
  },
  {
   "cell_type": "code",
   "execution_count": 39,
   "id": "6ad70ba3",
   "metadata": {},
   "outputs": [
    {
     "name": "stdout",
     "output_type": "stream",
     "text": [
      "      Producto  Total\n",
      "0       Laptop   6000\n",
      "1      Celular   8000\n",
      "2       Tablet   4200\n",
      "3  Auriculares   3000\n",
      "4      Monitor   2400\n",
      "Precio más alto: 1200\n",
      "Total más alto: 8000\n",
      "Productos con Total mayor a 5000:\n",
      "  Producto  Precio  Cantidad  Total\n",
      "0   Laptop    1200         5   6000\n",
      "1  Celular     800        10   8000\n"
     ]
    }
   ],
   "source": [
    "import pandas as pd  # Importamos pandas\n",
    "\n",
    "# Leer el archivo CSV\n",
    "df = pd.read_csv(\"productos.csv\")\n",
    "\n",
    "# Crear columna Total = Precio * Cantidad\n",
    "df[\"Total\"] = df[\"Precio\"] * df[\"Cantidad\"]\n",
    "\n",
    "# Mostrar solo columnas Producto y Total\n",
    "print(df[[\"Producto\", \"Total\"]])\n",
    "\n",
    "# Producto más caro (usamos max sobre la columna Precio)\n",
    "precio_max = df[\"Precio\"].max()\n",
    "print(f\"Precio más alto: {precio_max}\")\n",
    "\n",
    "# Producto con mayor Total (usamos max sobre la columna Total)\n",
    "total_max = df[\"Total\"].max()\n",
    "print(f\"Total más alto: {total_max}\")\n",
    "\n",
    "# Filtrar productos con Total mayor a 5000\n",
    "print(\"Productos con Total mayor a 5000:\")\n",
    "print(df[df[\"Total\"] > 5000])\n",
    "\n"
   ]
  },
  {
   "cell_type": "code",
   "execution_count": null,
   "id": "962ba489",
   "metadata": {},
   "outputs": [],
   "source": []
  },
  {
   "cell_type": "markdown",
   "id": "382f943a",
   "metadata": {},
   "source": [
    "# 📝 Ejercicio Desafío 2\n",
    "\n",
    "#### Trabajás en una **empresa de recursos humanos**.\n",
    "#### Te pasan un archivo llamado **`asistencias.xlsx`** con este contenido:\n",
    "\n",
    "| Empleado | Dias\\_Trabajados | Sueldo\\_Diario |\n",
    "| -------- | ---------------- | -------------- |\n",
    "| Ana      | 20               | 100            |\n",
    "| Luis     | 22               | 95             |\n",
    "| Sofía    | 18               | 110            |\n",
    "| Carlos   | 25               | 90             |\n",
    "| Marta    | 15               | 120            |\n",
    "\n",
    "---\n",
    "\n",
    "### Tareas a realizar con Pandas:\n",
    "\n",
    "#### 1. Leer el archivo con `pd.read_excel()`.\n",
    "#### 2. Calcular una **nueva columna llamada \"Sueldo\\_Total\"** = `Dias_Trabajados * Sueldo_Diario`.\n",
    "#### 3. Mostrar solo las columnas **Empleado** y **Sueldo\\_Total**.\n",
    "#### 4. Calcular y mostrar:\n",
    "\n",
    "- #### El **empleado con mayor Sueldo\\_Total**.\n",
    "- #### El **promedio de Sueldo\\_Total** de todos los empleados.\n",
    "#### 5. Filtrar y mostrar solo a los empleados que trabajaron **más de 20 días**.\n",
    "\n",
    "---\n",
    "\n",
    "### Con este ejercicio practicamos:\n",
    "\n",
    "#### * Lectura desde Excel,\n",
    "#### * creación de una nueva columna,\n",
    "#### * selección de columnas específicas,\n",
    "#### * operaciones matemáticas,\n",
    "#### * uso de filtros.\n",
    "\n",
    "---\n",
    "\n"
   ]
  },
  {
   "cell_type": "code",
   "execution_count": 40,
   "id": "768a8e50",
   "metadata": {},
   "outputs": [
    {
     "name": "stdout",
     "output_type": "stream",
     "text": [
      "  Empleado  Sueldo_Total\n",
      "0      Ana          2000\n",
      "1     Luis          2090\n",
      "2    Sofía          1980\n",
      "3   Carlos          2250\n",
      "4    Marta          1800\n",
      "Sueldo total más alto: 2250\n",
      "Promedio de sueldo total: 2024.0\n",
      "Empleados con más de 20 días trabajados:\n",
      "  Empleado  Dias_Trabajados  Sueldo_Diario  Sueldo_Total\n",
      "1     Luis               22             95          2090\n",
      "3   Carlos               25             90          2250\n"
     ]
    }
   ],
   "source": [
    "import pandas as pd  # Importamos pandas\n",
    "\n",
    "# Leer el archivo Excel\n",
    "df = pd.read_excel(\"asistencias.xlsx\")\n",
    "\n",
    "# Crear columna Sueldo_Total = Dias_Trabajados * Sueldo_Diario\n",
    "df[\"Sueldo_Total\"] = df[\"Dias_Trabajados\"] * df[\"Sueldo_Diario\"]\n",
    "\n",
    "# Mostrar solo columnas Empleado y Sueldo_Total\n",
    "print(df[[\"Empleado\", \"Sueldo_Total\"]])\n",
    "\n",
    "# Calcular el sueldo total más alto\n",
    "sueldo_max = df[\"Sueldo_Total\"].max()\n",
    "print(f\"Sueldo total más alto: {sueldo_max}\")\n",
    "\n",
    "# Calcular promedio de Sueldo_Total\n",
    "promedio = df[\"Sueldo_Total\"].mean()\n",
    "print(f\"Promedio de sueldo total: {promedio}\")\n",
    "\n",
    "# Filtrar empleados con más de 20 días trabajados\n",
    "print(\"Empleados con más de 20 días trabajados:\")\n",
    "print(df[df[\"Dias_Trabajados\"] > 20])\n",
    "\n"
   ]
  },
  {
   "cell_type": "markdown",
   "id": "76ad1c83",
   "metadata": {},
   "source": []
  },
  {
   "cell_type": "markdown",
   "id": "eba11f11",
   "metadata": {},
   "source": [
    "# 📊 Métodos iniciales en Pandas: head(), info(), describe()"
   ]
  },
  {
   "cell_type": "markdown",
   "id": "7ba70f37",
   "metadata": {},
   "source": [
    "## 1. Necesidad\n",
    "\n",
    "#### Imaginá que recibís un archivo con 1000 registros de préstamos.\n",
    "#### Tu jefa te dice:\n",
    "\n",
    "- #### Mostrame rápido cómo se ven los datos, pero no me muestres todo el archivo.\n",
    "\n",
    "- #### Decime qué columnas trae, qué tipo de datos tiene y si hay valores vacíos.\n",
    "\n",
    "- #### Quiero un resumen estadístico básico (promedios, mínimos, máximos).\n",
    "\n",
    "#### Hacer todo esto a mano sería imposible. Para eso existen tres métodos iniciales de Pandas.\n",
    "---"
   ]
  },
  {
   "cell_type": "markdown",
   "id": "9a205c43",
   "metadata": {},
   "source": [
    "## 2. Concepto\n",
    "\n",
    "* #### `head()`\n",
    "\n",
    "  #### Este método sirve para ver las primeras filas de tu tabla. Por defecto, muestra las 5 primeras. Su función principal es que vos puedas **dar una mirada rápida** a cómo están organizados tus datos, cuáles son los nombres de las columnas, y si la información que cargaste se ve como esperabas. Es como **abrir la tapa de un cuaderno** y mirar las primeras páginas para saber qué contiene.\n",
    "\n",
    "* #### `info()`\n",
    "\n",
    "  #### Este método entrega una **ficha técnica** de tu DataFrame. Te dice cuántas filas tiene, cuántas columnas, el nombre de cada columna, qué tipo de datos hay en ellas (números enteros, decimales, textos, fechas, etc.), y además cuántos valores están completos y cuántos faltan. Es útil para **diagnosticar rápidamente** la calidad de tus datos y saber si vas a tener que limpiar o transformar algo antes de analizarlos.\n",
    "\n",
    "* #### `describe()`\n",
    "\n",
    "  #### Este método hace un **resumen estadístico** de las columnas que contienen números. Te da medidas que permiten entender la distribución de los datos: cuántos valores hay (count), cuál es el promedio (mean), cuánto varían los datos respecto al promedio (desviación estándar), el valor más pequeño (mínimo), el más grande (máximo), y también posiciones clave dentro de la distribución, llamadas percentiles (25%, 50% y 75%). Estos percentiles sirven para entender cómo se reparten los datos: el 25% más bajo, la mitad de los datos, y el 25% más alto. En conjunto, esta información funciona como una **radiografía estadística** de tu dataset: te muestra de un vistazo si tus datos son muy dispersos, si tienen valores extremos, y cómo se agrupan.\n",
    "\n",
    "\n",
    "### En pocas palabras:\n",
    "\n",
    "* `head()` te deja **echar un vistazo rápido**.\n",
    "* `info()` te da la **estructura y estado** de los datos.\n",
    "* `describe()` te muestra la **salud estadística** de tus columnas numéricas.\n",
    "\n",
    "---"
   ]
  },
  {
   "cell_type": "markdown",
   "id": "ab88f9c0",
   "metadata": {},
   "source": [
    "## 3. Ejemplo en la vida real\n",
    "\n",
    "### Tenés un archivo de préstamos con esta información:\n",
    "\n",
    "| Cliente | Monto | Plazo (meses) |\n",
    "| ------- | ----- | ------------- |\n",
    "| Ana     | 1000  | 12            |\n",
    "| Luis    | 2000  | 24            |\n",
    "| Sofía   | 1500  | 18            |\n",
    "| Marta   | 3000  | 36            |\n",
    "| Juan    | 1200  | 12            |\n",
    "| Carla   | 2500  | 24            |\n"
   ]
  },
  {
   "cell_type": "markdown",
   "id": "486d6a50",
   "metadata": {},
   "source": [
    "## 4. Ejemplo en código"
   ]
  },
  {
   "cell_type": "code",
   "execution_count": null,
   "id": "8682aa51",
   "metadata": {},
   "outputs": [
    {
     "name": "stdout",
     "output_type": "stream",
     "text": [
      "  Cliente  Monto  Plazo\n",
      "0     Ana   1000     12\n",
      "1    Luis   2000     24\n",
      "2   Sofía   1500     18\n",
      "3   Marta   3000     36\n",
      "4    Juan   1200     12\n"
     ]
    },
    {
     "data": {
      "text/plain": [
       "'# 2) Información general\\nprint(df.info())\\n\\n# 3) Resumen estadístico\\nprint(df.describe())'"
      ]
     },
     "execution_count": 42,
     "metadata": {},
     "output_type": "execute_result"
    }
   ],
   "source": [
    "import pandas as pd  # Importamos pandas\n",
    "\n",
    "# Creamos el DataFrame\n",
    "data = {\n",
    "    \"Cliente\": [\"Ana\", \"Luis\", \"Sofía\", \"Marta\", \"Juan\", \"Carla\"],\n",
    "    \"Monto\": [1000, 2000, 1500, 3000, 1200, 2500],\n",
    "    \"Plazo\": [12, 24, 18, 36, 12, 24]\n",
    "}\n",
    "\n",
    "df = pd.DataFrame(data)\n",
    "\n",
    "# 1) Ver las primeras 5 filas\n",
    "print(df.head())\n",
    "\n",
    "# 2) Información general\n",
    "print(df.info())\n",
    "\n",
    "# 3) Resumen estadístico\n",
    "print(df.describe())\n"
   ]
  },
  {
   "cell_type": "markdown",
   "id": "f9969021",
   "metadata": {},
   "source": [
    "## 5. Explicación\n",
    "\n",
    "### `df.head()` → devuelve las primeras 5 filas. Útil para una vista rápida.\n",
    "\n",
    "### `df.info()` → dice:\n",
    "\n",
    "- #### cuántas filas y columnas tiene,\n",
    "\n",
    "- #### el tipo de dato de cada columna (texto = object, números = int/float),\n",
    "\n",
    "- #### si hay valores faltantes.\n",
    "\n",
    "### `df.describe()` → calcula:\n",
    "\n",
    "- #### count = cuántos datos tiene cada columna,\n",
    "\n",
    "- #### mean = promedio,\n",
    "\n",
    "- #### min y max = valores más chico y más grande,\n",
    "\n",
    "- #### std = qué tan dispersos están los datos (desvío estándar),\n",
    "\n",
    "- #### 25%, 50%, 75% = percentiles (como cortes en la distribución de los datos).\n",
    "---"
   ]
  },
  {
   "cell_type": "markdown",
   "id": "bde5965d",
   "metadata": {},
   "source": [
    "## 6. Ejercicios\n",
    "\n",
    "#### Crear un DataFrame con ventas de una tienda (Producto, Precio, Cantidad).\n",
    "\n",
    "#### Usar `head()` para ver las primeras filas.\n",
    "\n",
    "#### Usar `info()` para verificar si hay alguna columna con valores nulos.\n",
    "\n",
    "#### Aplicar `describe()` para calcular el precio promedio, el mínimo y máximo de los productos."
   ]
  }
 ],
 "metadata": {
  "kernelspec": {
   "display_name": ".venv",
   "language": "python",
   "name": "python3"
  },
  "language_info": {
   "codemirror_mode": {
    "name": "ipython",
    "version": 3
   },
   "file_extension": ".py",
   "mimetype": "text/x-python",
   "name": "python",
   "nbconvert_exporter": "python",
   "pygments_lexer": "ipython3",
   "version": "3.11.6"
  }
 },
 "nbformat": 4,
 "nbformat_minor": 5
}
