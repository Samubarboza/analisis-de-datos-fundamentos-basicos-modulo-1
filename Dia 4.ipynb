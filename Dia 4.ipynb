{
 "cells": [
  {
   "cell_type": "markdown",
   "id": "8aceaeba",
   "metadata": {},
   "source": [
    "# Selección de columnas y filas con loc e iloc"
   ]
  },
  {
   "cell_type": "markdown",
   "id": "28fcb170",
   "metadata": {},
   "source": [
    "### Bienvenidos a la cuarta clase de nuestro curso de Fundamentos de NumPy y Pandas.\n",
    "#### Hoy vamos a empezar con algo fundamental: `cómo seleccionar y filtrar información en un DataFrame.`\n",
    "#### Ya sabemos crear DataFrames, ver sus primeras filas, info y estadísticas… pero ahora toca aprender a elegir solo lo que necesitamos.\n",
    "#### Esto es clave en análisis de datos, porque rara vez usamos todo el dataset: casi siempre queremos enfocarnos en una parte.\n",
    "---"
   ]
  },
  {
   "cell_type": "markdown",
   "id": "1401a374",
   "metadata": {},
   "source": [
    "## Contexto / Necesidad\n",
    "\n",
    "## Imaginemos esta situación: trabajamos en un banco y tenemos miles de clientes con datos de préstamos.\n",
    "### Nuestra jefa nos dice:\n",
    "\n",
    "- #### ‘Mostrame solo la columna de montos.’\n",
    "\n",
    "- #### ‘Dame las filas de los primeros 3 clientes.’\n",
    "\n",
    "- #### ‘Mostrame los datos del cliente número 5.’\n",
    "\n",
    "#### Si intentáramos hacerlo con listas normales de Python, sería un lío de bucles y posiciones.\n",
    "#### Con Pandas tenemos dos herramientas súper claras y rápidas: loc e iloc.”*\n",
    "---"
   ]
  },
  {
   "cell_type": "markdown",
   "id": "0a6f530b",
   "metadata": {},
   "source": [
    "## Concepto s\n",
    "\n",
    "### 📌 loc\n",
    "\n",
    "### Concepto:\n",
    "- #### loc sirve para seleccionar datos usando el nombre de las filas o de las columnas.\n",
    "\n",
    "### Explicación:\n",
    "- #### Imaginá que tenés una libreta con contactos. Buscás el número de teléfono de “Juan”. No te importa si está en la primera página o en la última, lo encontrás por su nombre. Eso hace loc.\n",
    "---\n",
    "\n",
    "### 📌 iloc\n",
    "\n",
    "### Concepto:\n",
    "- #### iloc sirve para seleccionar datos usando la posición numérica de las filas o de las columnas.\n",
    "\n",
    "### Explicación:\n",
    "- #### Es como cuando contás los asientos de un cine: “quiero el asiento número 3 de la fila 2”. No te importa el nombre de la persona, solo el número de su lugar. Eso hace iloc.\n",
    "---"
   ]
  },
  {
   "cell_type": "markdown",
   "id": "3f8dc35f",
   "metadata": {},
   "source": [
    "## Ejemplo en la vida real\n",
    "\n",
    "### Supongamos que tenemos este dataset de préstamos:\n",
    "| Cliente | Monto | Plazo |\n",
    "| ------- | ----- | ----- |\n",
    "| Ana     | 1000  | 12    |\n",
    "| Luis    | 2000  | 24    |\n",
    "| Sofía   | 1500  | 18    |\n",
    "| Marta   | 3000  | 36    |\n",
    "| Juan    | 1200  | 12    |\n"
   ]
  },
  {
   "cell_type": "markdown",
   "id": "c6151462",
   "metadata": {},
   "source": [
    "## Ejemplo en código\n",
    "\n",
    "### Vamos a verlo en código, tranquilos, paso a paso."
   ]
  },
  {
   "cell_type": "markdown",
   "id": "6435caed",
   "metadata": {},
   "source": [
    "## `seleccion con loc por nombre`"
   ]
  },
  {
   "cell_type": "code",
   "execution_count": null,
   "id": "d9f44d95",
   "metadata": {},
   "outputs": [
    {
     "name": "stdout",
     "output_type": "stream",
     "text": [
      "  Cliente  Monto  Plazo\n",
      "0     Ana   1000     12\n",
      "1    Luis   2000     24\n",
      "2   Sofia   1500     18\n",
      "3   Marta   3000     36\n",
      "4    Juan   1200     12\n",
      "  Cliente  Monto\n",
      "0     Ana   1000\n",
      "1    Luis   2000\n",
      "2   Sofia   1500\n",
      "3   Marta   3000\n",
      "4    Juan   1200\n"
     ]
    }
   ],
   "source": [
    "import pandas as pd\n",
    "\n",
    "# creamos el dataframe\n",
    "datos = {\n",
    "    'Cliente': ['Ana', 'Luis', 'Sofia', 'Marta', 'Juan'],\n",
    "    'Monto': [1000, 2000, 1500, 3000, 1200],\n",
    "    'Plazo': [12, 24, 18, 36, 12]\n",
    "}\n",
    "# creamos el dataframe\n",
    "df = pd.DataFrame(datos)\n",
    "# mostramos\n",
    "print(df)\n",
    "\n",
    "# seleccion con loc por nombre - : usamos indexacion para traer todas las filas de la columna monto\n",
    "print(df.loc[:, 'Monto'])\n",
    "\n",
    "# traemos los datos de un cliente especifico y lo buscamos por indice\n",
    "print(df.loc[2])\n",
    "\n",
    "# traemos todas las filas de las columnas cliente y monto\n",
    "print(df.loc[:, ['Cliente', 'Monto']])"
   ]
  },
  {
   "cell_type": "markdown",
   "id": "e231cbd5",
   "metadata": {},
   "source": [
    "## `seleccion con iloc por posicion`"
   ]
  },
  {
   "cell_type": "code",
   "execution_count": null,
   "id": "c8cc460e",
   "metadata": {},
   "outputs": [
    {
     "name": "stdout",
     "output_type": "stream",
     "text": [
      "Cliente     Ana\n",
      "Monto      1000\n",
      "Plazo        12\n",
      "Name: 0, dtype: object\n",
      "  Cliente  Monto  Plazo\n",
      "0     Ana   1000     12\n",
      "1    Luis   2000     24\n",
      "2   Sofia   1500     18\n",
      "0    1000\n",
      "1    2000\n",
      "2    1500\n",
      "3    3000\n",
      "4    1200\n",
      "Name: Monto, dtype: int64\n",
      "  Cliente  Monto\n",
      "0     Ana   1000\n",
      "1    Luis   2000\n",
      "2   Sofia   1500\n"
     ]
    }
   ],
   "source": [
    "# seleccionamos la primera fila con iloc\n",
    "print(df.iloc[0])\n",
    "\n",
    "# aca le decimos que nos traiga desde la fila 0 hasta antes de la 2\n",
    "print(df.iloc[0:3])\n",
    "\n",
    "# cuando metemos una coma nos trae todas las filas, luego le especificamos de cual columna\n",
    "# trame todas las filas de la columna 1\n",
    "print(df.iloc[:, 1])\n",
    "\n",
    "# aca le decimos lo siguiente\n",
    "# Dame las primeras 3 filas y las primeras 2 columnas\n",
    "print(df.iloc[0:3, 0:2])"
   ]
  },
  {
   "cell_type": "markdown",
   "id": "ca5fa921",
   "metadata": {},
   "source": [
    "## Ejercicios \n",
    "\n",
    "#### Ahora vamos a hacer un ejercicio para practicar. Tomen un nuevo DataFrame con productos de supermercado (Producto, Precio, Cantidad) y hagan lo siguiente:\n",
    "\n",
    "- #### Mostrar solo la columna “Precio” con loc.\n",
    "\n",
    "- #### Mostrar las primeras 2 filas con iloc.\n",
    "\n",
    "- #### Usar loc para seleccionar “Producto” y “Cantidad” de todos los registros.\n",
    "\n",
    "- #### Usar iloc para mostrar las filas 1 a 3 y columnas 0 y 2.\n",
    "\n",
    "#### Con esto ya tenemos la base para trabajar después con filtrado y ordenamiento, que vamos a ver en la siguiente parte."
   ]
  },
  {
   "cell_type": "code",
   "execution_count": 59,
   "id": "c8a0f322",
   "metadata": {},
   "outputs": [
    {
     "name": "stdout",
     "output_type": "stream",
     "text": [
      "  Productos  Precio  Cantidad\n",
      "0     Arroz     5.5         1\n",
      "1    Azucar     8.0         1\n",
      "2     Leche     6.0         1\n",
      "3     Pollo    15.0         2\n",
      "4       Pan    12.5         1\n",
      "0     5.5\n",
      "1     8.0\n",
      "2     6.0\n",
      "3    15.0\n",
      "4    12.5\n",
      "Name: Precio, dtype: float64\n",
      "  Productos  Precio  Cantidad\n",
      "0     Arroz     5.5         1\n",
      "1    Azucar     8.0         1\n",
      "  Productos  Cantidad\n",
      "0     Arroz         1\n",
      "1    Azucar         1\n",
      "2     Leche         1\n",
      "3     Pollo         2\n",
      "4       Pan         1\n",
      "  Productos  Cantidad\n",
      "1    Azucar         1\n",
      "2     Leche         1\n",
      "3     Pollo         2\n"
     ]
    }
   ],
   "source": [
    "import pandas as pd\n",
    "\n",
    "# supermercado\n",
    "productos_super = {\n",
    "    'Productos': ['Arroz', 'Azucar', 'Leche', 'Pollo', 'Pan'],\n",
    "    'Precio': [5.500, 8.000, 6.000, 15.000, 12.500],\n",
    "    'Cantidad': [1, 1, 1, 2, 1]\n",
    "}\n",
    "\n",
    "data_frame = pd.DataFrame(productos_super)\n",
    "\n",
    "# mostramos el dataframe completo\n",
    "print(data_frame)\n",
    "\n",
    "# mostramos solo la columna precio\n",
    "print(data_frame.loc[0:, 'Precio'])\n",
    "\n",
    "# seleccionamos las filas 0 y 1 (las dos primeras) y muestra todas las columnas\n",
    "print(data_frame.iloc[0:2])\n",
    "\n",
    "# : seleccionamos todos los registros de las columnas produtos y cantidad\n",
    "print(data_frame.loc[:, ['Productos', 'Cantidad']])\n",
    "\n",
    "# mostramos las filas 1 a 3 y las columnas 0 y 2 de esas filas\n",
    "print(data_frame.iloc[1:4, [0, 2]])"
   ]
  },
  {
   "cell_type": "markdown",
   "id": "f1943f31",
   "metadata": {},
   "source": []
  },
  {
   "cell_type": "markdown",
   "id": "21ead5db",
   "metadata": {},
   "source": [
    "# Filtrado con condiciones"
   ]
  },
  {
   "cell_type": "markdown",
   "id": "a1dc40da",
   "metadata": {},
   "source": [
    "### Muy bien, ahora que ya sabemos cómo seleccionar columnas y filas con loc e iloc, vamos a dar un paso más: aprender a filtrar datos con condiciones.\n",
    "\n",
    "#### Esto es fundamental porque en análisis de datos casi nunca queremos ver todo el dataset completo. Siempre necesitamos enfocarnos en una parte de los datos que cumpla con una condición."
   ]
  },
  {
   "cell_type": "markdown",
   "id": "e0ddeb12",
   "metadata": {},
   "source": [
    "## 1. Necesidad\n",
    "\n",
    "### Imaginemos que tenemos una tabla con ventas de productos.\n",
    "#### Nuestra jefa nos pide:\n",
    "\n",
    "- #### Mostrar solo los productos que cuesten más de 2000.\n",
    "\n",
    "- #### Mostrar los productos que tengan stock mayor a 10.\n",
    "\n",
    "- #### O incluso: mostrar solo los productos que cumplan ambas condiciones.\n",
    "\n",
    "#### ¿Cómo lo hacemos de manera rápida con Pandas?\n",
    "#### Con filtrado de condiciones.\n",
    "---"
   ]
  },
  {
   "cell_type": "markdown",
   "id": "69ab0de4",
   "metadata": {},
   "source": [
    "\n",
    "## 2. **Concepto**\n",
    "\n",
    "### El filtrado en Pandas es como pasar una tabla por un colador: solo quedan las filas que cumplen la condición que vos pedís.\n",
    "\n",
    "- #### **Condición**: es la regla que ponés sobre una columna.\n",
    "### Ejemplo: Precio mayor a 2000\n",
    "\n",
    "### **Máscara booleana**: cuando escribís esa condición, Pandas genera una lista de respuestas *True* o *False*.\n",
    "\n",
    "- #### *True* = la fila cumple la regla.\n",
    "- #### *False* = la fila no la cumple.\n",
    "\n",
    "### **Aplicación del filtro**: al aplicar esa máscara sobre el DataFrame, Pandas devuelve solo las filas con *True*. Es como decir: “mostrame solo lo que pasa el filtro”.\n",
    "\n",
    "### **Combinación de condiciones**:\n",
    "\n",
    "- #### `&` (**AND**) → se cumplen ambas.\n",
    "- #### `|` (**OR**) → se cumple al menos una.\n",
    "- #### `~` (**NOT**) → es lo contrario, lo que **no** cumple.\n",
    "\n",
    "### **Ejemplo mental**:\n",
    "\n",
    "- #### “Dame productos con precio mayor a 2000” → filtro simple.\n",
    "- #### “Dame productos con precio mayor a 2000 **y** cantidad mayor a 3” → dos condiciones al mismo tiempo (AND).\n",
    "- #### “Dame productos con precio mayor a 2000 **o** cantidad mayor a 3” → al menos una condición (OR).\n",
    "- #### “Dame productos que **no** tengan precio mayor a 2000” → usamos NOT.\n",
    "\n",
    "### En resumen: el filtrado en Pandas es escribir reglas claras, dejar que Pandas genere una columna de *True/False*, y después quedarte solo con las filas que tienen *True*.\n",
    "\n",
    "---\n"
   ]
  },
  {
   "cell_type": "markdown",
   "id": "859525b4",
   "metadata": {},
   "source": [
    "## 3. Ejemplo en la vida real\n",
    "\n",
    "### Vamos a seguir con el dataset de supermercado:\n",
    "| Producto | Precio | Cantidad |\n",
    "| -------- | ------ | -------- |\n",
    "| Arroz    | 1200   | 10       |\n",
    "| Leche    | 2500   | 5        |\n",
    "| Pan      | 1500   | 20       |\n",
    "| Aceite   | 4800   | 3        |\n",
    "| Fideos   | 2000   | 12       |\n",
    "\n",
    "---\n"
   ]
  },
  {
   "cell_type": "markdown",
   "id": "e7ee97fb",
   "metadata": {},
   "source": [
    "## 4. Ejemplo en código"
   ]
  },
  {
   "cell_type": "code",
   "execution_count": 74,
   "id": "fff7f397",
   "metadata": {},
   "outputs": [
    {
     "name": "stdout",
     "output_type": "stream",
     "text": [
      "  Producto  Precio  Cantidad\n",
      "1    Leche    2500         5\n",
      "3   Aceite    4800         3\n",
      "  Producto  Precio  Cantidad\n",
      "2      Pan    1500        20\n",
      "4   Fideos    2000        12\n",
      "  Producto  Precio  Cantidad\n",
      "2      Pan    1500        20\n",
      "4   Fideos    2000        12\n",
      "  Producto  Precio  Cantidad\n",
      "0    Arroz    1200        10\n",
      "2      Pan    1500        20\n",
      "3   Aceite    4800         3\n",
      "4   Fideos    2000        12\n"
     ]
    },
    {
     "data": {
      "text/plain": [
       "'\\nArroz (1200, 10) → 1200 <= 2000  (entra por precio).\\n\\nPan (1500, 20) → 1500 <= 2000  (entra por precio).\\n\\nAceite (4800, 3) → 3 < 5  (entra por cantidad).\\n\\nFideos (2000, 12) → 2000 <= 2000 (entra por precio porque es igual a 2000).'"
      ]
     },
     "execution_count": 74,
     "metadata": {},
     "output_type": "execute_result"
    }
   ],
   "source": [
    "import pandas as pd\n",
    "\n",
    "# creamos el dataframe\n",
    "data = {\n",
    "    'Producto': ['Arroz', 'Leche', 'Pan', 'Aceite', 'Fideos'],\n",
    "    'Precio': [1200, 2500, 1500, 4800, 2000],\n",
    "    'Cantidad': [10, 5, 20, 3, 12]\n",
    "}\n",
    "\n",
    "# convertimos a dataframe\n",
    "df = pd.DataFrame(data)\n",
    "\n",
    "# 1) Productos con precio mayor a 2000\n",
    "print(df[df['Precio'] > 2000])\n",
    "\n",
    "# 2) Productos con mayor cantidad a 10\n",
    "print(df[df['Cantidad'] > 10])\n",
    "\n",
    "# 3) Productos con precio mayor a 1000 y cantidad mayor a 10\n",
    "print(df[(df['Precio'] > 1000) & (df['Cantidad'] > 10)])\n",
    "\n",
    "# 4) Productos con precio menor o igual a 2000 o cantidad menor a 5\n",
    "print(df[(df['Precio'] <= 2000) | (df['Cantidad'] < 5)])\n",
    "\n",
    "'''\n",
    "Arroz (1200, 10) → 1200 <= 2000  (entra por precio).\n",
    "\n",
    "Pan (1500, 20) → 1500 <= 2000  (entra por precio).\n",
    "\n",
    "Aceite (4800, 3) → 3 < 5  (entra por cantidad).\n",
    "\n",
    "Fideos (2000, 12) → 2000 <= 2000 (entra por precio porque es igual a 2000).'''"
   ]
  },
  {
   "cell_type": "markdown",
   "id": "7c595a8b",
   "metadata": {},
   "source": [
    "## 5. Ejercicios\n",
    "\n",
    "### Ahora quiero que ustedes lo intenten con el mismo DataFrame o uno inventado. Resuelvan esto:\n",
    "\n",
    "- #### Mostrar los productos con precio mayor o igual a 2000.\n",
    "\n",
    "- #### Mostrar los productos con cantidad menor a 10.\n",
    "\n",
    "- #### Mostrar los productos con precio mayor a 1500 y cantidad mayor a 5.\n",
    "\n",
    "- #### Mostrar los productos que tengan precio menor a 2000 o cantidad mayor a 15.\n",
    "\n",
    "#### \n",
    "#### En la próxima parte vamos a ver cómo ordenar datos, para acomodar los resultados según precio, cantidad u otra columna\n",
    "---"
   ]
  },
  {
   "cell_type": "code",
   "execution_count": null,
   "id": "615af25e",
   "metadata": {},
   "outputs": [
    {
     "name": "stdout",
     "output_type": "stream",
     "text": [
      "  Producto  Precio  Cantidad\n",
      "1    Leche    2500         5\n",
      "3   Aceite    4800         3\n",
      "4   Fideos    2000        12\n",
      "  Producto  Precio  Cantidad\n",
      "1    Leche    2500         5\n",
      "3   Aceite    4800         3\n",
      "  Producto  Precio  Cantidad\n",
      "4   Fideos    2000        12\n",
      "  Producto  Precio  Cantidad\n",
      "0    Arroz    1200        10\n",
      "1    Leche    2500         5\n",
      "2      Pan    1500        20\n",
      "3   Aceite    4800         3\n",
      "4   Fideos    2000        12\n"
     ]
    }
   ],
   "source": [
    "# seleccionamos la columna precio y le damos la condicion\n",
    "print(df[df['Precio'] >= 2000])\n",
    "\n",
    "# seleccionamos la columna cantidad y la condicion\n",
    "print(df[df['Cantidad']  < 10])\n",
    "\n",
    "# seleccionamos la columna precio con la condicion y la columna cantidad con la condicion\n",
    "print(df[(df['Precio'] > 1500) & (df['Cantidad'] > 5)])\n",
    "\n",
    "# seleccionamos la columna precio con la condicion y la columna cantidad con la condicion\n",
    "print(df[(df['Precio'] < 2000) | (df['Cantidad'] < 15)])\n",
    "\n"
   ]
  },
  {
   "cell_type": "markdown",
   "id": "8b1d664a",
   "metadata": {},
   "source": []
  },
  {
   "cell_type": "markdown",
   "id": "f6ea5d09",
   "metadata": {},
   "source": [
    "# Ordenar datos en Pandas"
   ]
  },
  {
   "cell_type": "markdown",
   "id": "2b71cd8c",
   "metadata": {},
   "source": [
    "## 1. Concepto\n",
    "\n",
    "#### Ordenar datos significa reorganizar las filas de un DataFrame según los valores de una columna (o varias).\n",
    "#### Es como cuando en Excel hacés clic en “ordenar de menor a mayor” o “de mayor a menor”.\n",
    "#### Esto es útil porque permite analizar mejor la información, detectar los valores extremos y organizar reportes.\n",
    "---"
   ]
  },
  {
   "cell_type": "markdown",
   "id": "a25a84fa",
   "metadata": {},
   "source": [
    "## 2. Ejemplo de la vida real\n",
    "\n",
    "#### Imaginá que tenés una lista de préstamos en un banco.\n",
    "- #### Si los ordenás por monto, podés ver rápidamente cuáles son los más grandes y los más chicos.\n",
    "- #### Si los ordenás por fecha, podés ver cuál fue el primero y cuál el último.\n",
    "- #### Si los ordenás por cliente, podés ver todos los registros agrupados por nombre.\n",
    "---"
   ]
  },
  {
   "cell_type": "markdown",
   "id": "7e15fdf3",
   "metadata": {},
   "source": [
    "## 3. Ejemplo en código"
   ]
  },
  {
   "cell_type": "code",
   "execution_count": 14,
   "id": "d56d5b3f",
   "metadata": {},
   "outputs": [
    {
     "name": "stdout",
     "output_type": "stream",
     "text": [
      "Ordenado por Monto ascendente:\n",
      "  Cliente  Monto  Plazo\n",
      "0     Ana   1000     12\n",
      "4    Juan   1200     12\n",
      "2   Sofía   1500     18\n",
      "1    Luis   2000     24\n",
      "3   Marta   3000     36\n",
      "\n",
      "Ordenado por Monto descendente:\n",
      "  Cliente  Monto  Plazo\n",
      "3   Marta   3000     36\n",
      "1    Luis   2000     24\n",
      "2   Sofía   1500     18\n",
      "4    Juan   1200     12\n",
      "0     Ana   1000     12\n",
      "\n",
      "Ordenado por Plazo y luego por Monto:\n",
      "  Cliente  Monto  Plazo\n",
      "0     Ana   1000     12\n",
      "4    Juan   1200     12\n",
      "2   Sofía   1500     18\n",
      "1    Luis   2000     24\n",
      "3   Marta   3000     36\n",
      "\n",
      "  Cliente  Monto  Plazo\n",
      "3   Marta   3000     36\n",
      "1    Luis   2000     24\n",
      "2   Sofía   1500     18\n",
      "4    Juan   1200     12\n",
      "0     Ana   1000     12\n"
     ]
    }
   ],
   "source": [
    "import pandas as pd\n",
    "\n",
    "#  DataFrame de ejemplo\n",
    "data = {\n",
    "    \"Cliente\": [\"Ana\", \"Luis\", \"Sofía\", \"Marta\", \"Juan\"],\n",
    "    \"Monto\": [1000, 2000, 1500, 3000, 1200],\n",
    "    \"Plazo\": [12, 24, 18, 36, 12]\n",
    "}\n",
    "\n",
    "df = pd.DataFrame(data)\n",
    "\n",
    "# Ordenar por la columna Monto (de menor a mayor)\n",
    "print(\"Ordenado por Monto ascendente:\")\n",
    "print(df.sort_values(by=\"Monto\"))  \n",
    "# Ordena priorizando la columna Monto de menor a mayor.\n",
    "\n",
    "# Ordenar por la columna Monto (de mayor a menor)\n",
    "print(\"\\nOrdenado por Monto descendente:\")\n",
    "print(df.sort_values(by=\"Monto\", ascending=False))  \n",
    "# Ordena priorizando la columna Monto de mayor a menor.\n",
    "\n",
    "# Ordenar por dos columnas: primero Plazo, luego Monto\n",
    "print(\"\\nOrdenado por Plazo y luego por Monto:\")\n",
    "print(df.sort_values(by=[\"Plazo\", \"Monto\"]))  \n",
    "# Ordena por Plazo de menor a mayor y, en empates, usa Monto.\n",
    "\n",
    "print('')\n",
    "# Ordenar por dos columnas en orden descendente\n",
    "print(df.sort_values(by=['Plazo', 'Monto'], ascending=False))  \n",
    "# Ordena por Plazo y luego Monto, ambos de mayor a menor.\n",
    "\n",
    "\n",
    "\n"
   ]
  },
  {
   "cell_type": "markdown",
   "id": "928a2163",
   "metadata": {},
   "source": [
    "## 4. Ejercicio\n",
    "\n",
    "### Con el siguiente DataFrame de ventas:\n",
    "\n",
    "- #### Columnas: VentaID, Categoria, Producto, Precio, Cantidad, Sucursal.\n",
    "\n",
    "#### Tareas:\n",
    "\n",
    "- #### 1. Mostrar las ventas ordenadas por Categoria y luego por Precio descendente.\n",
    "\n",
    "- #### 2. Filtrar las ventas con Precio >= 2000 y Cantidad >= 5, y ordenar por Sucursal y luego Producto.\n",
    "\n",
    "- #### 3. Mostrar solo las filas de Categoria == \"Electrónica\" ordenadas por Cantidad descendente.\n",
    "\n",
    "- #### 4. Crear una vista de las ventas de Sucursal == \"Norte\" y ordenarlas por Precio descendente.\n",
    "---"
   ]
  },
  {
   "cell_type": "code",
   "execution_count": 17,
   "id": "024f4eda",
   "metadata": {},
   "outputs": [
    {
     "name": "stdout",
     "output_type": "stream",
     "text": [
      "1) Categoria asc + Precio desc\n",
      "   VentaID    Categoria     Producto  Precio  Cantidad Sucursal\n",
      "0      101  Electrónica     Notebook    3500         3    Norte\n",
      "5      106  Electrónica       Tablet    2100         7      Sur\n",
      "2      103  Electrónica  Auriculares    1200         8     Este\n",
      "4      105        Hogar   Aspiradora    2500         6    Norte\n",
      "7      108        Hogar   Microondas    2300         3    Oeste\n",
      "1      102        Hogar    Licuadora    1800         4      Sur\n",
      "3      104         Ropa      Campera    2200         2    Oeste\n",
      "6      107         Ropa     Pantalón    1300         5     Este\n",
      "\n",
      "2) Filtro (Precio>=2000 y Cantidad>=5) + orden por Sucursal y Producto\n",
      "   VentaID    Categoria    Producto  Precio  Cantidad Sucursal\n",
      "4      105        Hogar  Aspiradora    2500         6    Norte\n",
      "5      106  Electrónica      Tablet    2100         7      Sur\n",
      "\n",
      "3) Electrónica + Cantidad desc\n",
      "   VentaID    Categoria     Producto  Precio  Cantidad Sucursal\n",
      "2      103  Electrónica  Auriculares    1200         8     Este\n",
      "5      106  Electrónica       Tablet    2100         7      Sur\n",
      "0      101  Electrónica     Notebook    3500         3    Norte\n",
      "\n",
      "4) Sucursal Norte + Precio desc\n",
      "   VentaID    Categoria    Producto  Precio  Cantidad Sucursal\n",
      "0      101  Electrónica    Notebook    3500         3    Norte\n",
      "4      105        Hogar  Aspiradora    2500         6    Norte\n"
     ]
    }
   ],
   "source": [
    "import pandas as pd\n",
    "\n",
    "# DataFrame más simple y claro\n",
    "data = {\n",
    "    \"VentaID\":   [101, 102, 103, 104, 105, 106, 107, 108],\n",
    "    \"Categoria\": [\"Electrónica\", \"Hogar\", \"Electrónica\", \"Ropa\",\n",
    "                \"Hogar\", \"Electrónica\", \"Ropa\", \"Hogar\"],\n",
    "    \"Producto\":  [\"Notebook\", \"Licuadora\", \"Auriculares\", \"Campera\",\n",
    "                \"Aspiradora\", \"Tablet\", \"Pantalón\", \"Microondas\"],\n",
    "    \"Precio\":    [3500, 1800, 1200, 2200, 2500, 2100, 1300, 2300],\n",
    "    \"Cantidad\":  [3, 4, 8, 2, 6, 7, 5, 3],\n",
    "    \"Sucursal\":  [\"Norte\", \"Sur\", \"Este\", \"Oeste\", \"Norte\", \"Sur\", \"Este\", \"Oeste\"]\n",
    "}\n",
    "\n",
    "df = pd.DataFrame(data)\n",
    "\n",
    "# 1) Ordenar por Categoria (A→Z) y, dentro, por Precio (descendente)\n",
    "print(\"1) Categoria asc + Precio desc\")\n",
    "print(df.sort_values(by=[\"Categoria\", \"Precio\"], ascending=[True, False]))\n",
    "\n",
    "# 2) Filtrar Precio >= 2000 y Cantidad >= 5, luego ordenar por Sucursal y Producto\n",
    "print(\"\\n2) Filtro (Precio>=2000 y Cantidad>=5) + orden por Sucursal y Producto\")\n",
    "filtro = (df[\"Precio\"] >= 2000) & (df[\"Cantidad\"] >= 5)\n",
    "print(df[filtro].sort_values(by=[\"Sucursal\", \"Producto\"]))\n",
    "\n",
    "# 3) Solo Electrónica, ordenado por Cantidad desc\n",
    "print(\"\\n3) Electrónica + Cantidad desc\")\n",
    "print(df[df[\"Categoria\"] == \"Electrónica\"].sort_values(by=\"Cantidad\", ascending=False))\n",
    "\n",
    "# 4) Ventas en Sucursal Norte, ordenadas por Precio desc\n",
    "print(\"\\n4) Sucursal Norte + Precio desc\")\n",
    "print(df[df[\"Sucursal\"] == \"Norte\"].sort_values(by=\"Precio\", ascending=False))\n",
    "\n"
   ]
  },
  {
   "cell_type": "markdown",
   "id": "ab3064bc",
   "metadata": {},
   "source": [
    "## Ejercicio \n",
    "\n",
    "#### DataFrame de ventas con columnas: Producto, Categoria, Precio, Cantidad, Sucursal.\n",
    "\n",
    "### Tareas:\n",
    "\n",
    "- #### Ordenar por Precio descendente y, en empates, por Producto ascendente.\n",
    "\n",
    "- #### Filtrar Categoria en [\"Electrónica\",\"Hogar\"] y Cantidad >= 3; ordenar por Categoria y luego Precio (ambas ascendentes).\n",
    "\n",
    "- #### Ventas de Sucursal \"Centro\" o \"Norte\" con Precio >= 2000; ordenar por Sucursal asc y Cantidad desc."
   ]
  },
  {
   "cell_type": "code",
   "execution_count": 18,
   "id": "c8cd51e3",
   "metadata": {},
   "outputs": [
    {
     "name": "stdout",
     "output_type": "stream",
     "text": [
      "1) Precio desc + Producto asc\n",
      "      Producto    Categoria  Precio  Cantidad Sucursal\n",
      "0     Notebook  Electrónica    3200         2   Centro\n",
      "5       Tablet  Electrónica    3200         3    Norte\n",
      "3      Campera         Ropa    2200         2    Oeste\n",
      "4   Aspiradora        Hogar    2100         5   Centro\n",
      "6     Pantalón         Ropa    1300         7   Centro\n",
      "2  Auriculares  Electrónica    1200         4    Norte\n",
      "1    Tostadora        Hogar     900         6      Sur\n",
      "\n",
      "2) Filtro por categoria y cantidad + orden por Categoria, Precio asc\n",
      "      Producto    Categoria  Precio  Cantidad Sucursal\n",
      "2  Auriculares  Electrónica    1200         4    Norte\n",
      "5       Tablet  Electrónica    3200         3    Norte\n",
      "1    Tostadora        Hogar     900         6      Sur\n",
      "4   Aspiradora        Hogar    2100         5   Centro\n",
      "\n",
      "3) Sucursal Centro/Norte y Precio >= 2000 + Sucursal asc, Cantidad desc\n",
      "     Producto    Categoria  Precio  Cantidad Sucursal\n",
      "4  Aspiradora        Hogar    2100         5   Centro\n",
      "0    Notebook  Electrónica    3200         2   Centro\n",
      "5      Tablet  Electrónica    3200         3    Norte\n"
     ]
    }
   ],
   "source": [
    "import pandas as pd\n",
    "\n",
    "data = {\n",
    "    \"Producto\":  [\"Notebook\", \"Tostadora\", \"Auriculares\", \"Campera\", \"Aspiradora\", \"Tablet\", \"Pantalón\"],\n",
    "    \"Categoria\": [\"Electrónica\", \"Hogar\", \"Electrónica\", \"Ropa\", \"Hogar\", \"Electrónica\", \"Ropa\"],\n",
    "    \"Precio\":    [3200, 900, 1200, 2200, 2100, 3200, 1300],\n",
    "    \"Cantidad\":  [2, 6, 4, 2, 5, 3, 7],\n",
    "    \"Sucursal\":  [\"Centro\", \"Sur\", \"Norte\", \"Oeste\", \"Centro\", \"Norte\", \"Centro\"]\n",
    "}\n",
    "\n",
    "df = pd.DataFrame(data)\n",
    "\n",
    "# 1) Precio desc y, en empates, Producto asc\n",
    "print(\"1) Precio desc + Producto asc\")\n",
    "print(df.sort_values(by=[\"Precio\", \"Producto\"], ascending=[False, True]))\n",
    "\n",
    "# 2) (Categoria in ['Electrónica','Hogar']) y (Cantidad >= 3), orden por Categoria y Precio asc\n",
    "print(\"\\n2) Filtro por categoria y cantidad + orden por Categoria, Precio asc\")\n",
    "filtro2 = (df[\"Categoria\"].isin([\"Electrónica\", \"Hogar\"])) & (df[\"Cantidad\"] >= 3)\n",
    "print(df[filtro2].sort_values(by=[\"Categoria\", \"Precio\"], ascending=[True, True]))\n",
    "\n",
    "# 3) (Sucursal 'Centro' o 'Norte') y (Precio >= 2000), orden por Sucursal asc y Cantidad desc\n",
    "print(\"\\n3) Sucursal Centro/Norte y Precio >= 2000 + Sucursal asc, Cantidad desc\")\n",
    "filtro3 = (df[\"Sucursal\"].isin([\"Centro\", \"Norte\"])) & (df[\"Precio\"] >= 2000)\n",
    "print(df[filtro3].sort_values(by=[\"Sucursal\", \"Cantidad\"], ascending=[True, False]))\n"
   ]
  }
 ],
 "metadata": {
  "kernelspec": {
   "display_name": ".venv",
   "language": "python",
   "name": "python3"
  },
  "language_info": {
   "codemirror_mode": {
    "name": "ipython",
    "version": 3
   },
   "file_extension": ".py",
   "mimetype": "text/x-python",
   "name": "python",
   "nbconvert_exporter": "python",
   "pygments_lexer": "ipython3",
   "version": "3.11.6"
  }
 },
 "nbformat": 4,
 "nbformat_minor": 5
}
