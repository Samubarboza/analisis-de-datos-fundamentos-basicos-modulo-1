{
 "cells": [
  {
   "cell_type": "markdown",
   "id": "71adc2ee",
   "metadata": {},
   "source": [
    "# Día 5 – Operaciones básicas en Pandas"
   ]
  },
  {
   "cell_type": "markdown",
   "id": "f66962aa",
   "metadata": {},
   "source": [
    "#### Tema de hoy: Agregaciones (sum, mean, count)"
   ]
  },
  {
   "cell_type": "markdown",
   "id": "4935b1eb",
   "metadata": {},
   "source": [
    "## 1. Introducción\n",
    "\n",
    "#### Imaginemos la siguiente situación: trabajamos en un banco o en una empresa y tenemos un archivo lleno de registros de operaciones. Cada fila representa un cliente con el monto de su préstamo o de su compra.\n",
    "### El jefe se acerca y nos pide tres cosas:\n",
    "\n",
    "- #### ¿Cuál fue el total de dinero prestado?\n",
    "\n",
    "- #### ¿Cuál es el promedio de los préstamos?\n",
    "\n",
    "- #### ¿Cuántos registros hay cargados?\n",
    "\n",
    "#### Si lo hiciéramos a mano, tendríamos que revisar fila por fila, sumar montos, dividir para sacar el promedio y contar filas. Un trabajo lento, repetitivo y que puede traer errores.\n",
    "\n",
    "#### Entonces aparece la necesidad: ¿cómo podemos obtener esas respuestas de forma inmediata y confiable?\n",
    "---"
   ]
  },
  {
   "cell_type": "markdown",
   "id": "d74adfdb",
   "metadata": {},
   "source": [
    "## 2. La herramienta que vamos a usar\n",
    "\n",
    "### Pandas nos da funciones muy simples para resolver esto en segundos:\n",
    "\n",
    "- #### sum() → calcula la suma.\n",
    "\n",
    "- #### mean() → calcula el promedio.\n",
    "\n",
    "- #### count() → cuenta cuántos valores válidos existen en una columna.\n",
    "\n",
    "#### Estas funciones son las que llamamos funciones de agregación, porque toman muchos valores y los convierten en un único valor que resume la información.\n",
    "---"
   ]
  },
  {
   "cell_type": "markdown",
   "id": "d26fcbe4",
   "metadata": {},
   "source": [
    "## 3. Concepto\n",
    "\n",
    "#### sum(): recorre todos los números de una columna y los suma. \n",
    "\n",
    "#### sum() en NumPy\n",
    "\n",
    "#### Imaginate que tenés una lista de números: 2, 4, 6, 8.\n",
    "\n",
    "#### Si vos los querés juntar en un solo número, lo que hacés es sumarlos: 2 + 4 + 6 + 8 = 20.\n",
    "\n",
    "#### Eso mismo hace sum(), pero en lugar de que vos los vayas sumando a mano, la función lo hace rapidísimo por vos.\n",
    "\n",
    "#### `Analogía`\n",
    "#### Pensá que tenés una alcancía. Cada día metés monedas: lunes 5, martes 3, miércoles 7.\n",
    "#### Si querés saber cuánto juntaste en total, no vas contando una por una… tirás todas las monedas arriba de la mesa y las sumás.\n",
    "#### Eso es lo que hace sum(): tira las monedas en la mesa y te dice el total.\n",
    "---\n",
    "\n",
    "#### mean(): toma todos los números, los suma y divide entre la cantidad → eso es el promedio. Nos da una idea del valor típico.\n",
    "\n",
    "#### mean() en NumPy\n",
    "\n",
    "#### Primero suma todos los números.\n",
    "\n",
    "#### Después divide esa suma por la cantidad de números que había.\n",
    "\n",
    "#### El resultado es el promedio: un número que representa “el valor típico” de la lista.\n",
    "\n",
    "#### `Analogía`\n",
    "#### Imaginate que comprás 3 helados: uno cuesta 10, otro 20 y otro 30.\n",
    "#### Si querés saber cuánto cuesta “más o menos” un helado, no tiene sentido mirar solo el más caro o el más barato.\n",
    "#### Lo que hacés es sumar (10 + 20 + 30 = 60) y después dividir entre 3 (porque fueron 3 helados).\n",
    "#### 60 ÷ 3 = 20.\n",
    "#### Ese 20 es el precio promedio: te da una idea de lo que vale un helado en general.\n",
    "\n",
    "---\n",
    "\n",
    "#### count(): no mira qué valor hay, simplemente cuenta cuántos registros están cargados. Importante: solo cuenta los que no son nulos.\n",
    "\n",
    "#### count() en NumPy\n",
    "\n",
    "#### No le interesa si los números son grandes, chicos o repetidos.\n",
    "\n",
    "#### Lo único que hace es contar cuántos valores hay cargados.\n",
    "\n",
    "#### Importante: si hay valores vacíos (NaN), esos no los cuenta.\n",
    "\n",
    "#### `Analogía`\n",
    "#### Imaginate que tenés una fila de sillas en un cine.\n",
    "#### No importa si la persona es alta, baja, gorda o flaca.\n",
    "#### Lo único que hacés es contar: “¿cuántos asientos están ocupados?”.\n",
    "#### Eso es count(): se fija en cuántos datos hay, sin mirar qué valor tienen.\n",
    "\n",
    "### En NumPy\n",
    "#### Ojo: `en NumPy puro usamos len() para contar, pero si trabajamos con datos que pueden tener vacíos, lo más común es usar pandas con .count()`\n",
    "\n",
    "#### Con estas tres funciones ya podemos responder preguntas básicas que siempre aparecen en un análisis.\n",
    "---"
   ]
  },
  {
   "cell_type": "markdown",
   "id": "df8780ba",
   "metadata": {},
   "source": [
    "## 4. Ejemplos en código"
   ]
  },
  {
   "cell_type": "code",
   "execution_count": 1,
   "id": "9e8e7d99",
   "metadata": {},
   "outputs": [
    {
     "name": "stdout",
     "output_type": "stream",
     "text": [
      "Total prestado: 8700\n",
      "Promedio de préstamos: 1740.0\n",
      "Cantidad de operaciones: 5\n"
     ]
    }
   ],
   "source": [
    "import pandas as pd\n",
    "\n",
    "# Creamos un DataFrame de ejemplo\n",
    "data = {\n",
    "    \"Cliente\": [\"Ana\", \"Luis\", \"Sofía\", \"Marta\", \"Juan\"],\n",
    "    \"Monto\":   [1000, 2000, 1500, 3000, 1200],\n",
    "    \"Plazo\":   [12, 24, 18, 36, 12]  # en meses\n",
    "}\n",
    "df = pd.DataFrame(data)\n",
    "\n",
    "# 1) Suma total de la columna \"Monto\"\n",
    "print(\"Total prestado:\", df[\"Monto\"].sum())\n",
    "\n",
    "# 2) Promedio de los montos\n",
    "print(\"Promedio de préstamos:\", df[\"Monto\"].mean())\n",
    "\n",
    "# 3) Cantidad de registros en la columna \"Monto\"\n",
    "print(\"Cantidad de operaciones:\", df[\"Monto\"].count())\n"
   ]
  },
  {
   "cell_type": "markdown",
   "id": "413713b0",
   "metadata": {},
   "source": [
    "## 5. Otro ejemplo con varias columnas"
   ]
  },
  {
   "cell_type": "code",
   "execution_count": 2,
   "id": "9f433b92",
   "metadata": {},
   "outputs": [
    {
     "name": "stdout",
     "output_type": "stream",
     "text": [
      "Monto    1740.0\n",
      "Plazo      20.4\n",
      "dtype: float64\n",
      "Cliente    5\n",
      "Monto      5\n",
      "Plazo      5\n",
      "dtype: int64\n"
     ]
    }
   ],
   "source": [
    "# Promedio de Monto y Plazo al mismo tiempo\n",
    "print(df[[\"Monto\", \"Plazo\"]].mean())\n",
    "\n",
    "# Cantidad de registros en todas las columnas\n",
    "print(df.count())\n"
   ]
  },
  {
   "cell_type": "markdown",
   "id": "cef918c8",
   "metadata": {},
   "source": [
    "## 6. Ejercicios \n",
    "\n",
    "#### Ejercicio 1 – Control de calidad de datos\n",
    "#### Tienen un DataFrame con las columnas: Producto, Precio, Cantidad.\n",
    "\n",
    "- #### Calcular el ingreso total multiplicando precio * cantidad y luego sumando todos los ingresos.\n",
    "\n",
    "- #### Calcular el promedio de precio y el promedio de cantidad.\n",
    "\n",
    "- #### Calcular la diferencia entre la cantidad de registros totales (len(df)) y la cantidad que devuelve count() en cada columna.\n",
    "\n",
    "- #### Explicar qué significa esa diferencia en términos de datos faltantes.\n",
    "\n",
    "### `explicar es parte fundamental del análisis de datos. No es opcional. Es lo que diferencia`\n",
    "### `“ejecutar un comando” de “entender y comunicar lo que pasa con los datos”`"
   ]
  },
  {
   "cell_type": "code",
   "execution_count": 3,
   "id": "75847170",
   "metadata": {},
   "outputs": [
    {
     "name": "stdout",
     "output_type": "stream",
     "text": [
      "DataFrame original:\n",
      "  Producto  Precio  Cantidad\n",
      "0    Arroz  1200.0      10.0\n",
      "1      Pan  1500.0       5.0\n",
      "2    Leche     NaN       8.0\n",
      "3   Azúcar   800.0       NaN\n",
      "4    Yerba   950.0      12.0\n",
      "\n",
      "Ingreso total: 30900.0\n",
      "\n",
      "Promedio de precio: 1112.5\n",
      "Promedio de cantidad: 8.75\n",
      "\n",
      "Cantidad total de filas: 5\n",
      "Cantidad de registros válidos por columna:\n",
      " Producto    5\n",
      "Precio      4\n",
      "Cantidad    4\n",
      "Ingreso     3\n",
      "dtype: int64\n",
      "\n",
      "Diferencia (faltantes) por columna:\n",
      " Producto    0\n",
      "Precio      1\n",
      "Cantidad    1\n",
      "Ingreso     2\n",
      "dtype: int64\n"
     ]
    }
   ],
   "source": [
    "import pandas as pd\n",
    "import numpy as np\n",
    "\n",
    "# Creamos un DataFrame de ejemplo con un dato faltante (NaN)\n",
    "data = {\n",
    "    \"Producto\": [\"Arroz\", \"Pan\", \"Leche\", \"Azúcar\", \"Yerba\"],\n",
    "    \"Precio\":   [1200, 1500, np.nan, 800, 950],\n",
    "    \"Cantidad\": [10, 5, 8, np.nan, 12]\n",
    "}\n",
    "df = pd.DataFrame(data)\n",
    "\n",
    "print(\"DataFrame original:\")\n",
    "print(df)\n",
    "\n",
    "# 1) Calcular ingreso total = Precio * Cantidad, luego sumar todo\n",
    "df[\"Ingreso\"] = df[\"Precio\"] * df[\"Cantidad\"]\n",
    "ingreso_total = df[\"Ingreso\"].sum()\n",
    "print(\"\\nIngreso total:\", ingreso_total)\n",
    "\n",
    "# 2) Calcular promedio de precio y promedio de cantidad\n",
    "promedio_precio = df[\"Precio\"].mean()\n",
    "promedio_cantidad = df[\"Cantidad\"].mean()\n",
    "print(\"\\nPromedio de precio:\", promedio_precio)\n",
    "print(\"Promedio de cantidad:\", promedio_cantidad)\n",
    "\n",
    "# 3) Diferencia entre cantidad total de filas y el count() de cada columna\n",
    "total_filas = len(df)\n",
    "conteos = df.count()\n",
    "print(\"\\nCantidad total de filas:\", total_filas)\n",
    "print(\"Cantidad de registros válidos por columna:\\n\", conteos)\n",
    "\n",
    "diferencias = total_filas - conteos\n",
    "print(\"\\nDiferencia (faltantes) por columna:\\n\", diferencias)\n"
   ]
  },
  {
   "cell_type": "markdown",
   "id": "68f08aa4",
   "metadata": {},
   "source": [
    "## Explicación\n",
    "\n",
    "### `1. Ingreso total`\n",
    "\n",
    "- #### Creamos una nueva columna Ingreso = Precio * Cantidad.\n",
    "\n",
    "- #### Luego sumamos esa columna → esto nos da el dinero total generado por todas las ventas/productos.\n",
    "\n",
    "### `2. Promedio de precio y cantidad`\n",
    "\n",
    "- #### mean() calcula el promedio ignorando los valores faltantes (NaN).\n",
    "\n",
    "- #### Así obtenemos el precio promedio de los productos y la cantidad promedio.\n",
    "\n",
    "### `3. Diferencia entre len(df) y count()`\n",
    "\n",
    "- #### len(df) cuenta todas las filas del DataFrame, sin importar si tienen datos faltantes.\n",
    "\n",
    "- #### count() cuenta solo los valores que no son nulos en cada columna.\n",
    "\n",
    "- #### Si hay una diferencia, significa que en esa columna hay datos faltantes.\n",
    "\n",
    "#### *`Ejemplo con este DataFrame:`*\n",
    "\n",
    "- #### Tenemos 5 filas en total.\n",
    "\n",
    "- #### La columna Precio tiene 4 valores válidos → diferencia = 1 → un precio faltante.\n",
    "\n",
    "- #### La columna Cantidad tiene 4 valores válidos → diferencia = 1 → una cantidad faltante.\n",
    "\n",
    "- #### La columna Producto tiene 5 → diferencia = 0 → no faltan datos.\n",
    "\n",
    "### Conclusión:\n",
    "#### La diferencia entre len(df) y count() nos muestra cuántos datos faltan en cada columna. \n",
    "#### Esto es clave en control de calidad de datos porque nos permite detectar dónde hay información incompleta que puede afectar cálculos como el ingreso total o el promedio.\n",
    "---"
   ]
  },
  {
   "cell_type": "code",
   "execution_count": 6,
   "id": "9f03a7d6",
   "metadata": {},
   "outputs": [
    {
     "name": "stdout",
     "output_type": "stream",
     "text": [
      "DataFrame original:\n",
      "  Cliente  Monto  Plazo Sucursal\n",
      "0     Ana   1000     12    Norte\n",
      "1    Luis   2000     24      Sur\n",
      "2   Sofía   1500     18    Norte\n",
      "3   Marta   3000     36    Oeste\n",
      "4    Juan   1200     12    Norte\n",
      "5   Carla   2500     24      Sur\n",
      "\n",
      "Total de préstamos: 11200\n",
      "Promedio por operación: 1866.6666666666667\n",
      "Cantidad de operaciones: 6\n",
      "\n",
      "Sucursal Norte - Total: 3700\n",
      "Sucursal Norte - Promedio: 1233.3333333333333\n",
      "Sucursal Norte - Cantidad: 3\n"
     ]
    }
   ],
   "source": [
    "import pandas as pd\n",
    "\n",
    "# Creamos un DataFrame de ejemplo\n",
    "data = {\n",
    "    \"Cliente\": [\"Ana\", \"Luis\", \"Sofía\", \"Marta\", \"Juan\", \"Carla\"],\n",
    "    \"Monto\":   [1000, 2000, 1500, 3000, 1200, 2500],\n",
    "    \"Plazo\":   [12, 24, 18, 36, 12, 24],  # en meses\n",
    "    \"Sucursal\": [\"Norte\", \"Sur\", \"Norte\", \"Oeste\", \"Norte\", \"Sur\"]\n",
    "}\n",
    "df = pd.DataFrame(data)\n",
    "\n",
    "print(\"DataFrame original:\")\n",
    "print(df)\n",
    "\n",
    "# 1) Total de préstamos otorgados\n",
    "total_prestamos = df[\"Monto\"].sum()\n",
    "print(\"\\nTotal de préstamos:\", total_prestamos)\n",
    "\n",
    "# 2) Promedio del monto por operación\n",
    "promedio_monto = df[\"Monto\"].mean()\n",
    "print(\"Promedio por operación:\", promedio_monto)\n",
    "\n",
    "# 3) Cantidad de operaciones (filas totales)\n",
    "cantidad_operaciones = len(df)\n",
    "print(\"Cantidad de operaciones:\", cantidad_operaciones)\n",
    "\n",
    "# 4) Filtrar solo la sucursal \"Norte\"\n",
    "df_norte = df[df[\"Sucursal\"] == \"Norte\"]\n",
    "\n",
    "total_norte = df_norte[\"Monto\"].sum()\n",
    "promedio_norte = df_norte[\"Monto\"].mean()\n",
    "cantidad_norte = len(df_norte)\n",
    "\n",
    "print(\"\\nSucursal Norte - Total:\", total_norte)\n",
    "print(\"Sucursal Norte - Promedio:\", promedio_norte)\n",
    "print(\"Sucursal Norte - Cantidad:\", cantidad_norte)\n"
   ]
  },
  {
   "cell_type": "markdown",
   "id": "a6f4d4f2",
   "metadata": {},
   "source": [
    "## Explicación\n",
    "\n",
    "### `1. Total de préstamos otorgados`\n",
    "\n",
    "- #### Con df[\"Monto\"].sum() sumamos todos los montos → esto nos da el dinero total que la institución prestó.\n",
    "\n",
    "### `2. Promedio por operación`\n",
    "\n",
    "- #### Con df[\"Monto\"].mean() sacamos el valor promedio de los préstamos. Nos sirve para saber el “tamaño típico” de las operaciones.\n",
    "\n",
    "### `3. Cantidad de operaciones`\n",
    "\n",
    "- #### Con len(df) contamos cuántas filas hay en total, que corresponde a la cantidad de operaciones registradas.\n",
    "\n",
    "### `4. Sucursal Norte`\n",
    "\n",
    "- #### Filtramos solo las filas donde Sucursal == \"Norte\".\n",
    "\n",
    "#### *Sobre ese subconjunto, volvemos a calcular:*\n",
    "\n",
    "- #### Total de préstamos de Norte.\n",
    "\n",
    "- #### Promedio por operación en Norte.\n",
    "\n",
    "- #### Cantidad de operaciones en Norte.\n",
    "\n",
    "---\n",
    "\n",
    "### Reflexión\n",
    "\n",
    "#### ¿Por qué es útil calcular las métricas para todo el dataset y luego para una parte filtrada?\n",
    "\n",
    "- #### Porque el análisis general nos da la foto completa de la empresa.\n",
    "\n",
    "- #### Pero el análisis filtrado nos permite comparar entre sucursales, productos o segmentos de clientes.\n",
    "\n",
    "#### *Esto es esencial para detectar patrones:*\n",
    "\n",
    "- #### Quizás el promedio general es 2000, pero en “Norte” es 1200 → eso indica que en esa sucursal se otorgan préstamos más chicos.\n",
    "\n",
    "- #### O tal vez la sucursal “Norte” tiene el mayor total prestado → entonces merece más atención.\n",
    "\n",
    "### `En pocas palabras: los cálculos globales nos dicen “cómo está todo en general” y `\n",
    "### `los cálculos filtrados nos ayudan a entender “cómo se comporta cada parte del todo”.`"
   ]
  },
  {
   "cell_type": "markdown",
   "id": "fca4939c",
   "metadata": {},
   "source": []
  },
  {
   "cell_type": "markdown",
   "id": "edee1e4e",
   "metadata": {},
   "source": [
    "# Crear columnas derivadas"
   ]
  },
  {
   "cell_type": "markdown",
   "id": "ccdb4e1c",
   "metadata": {},
   "source": [
    "## 1. Introducción\n",
    "\n",
    "#### Hasta ahora trabajamos con los datos “tal cual vinieron” en el archivo: columnas de montos, plazos, productos, cantidades.\n",
    "#### Pero muchas veces necesitamos nueva información que no está en los datos originales, sino que surge de un cálculo a partir de lo existente.\n",
    "\n",
    "### Ejemplo real:\n",
    "\n",
    "- #### En una planilla de ventas, no siempre tenemos directamente los ingresos. Tenemos precio y cantidad, pero para calcular ingresos necesitamos multiplicar esos dos valores.\n",
    "\n",
    "- #### En un dataset de préstamos, podemos tener el monto y el plazo, pero quizás necesitamos calcular la cuota mensual.\n",
    "\n",
    "### Entonces aparece la necesidad: `crear nuevas columnas a partir de operaciones sobre otras columnas.``\n",
    "---"
   ]
  },
  {
   "cell_type": "markdown",
   "id": "d6c7a52d",
   "metadata": {},
   "source": [
    "## 2. La herramienta que vamos a usar\n",
    "\n",
    "#### En Pandas podemos crear una columna derivada de forma muy simple:\n",
    "\n",
    "- ### `df[\"NuevaColumna\"] = df[\"Columna1\"] operación df[\"Columna2\"]`\n",
    "\n",
    "\n",
    "#### El nombre de la nueva columna lo inventamos nosotros.\n",
    "\n",
    "#### Podemos usar operadores matemáticos (+, -, *, /) o funciones de Pandas/Numpy.\n",
    "\n",
    "#### El resultado se guarda como una nueva columna del DataFrame, junto a las demás.\n",
    "---"
   ]
  },
  {
   "cell_type": "markdown",
   "id": "3e009ac1",
   "metadata": {},
   "source": [
    "## 3. Concepto\n",
    "\n",
    "#### Una columna derivada es una columna nueva que vos mismo creás dentro del DataFrame.\n",
    "#### No viene en los datos originales, sino que aparece al hacer un cálculo o transformación con la información que ya existe.\n",
    "\n",
    "### Ejemplo:\n",
    "- #### Tenés Precio y Cantidad. Si los multiplicás, obtenés Ingresos. Esa nueva columna de Ingresos es derivada.\n",
    "\n",
    "### ¿Para qué sirve?\n",
    "- #### Para enriquecer los datos con información más útil.\n",
    "#### Así podés responder preguntas que con las columnas originales no podrías.\n",
    "\n",
    "### Ventaja:\n",
    "- #### Los datos originales quedan intactos.\n",
    "#### Simplemente agregás una capa extra de información que te da más valor para analizar.\n",
    "\n",
    "### En la práctica:\n",
    "- #### Te permite calcular métricas como descuentos, tasas de interés, cuotas, ingresos totales, promedios ajustados, etc.\n",
    "#### Es como “sumar piezas nuevas al rompecabezas” para ver la foto más completa.\n",
    "---"
   ]
  },
  {
   "cell_type": "markdown",
   "id": "5b9592cd",
   "metadata": {},
   "source": [
    "## 4. Ejemplos con código"
   ]
  },
  {
   "cell_type": "code",
   "execution_count": null,
   "id": "ddc03f3e",
   "metadata": {},
   "outputs": [
    {
     "name": "stdout",
     "output_type": "stream",
     "text": [
      "DataFrame original:\n",
      "      Producto  Precio  Cantidad\n",
      "0     Notebook    3500         3\n",
      "1  Auriculares    1200         5\n",
      "2    Licuadora    1800         2\n",
      "\n",
      "Con columna Ingreso derivada:\n",
      "      Producto  Precio  Cantidad  Ingreso\n",
      "0     Notebook    3500         3    10500\n",
      "1  Auriculares    1200         5     6000\n",
      "2    Licuadora    1800         2     3600\n"
     ]
    }
   ],
   "source": [
    "import pandas as pd\n",
    "\n",
    "# Dataset de ejemplo: productos vendidos\n",
    "data = {\n",
    "    \"Producto\": [\"Notebook\", \"Auriculares\", \"Licuadora\"],\n",
    "    \"Precio\":   [3500, 1200, 1800],\n",
    "    \"Cantidad\": [3, 5, 2]\n",
    "}\n",
    "df = pd.DataFrame(data)\n",
    "\n",
    "print(\"DataFrame original:\")\n",
    "print(df)\n",
    "\n",
    "# 1) Crear columna derivada: Ingreso = Precio * Cantidad\n",
    "df[\"Ingreso\"] = df[\"Precio\"] * df[\"Cantidad\"] # python respeta las posiciones fila por fila - pandas va tomando el valor de la misma fila de cada columna y los multiplica\n",
    "print(\"\\nCon columna Ingreso derivada:\")\n",
    "print(df)\n"
   ]
  },
  {
   "cell_type": "code",
   "execution_count": 2,
   "id": "a3c1ba7e",
   "metadata": {},
   "outputs": [
    {
     "name": "stdout",
     "output_type": "stream",
     "text": [
      "  Cliente  Monto  Plazo  Cuota_Mensual\n",
      "0     Ana   1000     12      83.333333\n",
      "1    Luis   2000     24      83.333333\n",
      "2   Sofía   1500     18      83.333333\n"
     ]
    }
   ],
   "source": [
    "# Dataset de préstamos\n",
    "data = {\n",
    "    \"Cliente\": [\"Ana\", \"Luis\", \"Sofía\"],\n",
    "    \"Monto\":   [1000, 2000, 1500],\n",
    "    \"Plazo\":   [12, 24, 18]  # en meses\n",
    "}\n",
    "df = pd.DataFrame(data)\n",
    "\n",
    "# 2) Crear columna derivada: Cuota mensual = Monto / Plazo\n",
    "df[\"Cuota_Mensual\"] = df[\"Monto\"] / df[\"Plazo\"]\n",
    "print(df)\n"
   ]
  },
  {
   "cell_type": "markdown",
   "id": "52be382e",
   "metadata": {},
   "source": [
    "## 5. Ejercicios"
   ]
  },
  {
   "cell_type": "markdown",
   "id": "309cfd5e",
   "metadata": {},
   "source": [
    "## Ejercicio 1 – Ingresos y control de stock\n",
    "#### Tienen un DataFrame con columnas: Producto, Precio, Cantidad, Costo.\n",
    "\n",
    "- #### Crear una columna Ingreso = Precio * Cantidad.\n",
    "\n",
    "- #### Crear una columna Ganancia = (Precio - Costo) * Cantidad.\n",
    "\n",
    "- #### Calcular el ingreso total y la ganancia total.\n",
    "\n",
    "- #### Reflexionar: ¿qué pasa si un producto tiene precio cargado pero no cantidad (NaN)?\n",
    "---\n",
    "### Si un producto tiene precio cargado pero no cantidad, entonces cuando calculamos el Ingreso = Precio * Cantidad, el resultado va a ser NaN.\n",
    "### En la práctica, esto significa que no sabemos cuántas unidades se vendieron, por lo tanto no podemos calcular el ingreso de ese producto.\n",
    "#### `Esto es un problema de calidad de datos: aunque tengamos parte de la información (precio), sin la otra parte (cantidad) el cálculo queda incompleto. El NaN nos está avisando que falta un dato clave y que los resultados no son totalmente confiables.`\n",
    "---"
   ]
  },
  {
   "cell_type": "code",
   "execution_count": 11,
   "id": "f63fe58b",
   "metadata": {},
   "outputs": [
    {
     "name": "stdout",
     "output_type": "stream",
     "text": [
      "Columna completa\n",
      "    Producto  Precio  Cantidad  Costo\n",
      "0         TV   50000         5  40000\n",
      "1     SONIDO   30000         5  20000\n",
      "2  PROYECTOR  100000         5  80000\n",
      "\n",
      "    Producto  Precio  Cantidad  Costo  Ingreso\n",
      "0         TV   50000         5  40000   250000\n",
      "1     SONIDO   30000         5  20000   150000\n",
      "2  PROYECTOR  100000         5  80000   500000\n",
      "\n",
      "    Producto  Precio  Cantidad  Costo  Ingreso  Ganancia\n",
      "0         TV   50000         5  40000   250000     50000\n",
      "1     SONIDO   30000         5  20000   150000     50000\n",
      "2  PROYECTOR  100000         5  80000   500000    100000\n",
      "\n",
      "El ingreso total es: 900000\n",
      "La ganancia total es: 200000\n"
     ]
    }
   ],
   "source": [
    "data = {\n",
    "    'Producto': ['TV', 'SONIDO', 'PROYECTOR'],\n",
    "    'Precio': [50000, 30000, 100000],\n",
    "    'Cantidad': [5, 5, 5],\n",
    "    'Costo': [40000, 20000, 80000]\n",
    "}\n",
    "\n",
    "df = pd.DataFrame(data)\n",
    "print(f'Columna completa\\n{df}')\n",
    "\n",
    "print('')\n",
    "\n",
    "df['Ingreso'] = df['Precio'] * df['Cantidad']\n",
    "print(df)\n",
    "\n",
    "print('')\n",
    "\n",
    "df['Ganancia'] = (df['Precio'] - df['Costo']) * df['Cantidad']\n",
    "\n",
    "print(df)\n",
    "\n",
    "print('')\n",
    "\n",
    "ingreso_total = df['Ingreso'].sum()\n",
    "print(f'El ingreso total es: {ingreso_total}')\n",
    "ganancia_total = df['Ganancia'].sum()\n",
    "print(f'La ganancia total es: {ganancia_total}')\n"
   ]
  },
  {
   "cell_type": "markdown",
   "id": "7572dc3a",
   "metadata": {},
   "source": [
    "## Ejercicio 2 – Préstamos y cuotas\n",
    "#### Tienen un DataFrame con: Cliente, Monto, Plazo, Sucursal.\n",
    "\n",
    "- #### Crear una columna Cuota_Mensual = Monto / Plazo.\n",
    "\n",
    "- #### Crear una columna Cuota_Doble = Cuota_Mensual * 2 (simulando pago doble).\n",
    "\n",
    "- #### Filtrar solo la sucursal “Sur” y calcular el promedio de Cuota_Mensual.\n",
    "\n",
    "- #### Reflexionar: ¿por qué podría ser importante guardar las cuotas calculadas como columna en lugar de calcularlas “a mano” cada vez?\n",
    "---\n",
    "#### Podríamos calcular la cuota mensual cada vez con Monto / Plazo, pero si lo hacemos siempre “a mano”:\n",
    "\n",
    "#### Es más lento y repetitivo.\n",
    "\n",
    "#### Hay más riesgo de cometer errores al escribir la operación.\n",
    "\n",
    "#### Si después queremos usar esa cuota para otros cálculos (por ejemplo, intereses o pagos dobles), tenemos que repetir la fórmula cada vez.\n",
    "\n",
    "#### En cambio, si guardamos la columna derivada Cuota_Mensual:\n",
    "\n",
    "#### La información queda lista y accesible.\n",
    "\n",
    "#### Podemos usarla en otros cálculos sin volver a escribir la fórmula.\n",
    "\n",
    "#### Aporta claridad: cualquiera que mire el DataFrame entiende directamente cuál es la cuota de cada cliente.\n",
    "\n",
    "#### En resumen: guardar la columna nos da eficiencia, reduce errores y hace más claro el análisis.\n",
    "---"
   ]
  },
  {
   "cell_type": "code",
   "execution_count": 25,
   "id": "2c213355",
   "metadata": {},
   "outputs": [
    {
     "name": "stdout",
     "output_type": "stream",
     "text": [
      "Todos los clientes con sus prestamos y sucursales\n",
      "              Cliente    Monto  Plazo    Sucursal\n",
      "0  Alejandro Arriola  1000000     12  Villamorra\n",
      "1     Matias Samudio  2000000     10      Centro\n",
      "2       Pablo Medina  2500000      8  Carmelitas\n",
      "3      Tiago Ramirez  1500000     18         Sur\n",
      "\n",
      "             Cliente    Monto  Plazo    Sucursal  Cuota_Mensual\n",
      "0  Alejandro Arriola  1000000     12  Villamorra   83333.333333\n",
      "1     Matias Samudio  2000000     10      Centro  200000.000000\n",
      "2       Pablo Medina  2500000      8  Carmelitas  312500.000000\n",
      "3      Tiago Ramirez  1500000     18         Sur   83333.333333\n",
      "\n",
      "             Cliente    Monto  Plazo    Sucursal  Cuota_Mensual    Cuota_Doble\n",
      "0  Alejandro Arriola  1000000     12  Villamorra   83333.333333  166666.666667\n",
      "1     Matias Samudio  2000000     10      Centro  200000.000000  400000.000000\n",
      "2       Pablo Medina  2500000      8  Carmelitas  312500.000000  625000.000000\n",
      "3      Tiago Ramirez  1500000     18         Sur   83333.333333  166666.666667\n",
      "\n",
      "El promedio de cuota mensual de la sucursal sur es: \n",
      "83333.33333333333\n"
     ]
    }
   ],
   "source": [
    "data = {\n",
    "    'Cliente': ['Alejandro Arriola', 'Matias Samudio', 'Pablo Medina', 'Tiago Ramirez'],\n",
    "    'Monto': [1000000, 2000000, 2500000, 1500000],\n",
    "    'Plazo': [12, 10, 8, 18],\n",
    "    'Sucursal': ['Villamorra', 'Centro', 'Carmelitas', 'Sur']\n",
    "}\n",
    "\n",
    "df = pd.DataFrame(data)\n",
    "print(f'Todos los clientes con sus prestamos y sucursales\\n {df}')\n",
    "\n",
    "print('')\n",
    "\n",
    "df['Cuota_Mensual'] = df['Monto'] / df['Plazo']\n",
    "print(df)\n",
    "\n",
    "print('')\n",
    "\n",
    "df['Cuota_Doble'] = df['Cuota_Mensual'] * 2\n",
    "print(df)\n",
    "\n",
    "print('')\n",
    "\n",
    "promedio_sur = df[df['Sucursal'] == 'Sur']['Cuota_Mensual'].mean()\n",
    "print(f'El promedio de cuota mensual de la sucursal sur es: \\n{promedio_sur}')\n",
    "\n"
   ]
  },
  {
   "cell_type": "markdown",
   "id": "fd62c654",
   "metadata": {},
   "source": []
  },
  {
   "cell_type": "markdown",
   "id": "992f9871",
   "metadata": {},
   "source": [
    "## Caso práctico: Tasa de interés efectiva"
   ]
  },
  {
   "cell_type": "markdown",
   "id": "432a0962",
   "metadata": {},
   "source": [
    "## 1. Introducción\n",
    "\n",
    "#### Hasta ahora aprendimos a resumir datos con sum, mean, count y también a crear columnas derivadas.\n",
    "#### Ahora vamos a poner todo junto en un caso práctico del mundo financiero: calcular la tasa de interés efectiva de préstamos.\n",
    "---"
   ]
  },
  {
   "cell_type": "markdown",
   "id": "370de1a8",
   "metadata": {},
   "source": [
    "## 2. necesidad\n",
    "\n",
    "#### En los bancos y financieras no siempre se habla de la tasa nominal anual (TNA), porque esa tasa no refleja el costo real del préstamo.\n",
    "### Ejemplo:\n",
    "\n",
    "- #### Un préstamo puede tener TNA del 24%, pero los pagos se hacen en cuotas mensuales.\n",
    "\n",
    "- #### El efecto de los intereses compuestos (que se van aplicando mes a mes) hace que el cliente realmente pague más.\n",
    "\n",
    "### El jefe del área financiera te pide:\n",
    "\n",
    "- #### Calculemos la tasa efectiva anual (TEA) de cada préstamo.\n",
    "\n",
    "- #### Necesito ver claramente cuánto representa esa diferencia entre lo nominal y lo real.\n",
    "---"
   ]
  },
  {
   "cell_type": "markdown",
   "id": "549d9301",
   "metadata": {},
   "source": [
    "## 3. La herramienta que usaremos\n",
    "\n",
    "### Matemáticamente, la tasa efectiva anual (TEA) se calcula con la fórmula:\n",
    "\n",
    "- ## `TEA=(1+nTNA​)n−1`\n",
    "\n",
    "### Donde:\n",
    "\n",
    "- ### TNA = tasa nominal anual (ej. 0.24 para 24%).\n",
    "\n",
    "- ### n = cantidad de períodos en un año (12 si es mensual, 4 si es trimestral).\n",
    "\n",
    "### En Pandas:\n",
    "\n",
    "- #### Guardamos la fórmula en una columna derivada.\n",
    "\n",
    "- #### Aplicamos la operación a todo el DataFrame de una sola vez.\n",
    "---"
   ]
  },
  {
   "cell_type": "markdown",
   "id": "be9614ec",
   "metadata": {},
   "source": [
    "## 4. Ejemplo en código"
   ]
  },
  {
   "cell_type": "code",
   "execution_count": 27,
   "id": "404140d4",
   "metadata": {},
   "outputs": [
    {
     "name": "stdout",
     "output_type": "stream",
     "text": [
      "Préstamos originales:\n",
      "  Cliente  Monto   TNA  PagosPorAño\n",
      "0     Ana   1000  0.24           12\n",
      "1    Luis   2000  0.30           12\n",
      "2   Sofía   1500  0.18           12\n",
      "3   Marta   3000  0.28           12\n",
      "\n",
      "Con TEA calculada:\n",
      "  Cliente   TNA       TEA\n",
      "0     Ana  0.24  0.268242\n",
      "1    Luis  0.30  0.344889\n",
      "2   Sofía  0.18  0.195618\n",
      "3   Marta  0.28  0.318881\n"
     ]
    }
   ],
   "source": [
    "import pandas as pd\n",
    "\n",
    "# Dataset de préstamos con tasa nominal anual\n",
    "# Creamos el DataFrame con columnas Cliente, Monto, TNA, PagosPorAño.\n",
    "data = {\n",
    "    \"Cliente\": [\"Ana\", \"Luis\", \"Sofía\", \"Marta\"],\n",
    "    \"Monto\":   [1000, 2000, 1500, 3000],\n",
    "    \"TNA\":     [0.24, 0.30, 0.18, 0.28],  # tasas nominales anuales - La columna TNA está en formato decimal (24% → 0.24).\n",
    "    \"PagosPorAño\": [12, 12, 12, 12]       # mensualidad\n",
    "}\n",
    "df = pd.DataFrame(data)\n",
    "\n",
    "print(\"Préstamos originales:\")\n",
    "print(df)\n",
    "\n",
    "# Crear columna derivada: Tasa Efectiva Anual (TEA)\n",
    "# Aplicamos la fórmula directamente a las columnas de Pandas.\n",
    "df[\"TEA\"] = (1 + df[\"TNA\"] / df[\"PagosPorAño\"]) ** df[\"PagosPorAño\"] - 1\n",
    "\n",
    "print(\"\\nCon TEA calculada:\")\n",
    "print(df[[\"Cliente\", \"TNA\", \"TEA\"]]) # Obtenemos una nueva columna TEA con el resultado del cálculo.\n"
   ]
  },
  {
   "cell_type": "markdown",
   "id": "58d45e88",
   "metadata": {},
   "source": [
    "## Otro ejemplo\n",
    "\n",
    "#### Idea\n",
    "\n",
    "#### Tenés una tasa nominal anual (TNA) pagada en períodos (mensual, trimestral, etc.). La tasa efectiva anual (TEA) muestra el rendimiento real con capitalización.\n",
    "\n",
    "### Fórmula:\n",
    "## `TEA = (1 + TNA / n) ^ n − 1`\n",
    "#### n = períodos de capitalización por año."
   ]
  },
  {
   "cell_type": "markdown",
   "id": "961bae71",
   "metadata": {},
   "source": [
    "## Ejemplo en codigo"
   ]
  },
  {
   "cell_type": "code",
   "execution_count": 28,
   "id": "d059b969",
   "metadata": {},
   "outputs": [
    {
     "name": "stdout",
     "output_type": "stream",
     "text": [
      "         Cuenta   TNA  CompPorAño       TEA  Capital_Final\n",
      "0  Plazo Fijo A  0.28          12  0.318881   1.318881e+06\n",
      "1  Plazo Fijo B  0.24           4  0.262477   1.262477e+06\n",
      "2       Bonos C  0.20           2  0.210000   1.210000e+06\n",
      "3       Fondo D  0.18           1  0.180000   1.180000e+06\n"
     ]
    }
   ],
   "source": [
    "import pandas as pd\n",
    "\n",
    "# Inversiones/depósitos\n",
    "data = {\n",
    "    \"Cuenta\": [\"Plazo Fijo A\", \"Plazo Fijo B\", \"Bonos C\", \"Fondo D\"],\n",
    "    \"Capital_Inicial\": [1_000_000, 1_000_000, 1_000_000, 1_000_000],\n",
    "    \"TNA\": [0.28, 0.24, 0.20, 0.18],      # nominal anual\n",
    "    \"CompPorAño\": [12, 4, 2, 1]           # mensual, trimestral, semestral, anual\n",
    "}\n",
    "df = pd.DataFrame(data)\n",
    "\n",
    "# Tasa efectiva anual (rendimiento real)\n",
    "df[\"TEA\"] = (1 + df[\"TNA\"]/df[\"CompPorAño\"])**df[\"CompPorAño\"] - 1\n",
    "\n",
    "# Capital al final del año (aprox.)\n",
    "df[\"Capital_Final\"] = df[\"Capital_Inicial\"] * (1 + df[\"TEA\"])\n",
    "\n",
    "print(df[[\"Cuenta\", \"TNA\", \"CompPorAño\", \"TEA\", \"Capital_Final\"]])\n"
   ]
  },
  {
   "cell_type": "markdown",
   "id": "bd8a7fb1",
   "metadata": {},
   "source": [
    "### Lectura rápida\n",
    "\n",
    "### TEA > TNA cuando hay capitalización (más períodos → mayor TEA).\n",
    "\n",
    "### Capital_Final muestra cuánto rinde el depósito en 1 año considerando la capitalización.\n",
    "---"
   ]
  },
  {
   "cell_type": "markdown",
   "id": "af9090ac",
   "metadata": {},
   "source": [
    "## 6. Ejercicios\n",
    "\n",
    "### Ejercicio 1 – Comparación de tasas\n",
    "#### Tienen un DataFrame con Cliente, Monto, TNA, PagosPorAño.\n",
    "\n",
    "- #### Calcular la columna TEA.\n",
    "\n",
    "- #### Mostrar solo Cliente, TNA y TEA.\n",
    "\n",
    "#### Reflexionar: ¿por qué dos clientes con la misma TNA pueden tener diferente TEA si cambian los períodos de pago?\n",
    "\n",
    "---\n",
    "## Reflexión\n",
    "\n",
    "#### Aunque todos tienen la misma TNA (12%), la TEA cambia porque depende de cuántas veces en el año se capitalizan los intereses:\n",
    "\n",
    "- #### Si te cobran una vez al año, solo aplicás el 12% directo.\n",
    "\n",
    "- #### Si te cobran dos veces (semestral), cada vez se aplica 6% y luego vuelve a sumar intereses → un poquito más del 12%.\n",
    "\n",
    "- #### Si es mensual, se aplica 1% cada mes, y al acumularse los intereses, termina siendo 12,68%.\n",
    "\n",
    "- #### Cuanto más frecuente son los pagos, más alta es la TEA aunque la TNA sea la misma.\n",
    "---"
   ]
  },
  {
   "cell_type": "code",
   "execution_count": 38,
   "id": "a1401857",
   "metadata": {},
   "outputs": [
    {
     "name": "stdout",
     "output_type": "stream",
     "text": [
      "   Cliente   Monto   TNA  PagosPorAño\n",
      "0    Jorge  500000  0.12           12\n",
      "1   Carlos  700000  0.18           12\n",
      "2  Esteban  900000  0.20           12\n",
      "3     Luis  200000  0.24           12\n",
      "\n",
      "   Cliente   Monto   TNA  PagosPorAño       TEA\n",
      "0    Jorge  500000  0.12           12  0.126825\n",
      "1   Carlos  700000  0.18           12  0.195618\n",
      "2  Esteban  900000  0.20           12  0.219391\n",
      "3     Luis  200000  0.24           12  0.268242\n",
      "\n",
      "   Cliente   TNA       TEA\n",
      "0    Jorge  0.12  0.126825\n",
      "1   Carlos  0.18  0.195618\n",
      "2  Esteban  0.20  0.219391\n",
      "3     Luis  0.24  0.268242\n"
     ]
    }
   ],
   "source": [
    "prestamos = {\n",
    "    'Cliente': ['Jorge', 'Carlos', 'Esteban', 'Luis'],\n",
    "    'Monto': [500_000, 700_000, 900_000, 200_000],\n",
    "    'TNA': [0.12, 0.18, 0.20, 0.24],\n",
    "    'PagosPorAño': [12, 12, 12, 12]\n",
    "}\n",
    "\n",
    "df = pd.DataFrame(prestamos)\n",
    "print(df)\n",
    "\n",
    "print('')\n",
    "\n",
    "df['TEA'] = (1 + df['TNA'] / df['PagosPorAño']) ** df['PagosPorAño'] - 1\n",
    "print(df)\n",
    "\n",
    "print('')\n",
    "\n",
    "print(df[['Cliente', 'TNA', 'TEA']])\n"
   ]
  }
 ],
 "metadata": {
  "kernelspec": {
   "display_name": ".venv",
   "language": "python",
   "name": "python3"
  },
  "language_info": {
   "codemirror_mode": {
    "name": "ipython",
    "version": 3
   },
   "file_extension": ".py",
   "mimetype": "text/x-python",
   "name": "python",
   "nbconvert_exporter": "python",
   "pygments_lexer": "ipython3",
   "version": "3.11.6"
  }
 },
 "nbformat": 4,
 "nbformat_minor": 5
}
