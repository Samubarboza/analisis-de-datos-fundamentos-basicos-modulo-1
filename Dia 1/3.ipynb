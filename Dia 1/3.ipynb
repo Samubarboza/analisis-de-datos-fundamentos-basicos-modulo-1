{
 "cells": [
  {
   "cell_type": "markdown",
   "id": "0beff9fa",
   "metadata": {},
   "source": []
  },
  {
   "cell_type": "markdown",
   "id": "9c9c89e9",
   "metadata": {},
   "source": [
    "# Repaso de Python - Condicionales (if / else) - Bucles (for / while) - funciones"
   ]
  },
  {
   "cell_type": "markdown",
   "id": "de607e7f",
   "metadata": {},
   "source": [
    "**Introducción**\n",
    "\n",
    "Antes de entrar en NumPy y Pandas, repasemos algunas bases de Python que vamos a usar todo el tiempo en análisis de datos.\n",
    "Empezamos con las condicionales.\n",
    "Las condicionales nos permiten tomar decisiones según los datos.\n",
    "- Ejemplo en la vida real:\n",
    "\n",
    "Si un cliente es mayor de edad, puede acceder a un préstamo.\n",
    "\n",
    "Si gasta más de cierto monto, puede ser considerado cliente Premium.\n",
    "\n",
    "📌 Concepto rápido\n",
    "\n",
    "En Python, los condicionales (if / else) permiten que el programa tome decisiones según los datos.\n",
    "\n",
    "También esta elif, que permite evaluar más de una condición en cadena.\n",
    "\n",
    "- if = “si pasa algo, hago esto”.\n",
    "\n",
    "- else = “si no pasa, hago otra cosa”.\n",
    "\n",
    "Son útiles para clasificar, validar reglas y controlar el flujo de un programa."
   ]
  },
  {
   "cell_type": "markdown",
   "id": "4a9cd7b2",
   "metadata": {},
   "source": []
  },
  {
   "cell_type": "markdown",
   "id": "def80222",
   "metadata": {},
   "source": [
    "# Repaso condicionales"
   ]
  },
  {
   "cell_type": "markdown",
   "id": "e858c636",
   "metadata": {},
   "source": [
    "\n",
    "En Python, los condicionales (if / else) permiten que el programa tome decisiones según los datos.\n",
    "\n",
    "Con if se ejecuta un bloque de código solo si la condición es verdadera.\n",
    "\n",
    "Con else se define qué hacer cuando la condición no se cumple.\n",
    "\n",
    "También esta elif, que permite evaluar más de una condición en cadena.\n",
    "\n",
    "Son útiles para clasificar, validar reglas y controlar el flujo de un programa.\n",
    "\n",
    "--- \n",
    "\n",
    "## Ejercicio – Condicionales \n",
    "\n",
    "Tenemos un registro de un cliente que incluye dos datos: su edad y el monto de su compra.\n",
    "Con esa información, debemos responder a dos preguntas:\n",
    "\n",
    "- ¿El cliente es mayor de edad? (es decir, tiene 18 años o más).\n",
    "\n",
    "- ¿El monto de su compra es de Gs 100.000 o más?\n",
    "\n",
    "- Si es así, el cliente debe ser marcado como Cliente Premium.\n",
    "\n",
    "- Si no alcanza ese monto, se mantiene como cliente regular."
   ]
  },
  {
   "cell_type": "code",
   "execution_count": 11,
   "id": "4778511c",
   "metadata": {},
   "outputs": [
    {
     "name": "stdout",
     "output_type": "stream",
     "text": [
      "Mayor de edad: Sí\n",
      "Cliente Premium: Sí\n"
     ]
    }
   ],
   "source": [
    "# Registro de cliente\n",
    "cliente = {\"edad\": 20, \"monto_compra\": 120.0}\n",
    "minimo = 100.0\n",
    "\n",
    "# Condiciones\n",
    "mayor_edad = cliente[\"edad\"] >= 18\n",
    "es_premium = cliente[\"monto_compra\"] >= minimo\n",
    "\n",
    "# Resultados\n",
    "print(\"Mayor de edad:\", \"Sí\" if mayor_edad else \"No\")\n",
    "print(\"Cliente Premium:\", \"Sí\" if es_premium else \"No\")\n"
   ]
  },
  {
   "cell_type": "code",
   "execution_count": 12,
   "id": "2826f369",
   "metadata": {},
   "outputs": [
    {
     "name": "stdout",
     "output_type": "stream",
     "text": [
      "Mayor de edad: Sí\n",
      "Cliente Premium: Sí\n"
     ]
    }
   ],
   "source": [
    "# Datos del cliente\n",
    "edad = 20\n",
    "monto_compra = 120\n",
    "minimo = 100\n",
    "\n",
    "# Verificaciones\n",
    "if edad >= 18:\n",
    "    print(\"Mayor de edad: Sí\")\n",
    "else:\n",
    "    print(\"Mayor de edad: No\")\n",
    "\n",
    "if monto_compra >= minimo:\n",
    "    print(\"Cliente Premium: Sí\")\n",
    "else:\n",
    "    print(\"Cliente Premium: No\")\n"
   ]
  },
  {
   "cell_type": "markdown",
   "id": "59f79f42",
   "metadata": {},
   "source": []
  },
  {
   "cell_type": "markdown",
   "id": "e4d31c0d",
   "metadata": {},
   "source": [
    "# Repaso de Python – Bucles (for / while)"
   ]
  },
  {
   "cell_type": "markdown",
   "id": "d27ddbaf",
   "metadata": {},
   "source": [
    "Ahora vamos a repasar los bucles.\n",
    "\n",
    "Los bucles sirven para repetir instrucciones automáticamente sin tener que escribir lo mismo muchas veces.\n",
    "\n",
    "En análisis de datos los usamos para:\n",
    "\n",
    "- Recorrer listas (como si fueran filas de un dataset).\n",
    "\n",
    "- Hacer cálculos acumulados (sumas, promedios, etc.).\n",
    "\n",
    "En este repaso vamos a practicar con el bucle for, que es el más usado y suficiente para nuestros ejemplos."
   ]
  },
  {
   "cell_type": "markdown",
   "id": "a6b72f72",
   "metadata": {},
   "source": [
    "# ¿Por qué no usamos while en este módulo?\n",
    "\n",
    "En análisis de datos lo más común es recorrer listas o colecciones → para eso for es más claro y directo.\n",
    "\n",
    "while se usa más cuando no sabemos cuántas veces se repetirá la acción (ej: esperar datos hasta que el usuario escriba “salir”), y en este módulo no tenemos ese tipo de problemas.\n",
    "\n",
    "Como el objetivo acá es enfocarnos en NumPy y Pandas, nos alcanza con for como repaso básico. Después, esas mismas tareas se hacen con métodos propios de las librerías.\n",
    "\n",
    " si preguntan “¿y el while?”\n",
    "\n",
    "“El while existe y sirve para repetir hasta que se cumpla una condición. \n",
    "\n",
    "Pero en análisis de datos casi nunca lo necesitamos, porque lo que más hacemos es recorrer listas o filas de datos, \n",
    "\n",
    "y para eso el for es mucho más práctico. Por eso en este módulo lo mencionamos, pero no lo vamos a practicar.”"
   ]
  },
  {
   "cell_type": "markdown",
   "id": "3a06262f",
   "metadata": {},
   "source": [
    "# Ejercicio\n",
    "\n",
    "Tenemos una lista con las ventas diarias de un negocio.\n",
    "\n",
    "Recorrer la lista y calcular el total de ingresos.\n",
    "\n",
    "Mostrar en pantalla los primeros 10 días de ventas."
   ]
  },
  {
   "cell_type": "code",
   "execution_count": 13,
   "id": "291695bc",
   "metadata": {},
   "outputs": [
    {
     "name": "stdout",
     "output_type": "stream",
     "text": [
      "Total de ingresos: 2670\n",
      "Día 1 : 120\n",
      "Día 2 : 250\n",
      "Día 3 : 90\n",
      "Día 4 : 300\n",
      "Día 5 : 150\n",
      "Día 6 : 200\n",
      "Día 7 : 80\n",
      "Día 8 : 400\n",
      "Día 9 : 100\n",
      "Día 10 : 220\n"
     ]
    }
   ],
   "source": [
    "# Primero creamos la lista de ventas (nuestra base de datos simulada)\n",
    "ventas = [120, 250, 90, 300, 150, 200, 80, 400, 100, 220, 130, 170, 90, 60, 310]\n",
    "\n",
    "# Paso 1: inicializamos el total de ingresos en 0\n",
    "total = 0\n",
    "\n",
    "# Paso 2: recorremos cada venta de la lista usando un bucle for\n",
    "for v in ventas:\n",
    "    # en cada vuelta vamos sumando la venta al total\n",
    "    total = total + v\n",
    "\n",
    "# Paso 3: al terminar el bucle mostramos el total acumulado\n",
    "print(\"Total de ingresos:\", total)\n",
    "\n",
    "# Paso 4: ahora queremos mostrar solo los primeros 10 días\n",
    "for i in range(10):\n",
    "    # i es nuestro contador que empieza en 0 y termina en 9\n",
    "    print(\"Día\", i+1, \":\", ventas[i])\n",
    "\n"
   ]
  },
  {
   "cell_type": "markdown",
   "id": "516e5871",
   "metadata": {},
   "source": [
    "# Repaso de Python – Funciones"
   ]
  },
  {
   "cell_type": "markdown",
   "id": "24f6ae59",
   "metadata": {},
   "source": [
    "## Concepto básico\n",
    "\n",
    "Una función es como una pequeña herramienta dentro de nuestro programa.\n",
    "\n",
    "- La idea es simple: le damos datos de entrada, hace su trabajo, y nos devuelve un resultado.\n",
    "\n",
    "Se usan cuando queremos organizar mejor el código y evitar repetir las mismas instrucciones varias veces.\n",
    "\n",
    "#### ***En análisis de datos son muy útiles porque muchas operaciones se repiten:***\n",
    "\n",
    "Calcular promedios o totales.\n",
    "\n",
    "Encontrar valores máximos y mínimos.\n",
    "\n",
    "Aplicar la misma transformación a diferentes conjuntos de datos.\n",
    "\n",
    "Con una función, esas tareas quedan encapsuladas en un solo lugar: el código se vuelve más claro, ordenado y fácil de reutilizar.\n",
    "\n",
    "### ¿Por qué se usan en análisis de datos?\n",
    "\n",
    "- Nos ayudan a automatizar cálculos que hacemos varias veces.\n",
    "\n",
    "- Mejoran la claridad del código (ejemplo: calcular_promedio() se entiende al leerlo).\n",
    "\n",
    "- Facilitan el trabajo en equipo, porque cada función cumple una tarea específica."
   ]
  },
  {
   "cell_type": "code",
   "execution_count": 14,
   "id": "02a55383",
   "metadata": {},
   "outputs": [
    {
     "name": "stdout",
     "output_type": "stream",
     "text": [
      "Promedio de ventas: 182.0\n",
      "Venta máxima: 300\n",
      "Venta mínima: 90\n"
     ]
    }
   ],
   "source": [
    "# Primero creamos la lista de ventas (nuestros datos de entrada)\n",
    "ventas = [120, 250, 90, 300, 150]\n",
    "\n",
    "# Luego definimos una función para analizar esas ventas\n",
    "def analizar_ventas(ventas):\n",
    "    # Paso 1: calcular el promedio (suma de todas las ventas dividido entre la cantidad)\n",
    "    promedio = sum(ventas) / len(ventas)\n",
    "    \n",
    "    # Paso 2: calcular el valor máximo (la venta más alta)\n",
    "    maximo = max(ventas)\n",
    "    \n",
    "    # Paso 3: calcular el valor mínimo (la venta más baja)\n",
    "    minimo = min(ventas)\n",
    "    \n",
    "    # Paso 4: devolver los tres resultados juntos\n",
    "    return promedio, maximo, minimo\n",
    "\n",
    "# Ahora usamos la función y guardamos el resultado\n",
    "resultado = analizar_ventas(ventas)\n",
    "\n",
    "# Finalmente mostramos en pantalla los resultados\n",
    "print(\"Promedio de ventas:\", resultado[0])\n",
    "print(\"Venta máxima:\", resultado[1])\n",
    "print(\"Venta mínima:\", resultado[2])\n"
   ]
  },
  {
   "cell_type": "markdown",
   "id": "04e6a572",
   "metadata": {},
   "source": [
    "# Cierre del bloque de funciones\n",
    "\n",
    "Bien, con esto terminamos el repaso de funciones en Python.\n",
    "\n",
    "Ya vimos cómo crear pequeñas herramientas que reciben datos, los procesan y nos devuelven un resultado.\n",
    "\n",
    "Esto nos va a servir muchísimo cuando trabajemos con librerías de análisis, porque muchas de ellas ya traen funciones listas para usar."
   ]
  },
  {
   "cell_type": "markdown",
   "id": "a81b8d75",
   "metadata": {},
   "source": [
    "# Cierre del bloque completo de repaso\n",
    "\n",
    "Con esto cerramos todo el repaso de bases de Python: condicionales, bucles y funciones.\n",
    "\n",
    "No necesitamos profundizar más, porque la idea era recordar lo esencial que vamos a usar a lo largo del módulo."
   ]
  },
  {
   "cell_type": "markdown",
   "id": "e09fb895",
   "metadata": {},
   "source": []
  }
 ],
 "metadata": {
  "kernelspec": {
   "display_name": "venv",
   "language": "python",
   "name": "python3"
  },
  "language_info": {
   "codemirror_mode": {
    "name": "ipython",
    "version": 3
   },
   "file_extension": ".py",
   "mimetype": "text/x-python",
   "name": "python",
   "nbconvert_exporter": "python",
   "pygments_lexer": "ipython3",
   "version": "3.13.1"
  }
 },
 "nbformat": 4,
 "nbformat_minor": 5
}
