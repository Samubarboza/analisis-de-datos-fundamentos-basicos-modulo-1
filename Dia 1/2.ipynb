{
 "cells": [
  {
   "cell_type": "markdown",
   "id": "5655ae39",
   "metadata": {},
   "source": []
  },
  {
   "cell_type": "markdown",
   "id": "519af7f4",
   "metadata": {},
   "source": [
    "# Uso de la IA en el curso"
   ]
  },
  {
   "cell_type": "markdown",
   "id": "28bc8b45",
   "metadata": {},
   "source": [
    "#### Además de Python y Jupyter, durante este curso vamos a apoyarnos en herramientas de IA, como ChatGPT o Copilot.\n",
    "#### ¿Por qué? Porque hoy en día son parte del trabajo real: te ayudan a escribir, entender y corregir código más rápido.\n",
    "\n",
    "Ideas extra para reforzar\n",
    "\n",
    "Aprender a preguntar bien: mientras más claro seas, mejor la respuesta.\n",
    "\n",
    "Usar la IA como explicación, no como atajo: pedir “explicame paso a paso este error” en vez de “dame el código hecho”.\n",
    "\n",
    "Validar siempre: la IA se puede equivocar. Probar y revisar es parte del aprendizaje.\n",
    "\n",
    "Practicar pensamiento crítico: comparar lo que responde la IA con lo que vos entendés.\n",
    "\n",
    "Practicar pensamiento crítico: comparar lo que responde la IA con lo que vos entendés.\n",
    "\n",
    "---\n",
    "\n",
    "\n",
    "---\n"
   ]
  },
  {
   "cell_type": "markdown",
   "id": "ff435311",
   "metadata": {},
   "source": [
    "# Como pedir ayuda correctamente"
   ]
  },
  {
   "cell_type": "markdown",
   "id": "236c3470",
   "metadata": {},
   "source": [
    "1. **Copiá el error completo**\n",
    "\n",
    "   * La IA necesita ver el mensaje exacto.\n",
    "   * Ejemplo:\n",
    "     ❌ “Tengo un error.”\n",
    "    ✅ “Me aparece `ValueError: could not convert string to float: 'abc'`.”\n",
    "\n",
    "2. **Mostrá el código donde ocurre**\n",
    "\n",
    "   * No hace falta todo el archivo, solo el fragmento.\n",
    "   * Ejemplo:\n",
    "\n",
    "     ```python\n",
    "     ventas = [100, 200, 'abc']\n",
    "     promedio = sum(ventas) / len(ventas)\n",
    "     ```\n",
    "\n",
    "3. **Sé específico en la pregunta**\n",
    "\n",
    "   * En vez de: “No funciona”, mejor:\n",
    "     “¿Qué significa este error y cómo puedo corregirlo?”\n",
    "\n",
    "4. **Preguntá paso a paso**\n",
    "\n",
    "   * Podés dividir: primero entender el error, después pedir una solución.\n",
    "   * Ejemplo:\n",
    "\n",
    "     * Paso 1: “¿Qué significa `IndexError` en Python?”\n",
    "     * Paso 2: “¿Cómo evitar que `ventas[10]` me dé ese error?”\n",
    "\n",
    "---\n",
    "\n",
    "✅ **En resumen**: **Error + código + pregunta clara** = buena respuesta.\n",
    "\n",
    "---\n"
   ]
  },
  {
   "cell_type": "markdown",
   "id": "41cf540b",
   "metadata": {},
   "source": [
    "# Uso responsable de la IA"
   ]
  },
  {
   "cell_type": "markdown",
   "id": "9b4ac3ea",
   "metadata": {},
   "source": [
    "1. **La IA es apoyo, no reemplazo**\n",
    "\n",
    "   * Sirve para aclarar dudas y guiarte, pero el aprendizaje real viene de practicar vos mismo.\n",
    "\n",
    "2. **No copies-peques sin entender**\n",
    "\n",
    "   * Podés usar el código que te da la IA, pero **antes de correrlo**, preguntate: *¿entiendo qué hace cada línea?*\n",
    "   * Si no lo entendés, pedile: *“explicame este código paso a paso”*.\n",
    "\n",
    "3. **Probá y analizá siempre**\n",
    "\n",
    "   * La IA puede equivocarse. Tu tarea es **ejecutar, revisar y validar** el resultado.\n",
    "\n",
    "4. **Pensalo como un profe particular 24/7**\n",
    "\n",
    "   * El profe explica, pero vos tenés que resolver los ejercicios y equivocarte para aprender.\n",
    "\n",
    "\n",
    "---\n",
    "\n",
    "### ❌ Prompts NO responsables\n",
    "\n",
    "* “No funciona mi código, arreglalo.”\n",
    "* “Explicame todo Pandas.”\n",
    "* “Dame el código hecho para resolver este ejercicio.”\n",
    "\n",
    "---\n",
    "\n",
    "### ✅ Prompts responsables\n",
    "\n",
    "* “Me aparece el error `ValueError` en esta parte de mi código. ¿Qué significa y cómo puedo solucionarlo?”\n",
    "* “¿Podés explicarme con un ejemplo sencillo cómo funciona `groupby` en Pandas?”\n",
    "* “La IA me dio este código, ¿me lo explicás paso a paso para entenderlo antes de usarlo?”\n",
    "\n",
    "---\n"
   ]
  },
  {
   "cell_type": "markdown",
   "id": "1598d20c",
   "metadata": {},
   "source": [
    "# En resumen\n",
    "\n"
   ]
  },
  {
   "cell_type": "markdown",
   "id": "26ed035f",
   "metadata": {},
   "source": [
    "\n",
    "\n",
    "Durante el curso podés usar ChatGPT/Copilot para:\n",
    "\n",
    "* **Entender errores** (qué significan y cómo resolverlos).\n",
    "* **Ver ejemplos simples** para inspirarte.\n",
    "* **Aclarar conceptos** cuando algo no quede claro.\n",
    "\n",
    "⚠️ **Pero ojo**: la práctica y el entendimiento son tuyos.\n",
    "La IA ayuda, pero **vos sos quien aprende y construye el conocimiento**.\n",
    "\n",
    "---\n",
    "\n"
   ]
  },
  {
   "cell_type": "markdown",
   "id": "4583999d",
   "metadata": {},
   "source": []
  }
 ],
 "metadata": {
  "kernelspec": {
   "display_name": "venv",
   "language": "python",
   "name": "python3"
  },
  "language_info": {
   "name": "python",
   "version": "3.13.1"
  }
 },
 "nbformat": 4,
 "nbformat_minor": 5
}
