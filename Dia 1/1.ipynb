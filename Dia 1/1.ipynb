{
 "cells": [
  {
   "cell_type": "markdown",
   "id": "444c8540",
   "metadata": {},
   "source": []
  },
  {
   "cell_type": "markdown",
   "id": "c28c4297",
   "metadata": {},
   "source": [
    "# Bloque Introductorio – Módulo 1: Fundamentos de NumPy y Pandas\n",
    "\n",
    "#### Bienvenidos al **Módulo 1 de Análisis de Datos**. Durante este primer modulo vamos a sentar las bases que necesitamos para trabajar con dos herramientas clave en el mundo del análisis: **NumPy** y **Pandas**.\n",
    "\n",
    "##### El objetivo es que, al terminar el módulo, tengas la seguridad de manejar lo esencial:\n",
    "\n",
    "- ##### Entender cómo funcionan los **arrays numéricos** con NumPy.\n",
    "- ##### Aprender a trabajar con **tablas de datos tipo Excel en Python** usando Pandas.\n",
    "- ##### Hacer operaciones básicas, agrupar información y calcular métricas que después te servirán en proyectos reales.\n",
    "\n",
    "##### Antes de meternos de lleno con estas librerías, vamos a repasar juntos lo más importante de **Python aplicado al análisis de datos**: condicionales, bucles, funciones y cómo esos bloques se transforman en herramientas para entender datasets.\n",
    "\n",
    "#### Además, arrancaremos con algo fundamental:\n",
    "\n",
    "- ##### La diferencia entre usar un **script (.py)** y un **notebook (.ipynb)**.\n",
    "- ##### Cómo apoyarnos de la **IA (ChatGPT o Copilot)** para aprender mejor, resolver dudas y entender errores sin que reemplace tu aprendizaje, sino que lo potencie.\n",
    "\n",
    "#### En este módulo también vas a tener pequeños desafíos prácticos, como marcar si un cliente es “Premium”, calcular ingresos a partir de ventas diarias, o crear funciones que hagan un mini-análisis parecido a lo que luego hará Pandas.\n",
    "\n",
    "#### La idea es que no solo leas teoría, sino que pongas manos al teclado y practiques cada concepto. Todo lo que veamos será aplicado a ejemplos de **finanzas y negocios**, para que siempre entiendas el “para qué” de lo que estás haciendo.\n",
    "\n",
    "#### Al final del modulo, vas a construir un notebook que:\n",
    "\n",
    "- ##### Carga un dataset financiero real.\n",
    "- ##### Limpia y organiza los datos.\n",
    "- ##### Calcula métricas descriptivas (como montos promedio o % de mora).\n",
    "- ##### Presenta resultados claros en una tabla y un gráfico simple.\n",
    "\n",
    "#### En resumen: este módulo es tu puerta de entrada a trabajar con datos en serio. Aprenderás no solo a usar NumPy y Pandas, sino también a pensar como un analista: estructurar, filtrar, calcular y presentar información de forma clara y útil.\n",
    "\n",
    "---\n",
    "\n"
   ]
  },
  {
   "cell_type": "markdown",
   "id": "3889e128",
   "metadata": {},
   "source": [
    "# Bloque introductorio"
   ]
  },
  {
   "cell_type": "markdown",
   "id": "904aada8",
   "metadata": {},
   "source": [
    "Bueno, hoy vamos a arrancar con algo muy importante:\n",
    "vamos a trabajar con Jupyter Notebook.\n",
    "\n",
    "Seguramente ya lo tienen instalado, porque en los requisitos del curso les pedimos que lo instalen junto con Python.\n",
    "¿Y por qué insistimos en Jupyter?\n",
    "Porque es una de las herramientas más usadas en análisis de datos.\n",
    "Los científicos de datos, analistas y hasta ingenieros lo usan todos los días para probar código, analizar datasets y mostrar resultados con gráficos.\n",
    "\n",
    "Así que lo que aprendamos hoy, les va a servir no solo para este curso, sino también para cualquier trabajo real en datos."
   ]
  },
  {
   "cell_type": "markdown",
   "id": "17831ad9",
   "metadata": {},
   "source": [
    "# 📂 Script vs Notebook"
   ]
  },
  {
   "cell_type": "markdown",
   "id": "26b53124",
   "metadata": {},
   "source": [
    "## ¿Que es un script?\n",
    "Un script es un archivo de texto con instrucciones que la computadora puede ejecutar. Es el archivo de python donde escribimos codigo para desarrollar un programita.\n",
    "\n",
    "## ¿Que es un notebook?\n",
    "Un notebook es como un cuaderno digital donde mezclás código, notas y resultados todo en un mismo lugar.\n",
    "es como una hoja interactiva donde podés probar código pedacito por pedacito y ver el resultado al instante.\n",
    "### Analogía: es como tener una pizarra mágica donde escribís algo, apretás un botón, y la pizarra te muestra la respuesta justo debajo.\n",
    "\n",
    "\n",
    "📂 **Diferencia principal**\n",
    "\n",
    "* **Script (.py):** se ejecuta todo de arriba a abajo de una vez. Sirve para código ya terminado y repetible.\n",
    "* **Notebook (.ipynb):** está dividido en celdas. Podés ejecutar cada celda por separado y ver el resultado debajo. Perfecto para explorar y aprender.\n",
    "\n",
    " **Analogía:**\n",
    "\n",
    "* Script = receta final.\n",
    "* Notebook = cuaderno de pruebas.\n",
    "\n",
    " **Cuidado:** en notebooks las variables quedan en memoria del kernel. Si corrés celdas desordenadas, podés obtener resultados raros. Siempre que termines, usá *Restart & Run All*.\n",
    "\n",
    " **Durante este curso trabajaremos con notebooks**, porque nos permiten aprender de forma práctica y ver resultados al instante.\n"
   ]
  },
  {
   "cell_type": "markdown",
   "id": "8395c514",
   "metadata": {},
   "source": []
  },
  {
   "cell_type": "markdown",
   "id": "f0fbfd14",
   "metadata": {},
   "source": [
    "# Conceptos a remarcar\n",
    "\n",
    "## 1- Ejecusion de codigo: \n",
    "##### .py: corre todo seguido (de arriba a abajo)\n",
    "##### .ipynb: corre celda por celda (podemos probar nosotros lo que queremos que corra)\n",
    "\n",
    "\n",
    "## 2- Variables y memoria:\n",
    "##### .py: las variables se crean, se usan y al terminar el script desaparecen.\n",
    "##### .ipynb: las variables quedan en la memoria del kernel y se pueden usar en otras celdas.\n",
    "\n",
    "## 3- Interactividad:\n",
    "##### .py: muestra los resultados solo con print() o guardando archivos\n",
    "##### .ipynb: los resultados (tablas, graficos, texto) aparecen debajo de cada celda.\n",
    "\n",
    "En un script (.py) siempre necesitás print() para ver algo.\n",
    "En un notebook (.ipynb) no hace falta: si la última línea de la celda es una variable o expresión, se muestra sola debajo.\n",
    "\n",
    "# Ejemplo:\n",
    "\n",
    "En script (.py):\n",
    "x = 5 + 3\n",
    "print(x)   # necesario\n",
    "\n",
    "\n",
    "En notebook (.ipynb):\n",
    "x = 5 + 3\n",
    "x   # se muestra sin print\n",
    "\n",
    "\n",
    "## 4- Documentacion:\n",
    "##### .py: comentarios solo con #\n",
    "##### .ipynb: celdas de texto (markdown) con titulos, explicaciones, imagenes\n",
    "\n",
    "\n",
    "## 5- Uso tipico: \n",
    "##### .py codigo final, produccion\n",
    "##### ipynb: exploracion de datos, aprendizaje, reportes\n"
   ]
  },
  {
   "cell_type": "markdown",
   "id": "020f3c1a",
   "metadata": {},
   "source": []
  }
 ],
 "metadata": {
  "language_info": {
   "name": "python"
  }
 },
 "nbformat": 4,
 "nbformat_minor": 5
}
